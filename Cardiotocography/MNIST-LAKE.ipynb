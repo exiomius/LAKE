{
 "cells": [
  {
   "cell_type": "code",
   "execution_count": 1,
   "metadata": {},
   "outputs": [],
   "source": [
    "from IPython.display import display, clear_output\n",
    "import plotly.graph_objs as go\n",
    "import plotly.graph_objects as go\n",
    "import matplotlib.pyplot as plt\n",
    "\n",
    "import numpy as np\n",
    "import pandas as pd\n",
    "import time\n",
    "import os\n",
    "\n",
    "import torch\n",
    "import torch.nn as nn\n",
    "import torch.nn.functional as F\n",
    "from torch.utils.data import DataLoader, random_split\n",
    "from torchvision import datasets, transforms\n",
    "\n",
    "from sklearn.decomposition import PCA"
   ]
  },
  {
   "cell_type": "markdown",
   "metadata": {},
   "source": [
    "# Testing GPU acceleration"
   ]
  },
  {
   "cell_type": "markdown",
   "metadata": {},
   "source": [
    "To set the GPU acceleration properly up on Pytorch for a .ipynb file on Axon. <br>\n",
    "You have to first use nvidia-smi to see an unused GPU,  <br>\n",
    "then use nvidia-smi -L to see its MIG ID, and set it as an environmental variable.<br>\n"
   ]
  },
  {
   "cell_type": "code",
   "execution_count": 2,
   "metadata": {},
   "outputs": [],
   "source": [
    "# Prompt for the CUDA_VISIBLE_DEVICES value\n",
    "cuda_device = input(\"Enter the CUDA_VISIBLE_DEVICES value: \")\n",
    "os.environ['CUDA_VISIBLE_DEVICES'] = cuda_device"
   ]
  },
  {
   "cell_type": "code",
   "execution_count": 3,
   "metadata": {},
   "outputs": [
    {
     "name": "stdout",
     "output_type": "stream",
     "text": [
      "Is CUDA available: True\n",
      "Using device: cuda\n"
     ]
    }
   ],
   "source": [
    "# Check if CUDA is available\n",
    "is_cuda_available = torch.cuda.is_available()\n",
    "print(\"Is CUDA available:\", is_cuda_available)\n",
    "\n",
    "# Determine the device to use: GPU (CUDA), Apple Silicon (MPS), or CPU\n",
    "DEVICE = (\n",
    "    \"cuda\"\n",
    "    if torch.cuda.is_available()\n",
    "    else \"mps\"\n",
    "    if torch.backends.mps.is_available()\n",
    "    else \"cpu\"\n",
    ")\n",
    "print(\"Using device:\", DEVICE)"
   ]
  },
  {
   "cell_type": "code",
   "execution_count": 4,
   "metadata": {},
   "outputs": [
    {
     "name": "stdout",
     "output_type": "stream",
     "text": [
      "Test tensor on CUDA: tensor([1., 2., 3.], device='cuda:0')\n"
     ]
    }
   ],
   "source": [
    "if torch.cuda.is_available():\n",
    "    # Test tensor operation on GPU\n",
    "    test_tensor = torch.tensor([1.0, 2.0, 3.0], device=\"cuda\")\n",
    "    print(\"Test tensor on CUDA:\", test_tensor)"
   ]
  },
  {
   "cell_type": "code",
   "execution_count": 5,
   "metadata": {},
   "outputs": [
    {
     "name": "stdout",
     "output_type": "stream",
     "text": [
      "Successfully moved a tensor to the device: tensor([1, 2, 3], device='cuda:0')\n"
     ]
    }
   ],
   "source": [
    "if is_cuda_available:\n",
    "    try:\n",
    "        test_tensor = torch.tensor([1, 2, 3], device=DEVICE)\n",
    "        print(\"Successfully moved a tensor to the device:\", test_tensor)\n",
    "    except RuntimeError as e:\n",
    "        print(\"Error moving a tensor to the device:\", e)"
   ]
  },
  {
   "cell_type": "markdown",
   "metadata": {},
   "source": [
    "# Defining VAE classes"
   ]
  },
  {
   "cell_type": "code",
   "execution_count": 6,
   "metadata": {},
   "outputs": [],
   "source": [
    "class StandardVAE(nn.Module):\n",
    "    def __init__(self, latent_dim=20, w_dim=10):\n",
    "        super(StandardVAE, self).__init__()\n",
    "        self.latent_dim = latent_dim\n",
    "\n",
    "        # Encoder layers\n",
    "        # Input: [bs, 1, 28, 28]\n",
    "        self.enc_conv1 = nn.Conv2d(1, 16, kernel_size=3, stride=2, padding=1)  # Output: [bs, 16, 14, 14]\n",
    "        self.enc_conv2 = nn.Conv2d(16, 32, kernel_size=3, stride=2, padding=1) # Output: [bs, 32, 7, 7]\n",
    "        self.enc_fc1 = nn.Linear(32 * 7 * 7, w_dim)  # Output: [bs, 128]\n",
    "        # Two output layers for the latent space\n",
    "        self.enc_fc2 = nn.Linear(w_dim, latent_dim)  # For mu, Output: [bs, latent_dim]\n",
    "        self.enc_fc3 = nn.Linear(w_dim, latent_dim)  # For logvar, Output: [bs, latent_dim]\n",
    "\n",
    "        # Decoder layers\n",
    "        self.dec_fc1 = nn.Linear(latent_dim, w_dim)  # Output: [bs, 128]\n",
    "        self.dec_fc2 = nn.Linear(w_dim, 32 * 7 * 7)  # Output: [bs, 1568]\n",
    "        self.dec_conv1 = nn.ConvTranspose2d(32, 16, kernel_size=3, stride=2, padding=1, output_padding=1)  # Output: [bs, 16, 14, 14]\n",
    "        self.dec_conv2 = nn.ConvTranspose2d(16, 1, kernel_size=3, stride=2, padding=1, output_padding=1)  # Output: [bs, 1, 28, 28]\n",
    "\n",
    "    def encode(self, x):\n",
    "        h = F.relu(self.enc_conv1(x))\n",
    "        h = F.relu(self.enc_conv2(h))\n",
    "        h = torch.flatten(h, start_dim=1)\n",
    "        h = F.relu(self.enc_fc1(h))\n",
    "        return self.enc_fc2(h), self.enc_fc3(h)\n",
    "\n",
    "    def reparameterize(self, mu, logvar):\n",
    "        std = torch.exp(0.5 * logvar)\n",
    "        # Returns a tensor with the same size as input that is filled with random numbers from a normal distribution with mean 0 and variance 1.\n",
    "        eps = torch.randn_like(std)\n",
    "        return mu + eps * std\n",
    "\n",
    "    def decode(self, z):\n",
    "        h = F.relu(self.dec_fc1(z)) \n",
    "        h = F.relu(self.dec_fc2(h)).view(-1, 32, 7, 7) # .view reshapes [bs, 1568] to [bs, 32, 7, 7]\n",
    "        h = F.relu(self.dec_conv1(h))\n",
    "        return torch.sigmoid(self.dec_conv2(h))\n",
    "\n",
    "    def forward(self, x):\n",
    "        mu, logvar = self.encode(x)\n",
    "        z = self.reparameterize(mu, logvar)\n",
    "        return self.decode(z), z, mu, logvar\n",
    "\n",
    "def loss_function_standard(recon_x, z, mu, logvar, x):\n",
    "    BCE = F.binary_cross_entropy(recon_x, x, reduction='sum')\n",
    "    KLD = -0.5 * torch.sum(1 + logvar - mu.pow(2) - logvar.exp())\n",
    "    # Can reweight BCE + KLD as desired\n",
    "    return BCE + KLD"
   ]
  },
  {
   "cell_type": "markdown",
   "metadata": {},
   "source": [
    "LakeVAE inheirits from StandardVAE, but with a modified forward pass.\n",
    "Its encoding and decoding layers are identicle. \n",
    "The only difference is that the forward pass stores and returns all the intermediate values required to calculate the modified reconstruction loss.\n",
    "\n",
    "Since pixel values are either 0 or 1, we can use BCE between the input image and output image.\n",
    "However, for the intermediate layers, that are continuous, we use can MSE instead. This is also what the paper's code does in practice."
   ]
  },
  {
   "cell_type": "code",
   "execution_count": 7,
   "metadata": {},
   "outputs": [],
   "source": [
    "class LakeVAE(StandardVAE):\n",
    "    def forward(self, x):\n",
    "        # Encoder layers\n",
    "        # Input: [bs, 1, 28, 28]\n",
    "        enc_conv1_out = F.relu(self.enc_conv1(x))  # Output: [bs, 16, 14, 14]\n",
    "        enc_conv2_out = F.relu(self.enc_conv2(enc_conv1_out))  # Output: [bs, 32, 7, 7]\n",
    "        flattened = torch.flatten(enc_conv2_out, start_dim=1)  # Output: [bs, 1568]\n",
    "        \n",
    "        w = F.relu(self.enc_fc1(flattened))  # Output: [bs, 128] # Eqn (5) in LAKE paper\n",
    "        # w = self.enc_fc1(flattened)  # Not sure if relu is used in the paper or not. Output: [bs, 128] # Eqn (5) in LAKE paper\n",
    "        \n",
    "        mu, logvar = self.enc_fc2(w), self.enc_fc3(w)  # Output: [bs, latent_dim], [bs, latent_dim] # Eqn (6) in LAKE paper\n",
    "\n",
    "        # Reparameterization and Decoding layers\n",
    "        z = self.reparameterize(mu, logvar)  # Output: [bs, latent_dim] # Eqn (7) in LAKE paper\n",
    "        dec_fc1_out = F.relu(self.dec_fc1(z))  # Output: [bs, 128]\n",
    "        dec_fc2_out = F.relu(self.dec_fc2(dec_fc1_out)).view(-1, 32, 7, 7)  # Output: [bs, 1568], then reshaped to [bs, 32, 7, 7]\n",
    "        dec_conv1_out = F.relu(self.dec_conv1(dec_fc2_out))  # Output: [bs, 16, 14, 14]\n",
    "        recon_x = torch.sigmoid(self.dec_conv2(dec_conv1_out))  # Output: [bs, 1, 28, 28]\n",
    "\n",
    "        return recon_x, z, mu, logvar, enc_conv1_out, enc_conv2_out, w, dec_fc1_out, dec_fc2_out, dec_conv1_out\n",
    "\n",
    "def loss_function_lake(recon_x, z, mu, logvar, enc_conv1_out, enc_conv2_out, w, dec_fc1_out, dec_fc2_out, dec_conv1_out, x):\n",
    "    BCE = F.binary_cross_entropy(recon_x, x, reduction='sum')\n",
    "    # Layer-wise reconstruction loss\n",
    "    layer_loss = F.mse_loss(enc_conv1_out, dec_conv1_out) + F.mse_loss(enc_conv2_out, dec_fc2_out) + F.mse_loss(w, dec_fc1_out)\n",
    "    # KL Divergence\n",
    "    KLD = -0.5 * torch.sum(1 + logvar - mu.pow(2) - logvar.exp())\n",
    "    return BCE + KLD + layer_loss"
   ]
  },
  {
   "cell_type": "code",
   "execution_count": 8,
   "metadata": {},
   "outputs": [],
   "source": [
    "def loss_function_BCE(recon_x, z, mu, logvar, enc_conv1_out, enc_conv2_out, w, dec_fc1_out, dec_fc2_out, dec_conv1_out, x):\n",
    "    # Autoencoder\n",
    "    BCE = F.binary_cross_entropy(recon_x, x, reduction='sum')\n",
    "    return BCE\n",
    "\n",
    "def loss_function_BCE_KLD(recon_x, z, mu, logvar, enc_conv1_out, enc_conv2_out, w, dec_fc1_out, dec_fc2_out, dec_conv1_out, x):\n",
    "    # Variational Autoencoder\n",
    "    BCE = F.binary_cross_entropy(recon_x, x, reduction='sum')\n",
    "    KLD = -0.5 * torch.sum(1 + logvar - mu.pow(2) - logvar.exp())\n",
    "    return BCE + KLD\n",
    "\n",
    "def loss_function_KLD(recon_x, z, mu, logvar, enc_conv1_out, enc_conv2_out, w, dec_fc1_out, dec_fc2_out, dec_conv1_out, x):\n",
    "    # No reconstruction loss, just KLD\n",
    "    KLD = -0.5 * torch.sum(1 + logvar - mu.pow(2) - logvar.exp())\n",
    "    return KLD"
   ]
  },
  {
   "cell_type": "code",
   "execution_count": 9,
   "metadata": {},
   "outputs": [],
   "source": [
    "def loss_function_lake_BCEH(recon_x, z, mu, logvar, enc_conv1_out, enc_conv2_out, w, dec_fc1_out, dec_fc2_out, dec_conv1_out, x):\n",
    "    BCE = F.binary_cross_entropy(recon_x, x, reduction='sum')\n",
    "    # Layer-wise reconstruction loss\n",
    "    layer_loss = F.mse_loss(enc_conv1_out, dec_conv1_out) + F.mse_loss(enc_conv2_out, dec_fc2_out) + F.mse_loss(w, dec_fc1_out)\n",
    "    # KL Divergence\n",
    "    KLD = -0.5 * torch.sum(1 + logvar - mu.pow(2) - logvar.exp())\n",
    "    return 1.5 * BCE + KLD + layer_loss\n",
    "\n",
    "def loss_function_lake_LLH(recon_x, z, mu, logvar, enc_conv1_out, enc_conv2_out, w, dec_fc1_out, dec_fc2_out, dec_conv1_out, x):\n",
    "    BCE = F.binary_cross_entropy(recon_x, x, reduction='sum')\n",
    "    # Layer-wise reconstruction loss\n",
    "    layer_loss = F.mse_loss(enc_conv1_out, dec_conv1_out) + F.mse_loss(enc_conv2_out, dec_fc2_out) + F.mse_loss(w, dec_fc1_out)\n",
    "    # KL Divergence\n",
    "    KLD = -0.5 * torch.sum(1 + logvar - mu.pow(2) - logvar.exp())\n",
    "    return BCE + KLD + 1.5 * layer_loss\n",
    "\n",
    "def loss_function_lake_KLDH(recon_x, z, mu, logvar, enc_conv1_out, enc_conv2_out, w, dec_fc1_out, dec_fc2_out, dec_conv1_out, x):\n",
    "    BCE = F.binary_cross_entropy(recon_x, x, reduction='sum')\n",
    "    # Layer-wise reconstruction loss\n",
    "    layer_loss = F.mse_loss(enc_conv1_out, dec_conv1_out) + F.mse_loss(enc_conv2_out, dec_fc2_out) + F.mse_loss(w, dec_fc1_out)\n",
    "    # KL Divergence\n",
    "    KLD = -0.5 * torch.sum(1 + logvar - mu.pow(2) - logvar.exp())\n",
    "    return BCE + 1.5 * KLD + layer_loss"
   ]
  },
  {
   "cell_type": "markdown",
   "metadata": {},
   "source": [
    "# Definining Utility Classes for training and visualisation"
   ]
  },
  {
   "cell_type": "code",
   "execution_count": 10,
   "metadata": {},
   "outputs": [],
   "source": [
    "def save_model(model, path):\n",
    "    torch.save(model.state_dict(), path)"
   ]
  },
  {
   "cell_type": "code",
   "execution_count": 11,
   "metadata": {},
   "outputs": [],
   "source": [
    "def load_model(model, path, device):\n",
    "    model.load_state_dict(torch.load(path, map_location=device))\n",
    "    model.eval()"
   ]
  },
  {
   "cell_type": "code",
   "execution_count": 12,
   "metadata": {},
   "outputs": [],
   "source": [
    "def plot_losses(train_losses, val_losses):\n",
    "    plt.figure(figsize=(10, 6))\n",
    "    plt.plot(train_losses, label='Training Loss')\n",
    "    plt.plot(val_losses, label='Validation Loss')\n",
    "    plt.xlabel('Epochs')\n",
    "    plt.ylabel('Loss')\n",
    "    plt.title('Training and Validation Loss')\n",
    "    plt.legend()\n",
    "    plt.show()"
   ]
  },
  {
   "cell_type": "code",
   "execution_count": 13,
   "metadata": {},
   "outputs": [],
   "source": [
    "def generate_and_save_images(model, epoch, latent_vectors, folder=\"generated_images\"):\n",
    "    model.eval()\n",
    "    with torch.no_grad():\n",
    "        generated = model.decode(latent_vectors).cpu()\n",
    "    for i, img in enumerate(generated):\n",
    "        plt.imshow(img.squeeze(), cmap='gray')\n",
    "        plt.savefig(f\"{folder}/img_{epoch}_{i}.png\")\n",
    "    model.train()"
   ]
  },
  {
   "cell_type": "code",
   "execution_count": 14,
   "metadata": {},
   "outputs": [],
   "source": [
    "def plot_latent_space(model, data_loader, device, num_samples=1000):\n",
    "    model.eval()\n",
    "    latents = []\n",
    "    labels = []\n",
    "    with torch.no_grad():\n",
    "        for data, label in data_loader:\n",
    "            data = data.to(device)\n",
    "            mu, _ = model.encode(data)\n",
    "            latents.append(mu.cpu().numpy())\n",
    "            labels.append(label.numpy())\n",
    "            if len(latents) * data_loader.batch_size > num_samples:\n",
    "                break\n",
    "    \n",
    "    latents = np.concatenate(latents, axis=0)[:num_samples]\n",
    "    labels = np.concatenate(labels, axis=0)[:num_samples]\n",
    "    \n",
    "    pca = PCA(n_components=2)\n",
    "    latents_reduced = pca.fit_transform(latents)\n",
    "    \n",
    "    plt.figure(figsize=(10, 6))\n",
    "    plt.scatter(latents_reduced[:, 0], latents_reduced[:, 1], c=labels, cmap='viridis', s=2, alpha=0.6)\n",
    "    plt.colorbar()\n",
    "    plt.title(\"Latent Space (PCA-reduced)\")\n",
    "    plt.xlabel(\"PCA Component 1\")\n",
    "    plt.ylabel(\"PCA Component 2\")\n",
    "    plt.show()\n",
    "    model.train()"
   ]
  },
  {
   "cell_type": "code",
   "execution_count": 15,
   "metadata": {},
   "outputs": [],
   "source": [
    "is_processing = False\n",
    "def plot_losses_interactive(model, model_name, model_states, train_losses, val_losses, train_loader, val_loader, device, best_train_loss, best_val_loss):\n",
    "    global is_processing\n",
    "    epochs = len(train_losses)\n",
    "    fig = go.FigureWidget()\n",
    "\n",
    "    # Add traces for training and validation losses\n",
    "    fig.add_trace(go.Scatter(x=list(range(1, epochs + 1)), y=train_losses, mode='lines+markers', name='Training Loss'))\n",
    "    fig.add_trace(go.Scatter(x=list(range(1, epochs + 1)), y=val_losses, mode='lines+markers', name='Validation Loss'))\n",
    "\n",
    "    # Set layout for the plot\n",
    "    fig.update_layout(\n",
    "        title=f'Interactive {model_name} Training and Validation Loss',\n",
    "        xaxis_title='Epoch',\n",
    "        yaxis_title='Loss',\n",
    "        width=800, height=600\n",
    "    )\n",
    "\n",
    "    # Function to update the image on clicking a point on the plot\n",
    "    def update_image(trace, points, selector):\n",
    "        global is_processing\n",
    "        if is_processing:\n",
    "            return\n",
    "        is_processing = True\n",
    "    \n",
    "        if points.point_inds:\n",
    "            epoch = points.point_inds[0]\n",
    "            model.load_state_dict(model_states[epoch])\n",
    "            model.eval()\n",
    "    \n",
    "            # Determine which dataloader and best loss to use based on which trace was clicked\n",
    "            if trace.name == 'Training Loss':\n",
    "                data_loader = train_loader\n",
    "                current_loss = train_losses[epoch]\n",
    "                best_loss = best_train_loss\n",
    "                loss_type = 'Training'\n",
    "            elif trace.name == 'Validation Loss':\n",
    "                data_loader = val_loader\n",
    "                current_loss = val_losses[epoch]\n",
    "                best_loss = best_val_loss\n",
    "                loss_type = 'Validation'\n",
    "\n",
    "            # Calculate loss as a percentage of the best loss\n",
    "            loss_percentage = (best_loss / current_loss) * 100\n",
    "\n",
    "            # Generate and display an image\n",
    "            data, _ = next(iter(data_loader))\n",
    "            data = data.to(device)\n",
    "            reconstructed_img = model(data)[0].cpu().squeeze()\n",
    "\n",
    "            if reconstructed_img.ndim == 3:  # If image has 3 dimensions, take the first one\n",
    "                reconstructed_img = reconstructed_img[0]\n",
    "\n",
    "            # Display information and the image\n",
    "            plt.figure(figsize=(5, 5))\n",
    "            plt.imshow(reconstructed_img.detach().numpy(), cmap='gray')\n",
    "            plt.title(f'{model_name} {loss_type} Loss\\nEpoch: {epoch + 1}\\nLoss: {current_loss:.4f} ({loss_percentage:.2f}% rel to best)')\n",
    "            plt.axis('off')\n",
    "            clear_output(wait=True)\n",
    "            display(plt.gcf())\n",
    "            model.train()\n",
    "    \n",
    "        is_processing = False\n",
    "\n",
    "    # Attach the click handler to the plot\n",
    "    fig.data[0].on_click(update_image)  # For training loss\n",
    "    fig.data[1].on_click(update_image)  # For validation loss\n",
    "\n",
    "    # Display the plot\n",
    "    display(fig)"
   ]
  },
  {
   "cell_type": "code",
   "execution_count": 52,
   "metadata": {},
   "outputs": [],
   "source": [
    "def validate_vae(model, val_loader, loss_function, device):\n",
    "    total_loss = 0\n",
    "    with torch.no_grad():\n",
    "        for data, _ in val_loader:\n",
    "            data = data.to(device)\n",
    "            outputs = model(data)\n",
    "            loss = loss_function(*outputs, data)\n",
    "            total_loss += loss.item()\n",
    "    return total_loss / len(val_loader.dataset)"
   ]
  },
  {
   "cell_type": "code",
   "execution_count": 66,
   "metadata": {},
   "outputs": [],
   "source": [
    "import json\n",
    "\n",
    "def save_losses(train_losses, val_losses, model_name, epoch):\n",
    "    losses_dict = {\n",
    "        'train_losses': train_losses,\n",
    "        'val_losses': val_losses\n",
    "    }\n",
    "\n",
    "    combined_losses_path = f\"{model_name}_epoch_{epoch}.json\"\n",
    "    with open(combined_losses_path, 'w') as file:\n",
    "        json.dump(losses_dict, file)\n",
    "\n",
    "    print(f\"Losses saved as {combined_losses_path}\")\n",
    "\n",
    "def load_losses(losses_file):\n",
    "    with open(losses_file, 'r') as file:\n",
    "        losses_dict = json.load(file)\n",
    "\n",
    "    return losses_dict['train_losses'], losses_dict['val_losses']\n",
    " "
   ]
  },
  {
   "cell_type": "code",
   "execution_count": 62,
   "metadata": {},
   "outputs": [],
   "source": [
    "def train_vae(model, train_loader, val_loader, loss_function, optimiser, epochs, device, model_name, plot_interval=1):\n",
    "    train_losses = []\n",
    "    val_losses = []\n",
    "    model_states = []\n",
    "    best_val_loss = float('inf')\n",
    "    best_model_state = None\n",
    "    best_epoch = 0\n",
    "\n",
    "    for epoch in range(epochs):\n",
    "        model.train()\n",
    "        total_loss = 0\n",
    "        for batch_idx, (data, _) in enumerate(train_loader):\n",
    "            data = data.to(device)\n",
    "            optimiser.zero_grad()\n",
    "            outputs = model(data)\n",
    "            loss = loss_function(*outputs, data)\n",
    "            loss.backward()\n",
    "            optimiser.step()\n",
    "            total_loss += loss.item()\n",
    "\n",
    "        train_loss = total_loss / len(train_loader.dataset)\n",
    "        train_losses.append(train_loss)\n",
    "\n",
    "        model.eval()\n",
    "        val_loss = validate_vae(model, val_loader, loss_function, device)\n",
    "        val_losses.append(val_loss)\n",
    "\n",
    "        # Save the current model state\n",
    "        model_states.append(model.state_dict().copy())\n",
    "\n",
    "        if val_loss < best_val_loss:\n",
    "            best_val_loss = val_loss\n",
    "            best_model_state = model.state_dict()\n",
    "            best_epoch = epoch\n",
    "\n",
    "        print(f'Epoch {epoch}, Training Loss: {train_loss}, Validation Loss: {val_loss}')\n",
    "\n",
    "        #print(f'Saving {model_name} model at epoch {epoch+1}')\n",
    "        #save_model(model, f'{model_name}_{epoch+1}.pth')\n",
    "    \n",
    "    print(f'Saving {model_name} model at epoch {epoch}')\n",
    "    save_model(model, f'{model_name}_{epoch}.pth')\n",
    "\n",
    "    if best_model_state is not None:\n",
    "        model_path = f\"best_{model_name}_epoch_{best_epoch}.pth\"\n",
    "        save_model(model, model_path)\n",
    "        print(f\"Best {model_name} model saved as {model_path}\")\n",
    "        model.load_state_dict(best_model_state)\n",
    "\n",
    "    # best_train_loss = min(train_losses)\n",
    "    # best_val_loss = min(val_losses)\n",
    "    # plot_losses_interactive(model, model_name, model_states, train_losses, val_losses, train_loader, val_loader, device, best_train_loss, best_val_loss)\n",
    "        \n",
    "    save_losses(train_losses, val_losses, model_name, epoch)"
   ]
  },
  {
   "cell_type": "markdown",
   "metadata": {},
   "source": [
    "# Loading Dataset and Training"
   ]
  },
  {
   "cell_type": "markdown",
   "metadata": {},
   "source": [
    "This cell loads in the mnist dataset into train, validation, and test dataloaders.\n",
    "While doing so, they are normalised to be [0,1] and turned into tensors."
   ]
  },
  {
   "cell_type": "code",
   "execution_count": 63,
   "metadata": {},
   "outputs": [],
   "source": [
    "transform = transforms.Compose([transforms.ToTensor()])\n",
    "\n",
    "# Download the MNIST dataset\n",
    "mnist_trainset = datasets.MNIST(root='~/.pytorch/MNIST_data/', train=True, download=True, transform=transform)\n",
    "\n",
    "# Splitting the dataset into train and validation sets\n",
    "train_size = int(0.8 * len(mnist_trainset))\n",
    "validation_size = len(mnist_trainset) - train_size\n",
    "train_dataset, validation_dataset = random_split(mnist_trainset, [train_size, validation_size])\n",
    "\n",
    "# Download and load the test data\n",
    "test_dataset = datasets.MNIST(root='~/.pytorch/MNIST_data/', train=False, download=True, transform=transform)"
   ]
  },
  {
   "cell_type": "code",
   "execution_count": 68,
   "metadata": {},
   "outputs": [],
   "source": [
    "# Training parameters\n",
    "batch_size = 64\n",
    "learning_rate = 1e-3\n",
    "epochs = 2\n",
    "\n",
    "trainloader = DataLoader(train_dataset, batch_size=batch_size, shuffle=True, drop_last=False)\n",
    "validationloader = DataLoader(validation_dataset, batch_size=batch_size, shuffle=True, drop_last=False)\n",
    "testloader = DataLoader(test_dataset, batch_size=batch_size, shuffle=True, drop_last=False)"
   ]
  },
  {
   "cell_type": "code",
   "execution_count": 69,
   "metadata": {},
   "outputs": [
    {
     "name": "stdout",
     "output_type": "stream",
     "text": [
      "\n",
      "Training parameters for Lake_VAE: batch_size=64, learning_rate=0.001, epochs=2\n",
      "Training Lake_VAE...\n",
      "Epoch 0, Training Loss: 211.203493754069, Validation Loss: 172.80267744954426\n",
      "Epoch 1, Training Loss: 159.46633333333332, Validation Loss: 149.68621748860676\n",
      "Saving Lake_VAE model at epoch 1\n",
      "Best Lake_VAE model saved as best_Lake_VAE_epoch_1.pth\n",
      "Losses saved as Lake_VAE_epoch_1.json\n",
      "\n",
      "Training parameters for BCE_VAE: batch_size=64, learning_rate=0.001, epochs=2\n",
      "Training BCE_VAE...\n",
      "Epoch 0, Training Loss: 218.2004521484375, Validation Loss: 190.36422314453125\n"
     ]
    },
    {
     "ename": "KeyboardInterrupt",
     "evalue": "",
     "output_type": "error",
     "traceback": [
      "\u001b[0;31m---------------------------------------------------------------------------\u001b[0m",
      "\u001b[0;31mKeyboardInterrupt\u001b[0m                         Traceback (most recent call last)",
      "\u001b[1;32m/home/msxaj10/Documents/LAKE/Cardiotocography/MNIST-LAKE.ipynb Cell 29\u001b[0m line \u001b[0;36m2\n\u001b[1;32m     <a href='vscode-notebook-cell://ssh-remote%2Baxon.nottingham.ac.uk/home/msxaj10/Documents/LAKE/Cardiotocography/MNIST-LAKE.ipynb#X36sdnNjb2RlLXJlbW90ZQ%3D%3D?line=22'>23</a>\u001b[0m optimizer \u001b[39m=\u001b[39m torch\u001b[39m.\u001b[39moptim\u001b[39m.\u001b[39mAdam(model\u001b[39m.\u001b[39mparameters(), lr\u001b[39m=\u001b[39mlearning_rate)\n\u001b[1;32m     <a href='vscode-notebook-cell://ssh-remote%2Baxon.nottingham.ac.uk/home/msxaj10/Documents/LAKE/Cardiotocography/MNIST-LAKE.ipynb#X36sdnNjb2RlLXJlbW90ZQ%3D%3D?line=24'>25</a>\u001b[0m \u001b[39m# Train the model\u001b[39;00m\n\u001b[0;32m---> <a href='vscode-notebook-cell://ssh-remote%2Baxon.nottingham.ac.uk/home/msxaj10/Documents/LAKE/Cardiotocography/MNIST-LAKE.ipynb#X36sdnNjb2RlLXJlbW90ZQ%3D%3D?line=25'>26</a>\u001b[0m train_vae(model, trainloader, validationloader, loss_function, optimizer, epochs, DEVICE, model_name)\n",
      "\u001b[1;32m/home/msxaj10/Documents/LAKE/Cardiotocography/MNIST-LAKE.ipynb Cell 29\u001b[0m line \u001b[0;36m1\n\u001b[1;32m     <a href='vscode-notebook-cell://ssh-remote%2Baxon.nottingham.ac.uk/home/msxaj10/Documents/LAKE/Cardiotocography/MNIST-LAKE.ipynb#X36sdnNjb2RlLXJlbW90ZQ%3D%3D?line=9'>10</a>\u001b[0m model\u001b[39m.\u001b[39mtrain()\n\u001b[1;32m     <a href='vscode-notebook-cell://ssh-remote%2Baxon.nottingham.ac.uk/home/msxaj10/Documents/LAKE/Cardiotocography/MNIST-LAKE.ipynb#X36sdnNjb2RlLXJlbW90ZQ%3D%3D?line=10'>11</a>\u001b[0m total_loss \u001b[39m=\u001b[39m \u001b[39m0\u001b[39m\n\u001b[0;32m---> <a href='vscode-notebook-cell://ssh-remote%2Baxon.nottingham.ac.uk/home/msxaj10/Documents/LAKE/Cardiotocography/MNIST-LAKE.ipynb#X36sdnNjb2RlLXJlbW90ZQ%3D%3D?line=11'>12</a>\u001b[0m \u001b[39mfor\u001b[39;00m batch_idx, (data, _) \u001b[39min\u001b[39;00m \u001b[39menumerate\u001b[39m(train_loader):\n\u001b[1;32m     <a href='vscode-notebook-cell://ssh-remote%2Baxon.nottingham.ac.uk/home/msxaj10/Documents/LAKE/Cardiotocography/MNIST-LAKE.ipynb#X36sdnNjb2RlLXJlbW90ZQ%3D%3D?line=12'>13</a>\u001b[0m     data \u001b[39m=\u001b[39m data\u001b[39m.\u001b[39mto(device)\n\u001b[1;32m     <a href='vscode-notebook-cell://ssh-remote%2Baxon.nottingham.ac.uk/home/msxaj10/Documents/LAKE/Cardiotocography/MNIST-LAKE.ipynb#X36sdnNjb2RlLXJlbW90ZQ%3D%3D?line=13'>14</a>\u001b[0m     optimiser\u001b[39m.\u001b[39mzero_grad()\n",
      "File \u001b[0;32m~/Documents/LAKE/.venv/lib64/python3.9/site-packages/torch/utils/data/dataloader.py:630\u001b[0m, in \u001b[0;36m_BaseDataLoaderIter.__next__\u001b[0;34m(self)\u001b[0m\n\u001b[1;32m    627\u001b[0m \u001b[39mif\u001b[39;00m \u001b[39mself\u001b[39m\u001b[39m.\u001b[39m_sampler_iter \u001b[39mis\u001b[39;00m \u001b[39mNone\u001b[39;00m:\n\u001b[1;32m    628\u001b[0m     \u001b[39m# TODO(https://github.com/pytorch/pytorch/issues/76750)\u001b[39;00m\n\u001b[1;32m    629\u001b[0m     \u001b[39mself\u001b[39m\u001b[39m.\u001b[39m_reset()  \u001b[39m# type: ignore[call-arg]\u001b[39;00m\n\u001b[0;32m--> 630\u001b[0m data \u001b[39m=\u001b[39m \u001b[39mself\u001b[39;49m\u001b[39m.\u001b[39;49m_next_data()\n\u001b[1;32m    631\u001b[0m \u001b[39mself\u001b[39m\u001b[39m.\u001b[39m_num_yielded \u001b[39m+\u001b[39m\u001b[39m=\u001b[39m \u001b[39m1\u001b[39m\n\u001b[1;32m    632\u001b[0m \u001b[39mif\u001b[39;00m \u001b[39mself\u001b[39m\u001b[39m.\u001b[39m_dataset_kind \u001b[39m==\u001b[39m _DatasetKind\u001b[39m.\u001b[39mIterable \u001b[39mand\u001b[39;00m \\\n\u001b[1;32m    633\u001b[0m         \u001b[39mself\u001b[39m\u001b[39m.\u001b[39m_IterableDataset_len_called \u001b[39mis\u001b[39;00m \u001b[39mnot\u001b[39;00m \u001b[39mNone\u001b[39;00m \u001b[39mand\u001b[39;00m \\\n\u001b[1;32m    634\u001b[0m         \u001b[39mself\u001b[39m\u001b[39m.\u001b[39m_num_yielded \u001b[39m>\u001b[39m \u001b[39mself\u001b[39m\u001b[39m.\u001b[39m_IterableDataset_len_called:\n",
      "File \u001b[0;32m~/Documents/LAKE/.venv/lib64/python3.9/site-packages/torch/utils/data/dataloader.py:674\u001b[0m, in \u001b[0;36m_SingleProcessDataLoaderIter._next_data\u001b[0;34m(self)\u001b[0m\n\u001b[1;32m    672\u001b[0m \u001b[39mdef\u001b[39;00m \u001b[39m_next_data\u001b[39m(\u001b[39mself\u001b[39m):\n\u001b[1;32m    673\u001b[0m     index \u001b[39m=\u001b[39m \u001b[39mself\u001b[39m\u001b[39m.\u001b[39m_next_index()  \u001b[39m# may raise StopIteration\u001b[39;00m\n\u001b[0;32m--> 674\u001b[0m     data \u001b[39m=\u001b[39m \u001b[39mself\u001b[39;49m\u001b[39m.\u001b[39;49m_dataset_fetcher\u001b[39m.\u001b[39;49mfetch(index)  \u001b[39m# may raise StopIteration\u001b[39;00m\n\u001b[1;32m    675\u001b[0m     \u001b[39mif\u001b[39;00m \u001b[39mself\u001b[39m\u001b[39m.\u001b[39m_pin_memory:\n\u001b[1;32m    676\u001b[0m         data \u001b[39m=\u001b[39m _utils\u001b[39m.\u001b[39mpin_memory\u001b[39m.\u001b[39mpin_memory(data, \u001b[39mself\u001b[39m\u001b[39m.\u001b[39m_pin_memory_device)\n",
      "File \u001b[0;32m~/Documents/LAKE/.venv/lib64/python3.9/site-packages/torch/utils/data/_utils/fetch.py:49\u001b[0m, in \u001b[0;36m_MapDatasetFetcher.fetch\u001b[0;34m(self, possibly_batched_index)\u001b[0m\n\u001b[1;32m     47\u001b[0m \u001b[39mif\u001b[39;00m \u001b[39mself\u001b[39m\u001b[39m.\u001b[39mauto_collation:\n\u001b[1;32m     48\u001b[0m     \u001b[39mif\u001b[39;00m \u001b[39mhasattr\u001b[39m(\u001b[39mself\u001b[39m\u001b[39m.\u001b[39mdataset, \u001b[39m\"\u001b[39m\u001b[39m__getitems__\u001b[39m\u001b[39m\"\u001b[39m) \u001b[39mand\u001b[39;00m \u001b[39mself\u001b[39m\u001b[39m.\u001b[39mdataset\u001b[39m.\u001b[39m__getitems__:\n\u001b[0;32m---> 49\u001b[0m         data \u001b[39m=\u001b[39m \u001b[39mself\u001b[39;49m\u001b[39m.\u001b[39;49mdataset\u001b[39m.\u001b[39;49m__getitems__(possibly_batched_index)\n\u001b[1;32m     50\u001b[0m     \u001b[39melse\u001b[39;00m:\n\u001b[1;32m     51\u001b[0m         data \u001b[39m=\u001b[39m [\u001b[39mself\u001b[39m\u001b[39m.\u001b[39mdataset[idx] \u001b[39mfor\u001b[39;00m idx \u001b[39min\u001b[39;00m possibly_batched_index]\n",
      "File \u001b[0;32m~/Documents/LAKE/.venv/lib64/python3.9/site-packages/torch/utils/data/dataset.py:364\u001b[0m, in \u001b[0;36mSubset.__getitems__\u001b[0;34m(self, indices)\u001b[0m\n\u001b[1;32m    362\u001b[0m     \u001b[39mreturn\u001b[39;00m \u001b[39mself\u001b[39m\u001b[39m.\u001b[39mdataset\u001b[39m.\u001b[39m__getitems__([\u001b[39mself\u001b[39m\u001b[39m.\u001b[39mindices[idx] \u001b[39mfor\u001b[39;00m idx \u001b[39min\u001b[39;00m indices])  \u001b[39m# type: ignore[attr-defined]\u001b[39;00m\n\u001b[1;32m    363\u001b[0m \u001b[39melse\u001b[39;00m:\n\u001b[0;32m--> 364\u001b[0m     \u001b[39mreturn\u001b[39;00m [\u001b[39mself\u001b[39m\u001b[39m.\u001b[39mdataset[\u001b[39mself\u001b[39m\u001b[39m.\u001b[39mindices[idx]] \u001b[39mfor\u001b[39;00m idx \u001b[39min\u001b[39;00m indices]\n",
      "File \u001b[0;32m~/Documents/LAKE/.venv/lib64/python3.9/site-packages/torch/utils/data/dataset.py:364\u001b[0m, in \u001b[0;36m<listcomp>\u001b[0;34m(.0)\u001b[0m\n\u001b[1;32m    362\u001b[0m     \u001b[39mreturn\u001b[39;00m \u001b[39mself\u001b[39m\u001b[39m.\u001b[39mdataset\u001b[39m.\u001b[39m__getitems__([\u001b[39mself\u001b[39m\u001b[39m.\u001b[39mindices[idx] \u001b[39mfor\u001b[39;00m idx \u001b[39min\u001b[39;00m indices])  \u001b[39m# type: ignore[attr-defined]\u001b[39;00m\n\u001b[1;32m    363\u001b[0m \u001b[39melse\u001b[39;00m:\n\u001b[0;32m--> 364\u001b[0m     \u001b[39mreturn\u001b[39;00m [\u001b[39mself\u001b[39;49m\u001b[39m.\u001b[39;49mdataset[\u001b[39mself\u001b[39;49m\u001b[39m.\u001b[39;49mindices[idx]] \u001b[39mfor\u001b[39;00m idx \u001b[39min\u001b[39;00m indices]\n",
      "File \u001b[0;32m~/Documents/LAKE/.venv/lib64/python3.9/site-packages/torchvision/datasets/mnist.py:145\u001b[0m, in \u001b[0;36mMNIST.__getitem__\u001b[0;34m(self, index)\u001b[0m\n\u001b[1;32m    142\u001b[0m img \u001b[39m=\u001b[39m Image\u001b[39m.\u001b[39mfromarray(img\u001b[39m.\u001b[39mnumpy(), mode\u001b[39m=\u001b[39m\u001b[39m\"\u001b[39m\u001b[39mL\u001b[39m\u001b[39m\"\u001b[39m)\n\u001b[1;32m    144\u001b[0m \u001b[39mif\u001b[39;00m \u001b[39mself\u001b[39m\u001b[39m.\u001b[39mtransform \u001b[39mis\u001b[39;00m \u001b[39mnot\u001b[39;00m \u001b[39mNone\u001b[39;00m:\n\u001b[0;32m--> 145\u001b[0m     img \u001b[39m=\u001b[39m \u001b[39mself\u001b[39;49m\u001b[39m.\u001b[39;49mtransform(img)\n\u001b[1;32m    147\u001b[0m \u001b[39mif\u001b[39;00m \u001b[39mself\u001b[39m\u001b[39m.\u001b[39mtarget_transform \u001b[39mis\u001b[39;00m \u001b[39mnot\u001b[39;00m \u001b[39mNone\u001b[39;00m:\n\u001b[1;32m    148\u001b[0m     target \u001b[39m=\u001b[39m \u001b[39mself\u001b[39m\u001b[39m.\u001b[39mtarget_transform(target)\n",
      "File \u001b[0;32m~/Documents/LAKE/.venv/lib64/python3.9/site-packages/torchvision/transforms/transforms.py:95\u001b[0m, in \u001b[0;36mCompose.__call__\u001b[0;34m(self, img)\u001b[0m\n\u001b[1;32m     93\u001b[0m \u001b[39mdef\u001b[39;00m \u001b[39m__call__\u001b[39m(\u001b[39mself\u001b[39m, img):\n\u001b[1;32m     94\u001b[0m     \u001b[39mfor\u001b[39;00m t \u001b[39min\u001b[39;00m \u001b[39mself\u001b[39m\u001b[39m.\u001b[39mtransforms:\n\u001b[0;32m---> 95\u001b[0m         img \u001b[39m=\u001b[39m t(img)\n\u001b[1;32m     96\u001b[0m     \u001b[39mreturn\u001b[39;00m img\n",
      "File \u001b[0;32m~/Documents/LAKE/.venv/lib64/python3.9/site-packages/torchvision/transforms/transforms.py:137\u001b[0m, in \u001b[0;36mToTensor.__call__\u001b[0;34m(self, pic)\u001b[0m\n\u001b[1;32m    129\u001b[0m \u001b[39mdef\u001b[39;00m \u001b[39m__call__\u001b[39m(\u001b[39mself\u001b[39m, pic):\n\u001b[1;32m    130\u001b[0m \u001b[39m    \u001b[39m\u001b[39m\"\"\"\u001b[39;00m\n\u001b[1;32m    131\u001b[0m \u001b[39m    Args:\u001b[39;00m\n\u001b[1;32m    132\u001b[0m \u001b[39m        pic (PIL Image or numpy.ndarray): Image to be converted to tensor.\u001b[39;00m\n\u001b[0;32m   (...)\u001b[0m\n\u001b[1;32m    135\u001b[0m \u001b[39m        Tensor: Converted image.\u001b[39;00m\n\u001b[1;32m    136\u001b[0m \u001b[39m    \"\"\"\u001b[39;00m\n\u001b[0;32m--> 137\u001b[0m     \u001b[39mreturn\u001b[39;00m F\u001b[39m.\u001b[39;49mto_tensor(pic)\n",
      "File \u001b[0;32m~/Documents/LAKE/.venv/lib64/python3.9/site-packages/torchvision/transforms/functional.py:172\u001b[0m, in \u001b[0;36mto_tensor\u001b[0;34m(pic)\u001b[0m\n\u001b[1;32m    170\u001b[0m img \u001b[39m=\u001b[39m img\u001b[39m.\u001b[39mview(pic\u001b[39m.\u001b[39msize[\u001b[39m1\u001b[39m], pic\u001b[39m.\u001b[39msize[\u001b[39m0\u001b[39m], F_pil\u001b[39m.\u001b[39mget_image_num_channels(pic))\n\u001b[1;32m    171\u001b[0m \u001b[39m# put it from HWC to CHW format\u001b[39;00m\n\u001b[0;32m--> 172\u001b[0m img \u001b[39m=\u001b[39m img\u001b[39m.\u001b[39;49mpermute((\u001b[39m2\u001b[39;49m, \u001b[39m0\u001b[39;49m, \u001b[39m1\u001b[39;49m))\u001b[39m.\u001b[39mcontiguous()\n\u001b[1;32m    173\u001b[0m \u001b[39mif\u001b[39;00m \u001b[39misinstance\u001b[39m(img, torch\u001b[39m.\u001b[39mByteTensor):\n\u001b[1;32m    174\u001b[0m     \u001b[39mreturn\u001b[39;00m img\u001b[39m.\u001b[39mto(dtype\u001b[39m=\u001b[39mdefault_float_dtype)\u001b[39m.\u001b[39mdiv(\u001b[39m255\u001b[39m)\n",
      "\u001b[0;31mKeyboardInterrupt\u001b[0m: "
     ]
    }
   ],
   "source": [
    "# Run cell to train all 7 models\n",
    "loss_functions = {\n",
    "    'loss_function_lake': 'Lake_VAE',\n",
    "    'loss_function_BCE': 'BCE_VAE',\n",
    "    'loss_function_BCE_KLD': 'BCE_KLD_VAE',\n",
    "    'loss_function_KLD': 'KLD_VAE',\n",
    "    'loss_function_lake_BCEH': 'lake_BCEH_VAE',\n",
    "    'loss_function_lake_LLH': 'lake_LLH_VAE',\n",
    "    'loss_function_lake_KLDH': 'lake_KLDH_VAE'\n",
    "}\n",
    "\n",
    "# Training each model with its respective loss function\n",
    "for loss_function_name, model_name in loss_functions.items():\n",
    "    # Create the model\n",
    "    model = LakeVAE().to(DEVICE)\n",
    "    print(f'\\nTraining parameters for {model_name}: batch_size={batch_size}, learning_rate={learning_rate}, epochs={epochs}')\n",
    "    print(f\"Training {model_name}...\")\n",
    "\n",
    "    # Select the loss function dynamically\n",
    "    loss_function = globals()[loss_function_name]\n",
    "\n",
    "    # Initialize the optimizer\n",
    "    optimizer = torch.optim.Adam(model.parameters(), lr=learning_rate)\n",
    "\n",
    "    # Train the model\n",
    "    train_vae(model, trainloader, validationloader, loss_function, optimizer, epochs, DEVICE, model_name)"
   ]
  },
  {
   "cell_type": "code",
   "execution_count": null,
   "metadata": {},
   "outputs": [],
   "source": [
    "# Run cell to train Lake VAE\n",
    "\n",
    "# Lake_VAE = LakeVAE().to(DEVICE)\n",
    "# print(f'Training parameters: batch_size={batch_size}, learning_rate={learning_rate}, epochs={epochs}')\n",
    "# print(\"Training Lake_VAE...\")\n",
    "# Optimiser_Lake = torch.optim.Adam(Lake_VAE.parameters(), lr=learning_rate)\n",
    "# Trained_Lake_VAE = train_vae(Lake_VAE, trainloader, validationloader, loss_function_lake, Optimiser_Lake, epochs, DEVICE, \"Lake_VAE\")"
   ]
  },
  {
   "cell_type": "markdown",
   "metadata": {},
   "source": [
    "Training only uses 25MiB of GPU memory. Perhaps could try Jupyterlab and jupyterlab-nvdashboard to monitor GPU usage."
   ]
  },
  {
   "cell_type": "markdown",
   "metadata": {},
   "source": [
    "# Loading Models"
   ]
  },
  {
   "cell_type": "code",
   "execution_count": 41,
   "metadata": {},
   "outputs": [],
   "source": [
    "# best_standard_vae_path = 'best_Standard_VAE_epoch_X.pth'\n",
    "# best_lake_vae_path = 'best_Lake_VAE_epoch_Y.pth'\n",
    "\n",
    "standard_vae_path = 'Standard_VAE_100.pth'\n",
    "lake_vae_path = 'Lake_VAE_100.pth'\n",
    "\n",
    "Lake_VAE = LakeVAE().to(DEVICE)\n",
    "load_model(Lake_VAE, lake_vae_path, DEVICE)"
   ]
  },
  {
   "cell_type": "markdown",
   "metadata": {},
   "source": [
    "# Visualising Trained Latent Space"
   ]
  },
  {
   "cell_type": "code",
   "execution_count": 42,
   "metadata": {},
   "outputs": [
    {
     "data": {
      "application/vnd.jupyter.widget-view+json": {
       "model_id": "b1a5064a5cea48c093ba681cd48cea4e",
       "version_major": 2,
       "version_minor": 0
      },
      "text/plain": [
       "HBox(children=(FigureWidget({\n",
       "    'data': [{'hoverinfo': 'text',\n",
       "              'marker': {'color': '#636EFA', …"
      ]
     },
     "metadata": {},
     "output_type": "display_data"
    },
    {
     "data": {
      "application/vnd.jupyter.widget-view+json": {
       "model_id": "51459f6cedbb482986d45b1e9988542f",
       "version_major": 2,
       "version_minor": 0
      },
      "text/plain": [
       "HBox(children=(FigureWidget({\n",
       "    'data': [{'hoverinfo': 'text',\n",
       "              'marker': {'color': '#636EFA', …"
      ]
     },
     "metadata": {},
     "output_type": "display_data"
    },
    {
     "data": {
      "image/png": "[encoded data removed]",
      "text/plain": [
       "<Figure size 640x480 with 1 Axes>"
      ]
     },
     "metadata": {},
     "output_type": "display_data"
    },
    {
     "data": {
      "image/png": "[encoded data removed]",
      "text/plain": [
       "<Figure size 640x480 with 1 Axes>"
      ]
     },
     "metadata": {},
     "output_type": "display_data"
    },
    {
     "data": {
      "image/png": "[encoded data removed]",
      "text/plain": [
       "<Figure size 640x480 with 1 Axes>"
      ]
     },
     "metadata": {},
     "output_type": "display_data"
    }
   ],
   "source": [
    "import numpy as np\n",
    "import torch\n",
    "from sklearn.decomposition import PCA\n",
    "import matplotlib.pyplot as plt\n",
    "from plotly.graph_objs import Scatter, FigureWidget\n",
    "from ipywidgets import Output, HBox\n",
    "from IPython.display import display, clear_output\n",
    "\n",
    "# Creating output widgets for the images\n",
    "image_output_z = Output()\n",
    "image_output_w = Output()\n",
    "\n",
    "is_processing = False\n",
    "\n",
    "def reconstruct_from_latent_space(model, latent_point, device):\n",
    "    original_latent_tensor = torch.from_numpy(latent_point).float().to(device)\n",
    "    reconstructed_img = model.decode(original_latent_tensor).cpu()\n",
    "    return reconstructed_img[0].squeeze()\n",
    "\n",
    "def plot_latent_space_interactive(model, data_loader, device, vaename, dataname, num_samples=1000):\n",
    "    model.eval()\n",
    "    z_latents, w_latents = [], []\n",
    "    labels = []\n",
    "\n",
    "    with torch.no_grad():\n",
    "        for data, label in data_loader:\n",
    "            data = data.to(device)\n",
    "            _, z, _, _, _, _, w, _, _, _ = model(data)\n",
    "            z_latents.append(z.cpu().numpy())\n",
    "            w_latents.append(w.cpu().numpy())\n",
    "            labels.append(label.numpy())\n",
    "            if len(z_latents) * data_loader.batch_size > num_samples:\n",
    "                break\n",
    "\n",
    "    z_latents = np.concatenate(z_latents, axis=0)[:num_samples]\n",
    "    w_latents = np.concatenate(w_latents, axis=0)[:num_samples]\n",
    "    labels = np.concatenate(labels, axis=0)[:num_samples]\n",
    "\n",
    "    z_pca = PCA(n_components=2)\n",
    "    w_pca = PCA(n_components=2)\n",
    "    z_latents_reduced = z_pca.fit_transform(z_latents)\n",
    "    w_latents_reduced = w_pca.fit_transform(w_latents)\n",
    "\n",
    "    custom_color_scale = ['#636EFA', '#EF553B', '#00CC96', '#AB63FA', '#FFA15A',\n",
    "                          '#19D3F3', '#FF6692', '#B6E880', '#FF97FF', '#FECB52']\n",
    "\n",
    "    def create_traces(latents_reduced):\n",
    "        traces = []\n",
    "        for digit in range(10):\n",
    "            digit_indices = np.where(labels == digit)[0]\n",
    "            trace = Scatter(\n",
    "                x=latents_reduced[digit_indices, 0], y=latents_reduced[digit_indices, 1],\n",
    "                mode='markers', marker=dict(color=custom_color_scale[digit], size=10),\n",
    "                name=str(digit),\n",
    "                hoverinfo='text',\n",
    "                text=[f'Label: {digit}, Pos: ({x:.2f}, {y:.2f})' for x, y in latents_reduced[digit_indices]]\n",
    "            )\n",
    "            traces.append(trace)\n",
    "        return traces\n",
    "\n",
    "    z_traces = create_traces(z_latents_reduced)\n",
    "    w_traces = create_traces(w_latents_reduced)\n",
    "\n",
    "    z_fig = FigureWidget(z_traces)\n",
    "    w_fig = FigureWidget(w_traces)\n",
    "\n",
    "    z_fig.update_layout(title=f'{vaename} Z Latent Space')\n",
    "    w_fig.update_layout(title=f'{vaename} W Latent Space')\n",
    "\n",
    "    def update_image(latents, output_widget, idx):\n",
    "        global is_processing\n",
    "        if is_processing:\n",
    "            return\n",
    "\n",
    "        is_processing = True\n",
    "\n",
    "        latent_point = latents[idx]\n",
    "        img = reconstruct_from_latent_space(model, latent_point, device)\n",
    "\n",
    "        with output_widget:\n",
    "            clear_output(wait=True)\n",
    "            plt.imshow(img.detach().numpy(), cmap='gray')\n",
    "            plt.axis('off')\n",
    "            display(plt.gcf())\n",
    "\n",
    "        is_processing = False\n",
    "\n",
    "    def on_click_z(trace, points, selector):\n",
    "        if points.point_inds:\n",
    "            update_image(z_latents, image_output_z, points.point_inds[0])\n",
    "\n",
    "    def on_click_w(trace, points, selector):\n",
    "        if points.point_inds:\n",
    "            update_image(z_latents, image_output_w, points.point_inds[0])\n",
    "\n",
    "    z_fig.for_each_trace(lambda trace: trace.on_click(on_click_z))\n",
    "    w_fig.for_each_trace(lambda trace: trace.on_click(on_click_w))\n",
    "\n",
    "    return HBox([z_fig, image_output_z]), HBox([w_fig, image_output_w])\n",
    "\n",
    "    model.train()\n",
    "\n",
    "\n",
    "z_box, w_box = plot_latent_space_interactive(Lake_VAE, trainloader, DEVICE, 'layer-constrained VAE', 'Training', num_samples=5000)\n",
    "display(z_box)\n",
    "display(w_box)\n"
   ]
  },
  {
   "cell_type": "code",
   "execution_count": 45,
   "metadata": {},
   "outputs": [
    {
     "data": {
      "application/vnd.jupyter.widget-view+json": {
       "model_id": "9bb3ee5523b44cca8b6cbc2fdad1eac9",
       "version_major": 2,
       "version_minor": 0
      },
      "text/plain": [
       "HBox(children=(FigureWidget({\n",
       "    'data': [{'hoverinfo': 'text',\n",
       "              'marker': {'color': '#636EFA', …"
      ]
     },
     "metadata": {},
     "output_type": "display_data"
    },
    {
     "data": {
      "application/vnd.jupyter.widget-view+json": {
       "model_id": "69dd1855729a44309c49d3e2befc31ab",
       "version_major": 2,
       "version_minor": 0
      },
      "text/plain": [
       "HBox(children=(FigureWidget({\n",
       "    'data': [{'hoverinfo': 'text',\n",
       "              'marker': {'color': '#636EFA', …"
      ]
     },
     "metadata": {},
     "output_type": "display_data"
    },
    {
     "data": {
      "application/vnd.jupyter.widget-view+json": {
       "model_id": "2d9bbfdbe7ed4079a7dc21077483108c",
       "version_major": 2,
       "version_minor": 0
      },
      "text/plain": [
       "HBox(children=(FigureWidget({\n",
       "    'data': [{'hoverinfo': 'text',\n",
       "              'marker': {'color': '#636EFA', …"
      ]
     },
     "metadata": {},
     "output_type": "display_data"
    },
    {
     "data": {
      "application/vnd.jupyter.widget-view+json": {
       "model_id": "4139ed33bbf84b70b6d96b2da7efe0bc",
       "version_major": 2,
       "version_minor": 0
      },
      "text/plain": [
       "HBox(children=(FigureWidget({\n",
       "    'data': [{'hoverinfo': 'text',\n",
       "              'marker': {'color': '#636EFA', …"
      ]
     },
     "metadata": {},
     "output_type": "display_data"
    },
    {
     "data": {
      "application/vnd.jupyter.widget-view+json": {
       "model_id": "b5e60f4147ef4d61b49a887c4e93ade1",
       "version_major": 2,
       "version_minor": 0
      },
      "text/plain": [
       "HBox(children=(FigureWidget({\n",
       "    'data': [{'hoverinfo': 'text',\n",
       "              'marker': {'color': '#636EFA', …"
      ]
     },
     "metadata": {},
     "output_type": "display_data"
    },
    {
     "data": {
      "application/vnd.jupyter.widget-view+json": {
       "model_id": "57a6ab1b982c49ec9af41b26e72740bc",
       "version_major": 2,
       "version_minor": 0
      },
      "text/plain": [
       "HBox(children=(FigureWidget({\n",
       "    'data': [{'hoverinfo': 'text',\n",
       "              'marker': {'color': '#636EFA', …"
      ]
     },
     "metadata": {},
     "output_type": "display_data"
    },
    {
     "data": {
      "application/vnd.jupyter.widget-view+json": {
       "model_id": "d4b30ea908014844bef74803d0c36a1c",
       "version_major": 2,
       "version_minor": 0
      },
      "text/plain": [
       "HBox(children=(FigureWidget({\n",
       "    'data': [{'hoverinfo': 'text',\n",
       "              'marker': {'color': '#636EFA', …"
      ]
     },
     "metadata": {},
     "output_type": "display_data"
    },
    {
     "data": {
      "application/vnd.jupyter.widget-view+json": {
       "model_id": "ca396a87251048d1b11b87aff27c6ece",
       "version_major": 2,
       "version_minor": 0
      },
      "text/plain": [
       "HBox(children=(FigureWidget({\n",
       "    'data': [{'hoverinfo': 'text',\n",
       "              'marker': {'color': '#636EFA', …"
      ]
     },
     "metadata": {},
     "output_type": "display_data"
    },
    {
     "data": {
      "application/vnd.jupyter.widget-view+json": {
       "model_id": "6bf2947634234f63a8f1c69797076932",
       "version_major": 2,
       "version_minor": 0
      },
      "text/plain": [
       "HBox(children=(FigureWidget({\n",
       "    'data': [{'hoverinfo': 'text',\n",
       "              'marker': {'color': '#636EFA', …"
      ]
     },
     "metadata": {},
     "output_type": "display_data"
    },
    {
     "data": {
      "application/vnd.jupyter.widget-view+json": {
       "model_id": "9d5c1e7e26424d43a5a3bf4bf414a5cc",
       "version_major": 2,
       "version_minor": 0
      },
      "text/plain": [
       "HBox(children=(FigureWidget({\n",
       "    'data': [{'hoverinfo': 'text',\n",
       "              'marker': {'color': '#636EFA', …"
      ]
     },
     "metadata": {},
     "output_type": "display_data"
    },
    {
     "data": {
      "application/vnd.jupyter.widget-view+json": {
       "model_id": "1e2722cf334442859909ee3c45ff5b30",
       "version_major": 2,
       "version_minor": 0
      },
      "text/plain": [
       "HBox(children=(FigureWidget({\n",
       "    'data': [{'hoverinfo': 'text',\n",
       "              'marker': {'color': '#636EFA', …"
      ]
     },
     "metadata": {},
     "output_type": "display_data"
    },
    {
     "data": {
      "application/vnd.jupyter.widget-view+json": {
       "model_id": "ec9596043a264099bfd2eb0f93a57cdc",
       "version_major": 2,
       "version_minor": 0
      },
      "text/plain": [
       "HBox(children=(FigureWidget({\n",
       "    'data': [{'hoverinfo': 'text',\n",
       "              'marker': {'color': '#636EFA', …"
      ]
     },
     "metadata": {},
     "output_type": "display_data"
    },
    {
     "data": {
      "application/vnd.jupyter.widget-view+json": {
       "model_id": "552154d556364cc0837b4e4d97e207e9",
       "version_major": 2,
       "version_minor": 0
      },
      "text/plain": [
       "HBox(children=(FigureWidget({\n",
       "    'data': [{'hoverinfo': 'text',\n",
       "              'marker': {'color': '#636EFA', …"
      ]
     },
     "metadata": {},
     "output_type": "display_data"
    },
    {
     "data": {
      "application/vnd.jupyter.widget-view+json": {
       "model_id": "2e8d505f987a405dad9164658470f21f",
       "version_major": 2,
       "version_minor": 0
      },
      "text/plain": [
       "HBox(children=(FigureWidget({\n",
       "    'data': [{'hoverinfo': 'text',\n",
       "              'marker': {'color': '#636EFA', …"
      ]
     },
     "metadata": {},
     "output_type": "display_data"
    },
    {
     "data": {
      "image/png": "[encoded data removed]",
      "text/plain": [
       "<Figure size 640x480 with 1 Axes>"
      ]
     },
     "metadata": {},
     "output_type": "display_data"
    },
    {
     "data": {
      "image/png": "[encoded data removed]",
      "text/plain": [
       "<Figure size 640x480 with 1 Axes>"
      ]
     },
     "metadata": {},
     "output_type": "display_data"
    },
    {
     "data": {
      "image/png": "[encoded data removed]",
      "text/plain": [
       "<Figure size 640x480 with 1 Axes>"
      ]
     },
     "metadata": {},
     "output_type": "display_data"
    },
    {
     "data": {
      "image/png": "[encoded data removed]",
      "text/plain": [
       "<Figure size 640x480 with 1 Axes>"
      ]
     },
     "metadata": {},
     "output_type": "display_data"
    }
   ],
   "source": [
    "model_files = {\n",
    "    'Lake_VAE  (LAKE Layer-Constrained VAE)': 'Lake_VAE_19.pth',\n",
    "    'BCE_VAE (No KL DIV, No Layer-constraints)': 'BCE_VAE_19.pth',\n",
    "    'BCE_KLD_VAE (Standard VAE)': 'BCE_KLD_VAE_19.pth',\n",
    "    'KLD_VAE (KLD Only)': 'KLD_VAE_19.pth',\n",
    "    'lake_BCEH_VAE (BCE Weighted)': 'lake_BCEH_VAE_19.pth',\n",
    "    'lake_LLH_VAE (LL Weighted)': 'lake_LLH_VAE_19.pth',\n",
    "    'lake_KLDH_VAE (KLD Weighted)': 'lake_KLDH_VAE_19.pth'\n",
    "}\n",
    "\n",
    "# Loop over each model, load it, and plot its latent space\n",
    "for model_name, file_name in model_files.items():\n",
    "    # Create a new model instance\n",
    "    model = LakeVAE().to(DEVICE)\n",
    "    \n",
    "    # Load the trained model\n",
    "    model_path = file_name\n",
    "    load_model(model, model_path, DEVICE)\n",
    "\n",
    "    # Plot the latent space\n",
    "    title = f'{model_name}'\n",
    "    z_box, w_box = plot_latent_space_interactive(model, trainloader, DEVICE, title, 'Training', num_samples=5000)\n",
    "    display(z_box)\n",
    "    display(w_box)"
   ]
  },
  {
   "cell_type": "code",
   "execution_count": 71,
   "metadata": {},
   "outputs": [
    {
     "data": {
      "image/png": "[encoded data removed]",
      "text/plain": [
       "<Figure size 1000x600 with 1 Axes>"
      ]
     },
     "metadata": {},
     "output_type": "display_data"
    }
   ],
   "source": [
    "losses_file = \"Lake_VAE_epoch_1.json\"\n",
    "train_losses, val_losses = load_losses(losses_file)\n",
    "plot_losses(train_losses, val_losses)"
   ]
  },
  {
   "cell_type": "markdown",
   "metadata": {},
   "source": [
    "# Probability Density Estimation Training and Testing"
   ]
  },
  {
   "cell_type": "markdown",
   "metadata": {},
   "source": [
    "Using 900 MNIST validation images (labelled 0) and 100 GAN generated MNIST images (labelled 1) to create a combined testing dataset. \n",
    "Then attempting to see if the LAKE anomaly detection can find the synthetic images."
   ]
  },
  {
   "cell_type": "code",
   "execution_count": 31,
   "metadata": {},
   "outputs": [
    {
     "name": "stdout",
     "output_type": "stream",
     "text": [
      "Range of pixel values: 0.0 to 1.0\n"
     ]
    }
   ],
   "source": [
    "from torchvision.datasets import MNIST\n",
    "from torch.utils.data import DataLoader, TensorDataset, ConcatDataset\n",
    "import torch\n",
    "import matplotlib.pyplot as plt\n",
    "import numpy as np\n",
    "from sklearn.neighbors import KernelDensity\n",
    "from sklearn.model_selection import GridSearchCV\n",
    "\n",
    "# Load the validation dataset\n",
    "mnist_validation_data = validation_dataset \n",
    "\n",
    "# Extract MNIST images and labels\n",
    "mnist_images = mnist_validation_data.dataset.data[mnist_validation_data.indices][:900]\n",
    "mnist_labels = torch.zeros(900)  # Label '0' for real MNIST data\n",
    "\n",
    "# Load GAN generated images\n",
    "gan_images_path = 'gan_generated_mnist_images.pt'\n",
    "gan_images = torch.load(gan_images_path)\n",
    "\n",
    "# Normalize the MNIST and GAN images if they are not already\n",
    "mnist_images = mnist_images.float() / 255.0\n",
    "mnist_images = mnist_images[:,None]\n",
    "gan_images = gan_images.float() / 255.0 if gan_images.max() > 1.0 else gan_images\n",
    "\n",
    "# Add a pure white image as an anomaly\n",
    "white_image = torch.ones(1, 1, 28, 28)\n",
    "white_label = torch.tensor([1])  # Anomaly label\n",
    "\n",
    "# Combine MNIST, GAN, and white image into one dataset\n",
    "combined_images = torch.cat((mnist_images, gan_images, white_image), dim=0)\n",
    "combined_labels = torch.cat((mnist_labels, torch.ones(100), white_label), dim=0)\n",
    "\n",
    "# Create a TensorDataset and DataLoader\n",
    "combined_dataset = TensorDataset(combined_images, combined_labels)\n",
    "combined_loader = DataLoader(combined_dataset, batch_size=64, shuffle=True)\n",
    "\n",
    "# Check the normalization\n",
    "max_pixel_value = combined_images.max()\n",
    "min_pixel_value = combined_images.min()\n",
    "print(f\"Range of pixel values: {min_pixel_value} to {max_pixel_value}\")"
   ]
  },
  {
   "cell_type": "code",
   "execution_count": 32,
   "metadata": {},
   "outputs": [
    {
     "name": "stdout",
     "output_type": "stream",
     "text": [
      "(48000, 12)\n",
      "(1001, 12)\n"
     ]
    }
   ],
   "source": [
    "# Function to encode dataset and compute reconstruction errors\n",
    "def encode_and_reconstruct(model, dataloader, device):\n",
    "    model.eval()\n",
    "    ws = []\n",
    "    rec_errors = []\n",
    "    with torch.no_grad():\n",
    "        for x, _ in dataloader:\n",
    "            x = x.to(device)\n",
    "            # Get w and x' in forward pass\n",
    "            recon_x, _, _, _, _, _, w, _, _, _ = model(x)\n",
    "\n",
    "            # Store w\n",
    "            ws.append(w.cpu()) \n",
    "\n",
    "            # Calc and store rec_eu and rec_co\n",
    "            rec_euclidean = torch.norm(x - recon_x, p=2, dim=(1, 2, 3))\n",
    "            rec_cosine = F.cosine_similarity(x.view(x.size(0), -1), recon_x.view(recon_x.size(0), -1), dim=1)\n",
    "            r = torch.stack((rec_euclidean, rec_cosine), dim=1)\n",
    "            rec_errors.append(r.cpu()) \n",
    "            \n",
    "    return torch.cat(ws, dim=0), torch.cat(rec_errors, dim=0)\n",
    "    \n",
    "Lake_VAE.to(DEVICE)\n",
    "\n",
    "# For Training Data\n",
    "encoded_ws, reconstruction_rs = encode_and_reconstruct(Lake_VAE, trainloader, DEVICE)\n",
    "assert not torch.isnan(encoded_ws).any(), \"NaNs in encoded_ws\"\n",
    "assert not torch.isnan(reconstruction_rs).any(), \"NaNs in reconstruction_rs\"\n",
    "C_Train = np.hstack((encoded_ws, reconstruction_rs))\n",
    "print(C_Train.shape)\n",
    "\n",
    "# Testing Data\n",
    "encoded_ws, reconstruction_rs = encode_and_reconstruct(Lake_VAE, combined_loader, DEVICE)\n",
    "assert not torch.isnan(encoded_ws).any(), \"NaNs in encoded_ws\"\n",
    "assert not torch.isnan(reconstruction_rs).any(), \"NaNs in reconstruction_rs\"\n",
    "C = np.hstack((encoded_ws, reconstruction_rs))\n",
    "print(C.shape)"
   ]
  },
  {
   "cell_type": "markdown",
   "metadata": {},
   "source": [
    "There are three main things that affect the anomaly detection results. <br>\n",
    "A. The model used (how well the data is compressed). The ability of your VAE to compress and reconstruct data is critical. It is contained within w and r. <br>\n",
    "B. The KDE's bandwidth setting, corresponding to the smoothness of the density estimate. <br>\n",
    "If it's too narrow, you might have a very bumpy estimate that's sensitive to noise. <br>\n",
    "If it's too wide, the estimate might be too smooth and anomalies could be missed because they blend in with the normal data. <br>\n",
    "C. Anomaly detection threshold. What proportion of your dataset you set expected to be an anomaly. <br>"
   ]
  },
  {
   "cell_type": "code",
   "execution_count": null,
   "metadata": {},
   "outputs": [],
   "source": [
    "# KernelDensity from sklearn represents fh(s) = (1/n) ∑[i=1 to n] Kh(s - ci)\n",
    "from joblib import dump\n",
    "\n",
    "def perform_kde(C_Train):\n",
    "    # Doing k-fold validation on to find good bandwidth value\n",
    "    params = {'bandwidth': np.linspace(0.01, 0.2, 20)}\n",
    "    grid = GridSearchCV(KernelDensity(kernel='gaussian'), params, cv=5)\n",
    "    grid.fit(C_Train)\n",
    "    print(f\"Optimal bandwidth: {grid.best_estimator_.bandwidth}\")\n",
    "    kde = KernelDensity(kernel='gaussian', bandwidth=grid.best_estimator_.bandwidth)\n",
    "    \n",
    "    #kde = KernelDensity(kernel='gaussian', bandwidth=0.05) # Manual bandwidth setting\n",
    "    kde.fit(C_Train)\n",
    "    return kde\n",
    "\n",
    "# Function to estimate density from C values\n",
    "def estimate_density(kde, C):\n",
    "    log_density = kde.score_samples(C)\n",
    "    return np.exp(log_density)\n",
    "\n",
    "# Calibrate and Save KDE\n",
    "kde_model = perform_kde(C_Train)\n",
    "dump(kde_model, 'kde_model.joblib')\n",
    "\n",
    "density_estimates = estimate_density(kde_model, C)\n",
    "\n",
    "# Determine anomaly threshold and detect anomalies\n",
    "threshold = np.percentile(density_estimates, 10)\n",
    "anomalies = density_estimates < threshold\n",
    "\n",
    "# Calculate and print anomaly detection results\n",
    "detected_anomalies = np.sum(anomalies[-101:]) \n",
    "print(f\"Detected {detected_anomalies} anomalies out of 101 synthetic images.\")\n",
    "\n",
    "# Plotting\n",
    "plt.figure(figsize=(12, 6))\n",
    "plt.hist(density_estimates, bins=100, alpha=0.5, color='blue', label='Density Scores')\n",
    "plt.axvline(threshold, color='red', linestyle='--', label='Threshold')\n",
    "plt.legend()\n",
    "plt.title('Density Estimates and Anomaly Threshold')\n",
    "plt.xlabel('Density Score')\n",
    "plt.ylabel('Frequency')\n",
    "plt.tight_layout()\n",
    "plt.show()"
   ]
  },
  {
   "cell_type": "code",
   "execution_count": 34,
   "metadata": {},
   "outputs": [
    {
     "name": "stdout",
     "output_type": "stream",
     "text": [
      "Detected 10 anomalies out of 101 synthetic images.\n"
     ]
    },
    {
     "data": {
      "image/png": "[encoded data removed]",
      "text/plain": [
       "<Figure size 1200x600 with 1 Axes>"
      ]
     },
     "metadata": {},
     "output_type": "display_data"
    }
   ],
   "source": [
    "# Calibrate and Save KDE\n",
    "from joblib import load\n",
    "kde_model = load('kde_model.joblib')\n",
    "\n",
    "# Function to estimate density from C values\n",
    "def estimate_density(kde, C):\n",
    "    log_density = kde.score_samples(C)\n",
    "    return np.exp(log_density)\n",
    "\n",
    "density_estimates = estimate_density(kde_model, C)\n",
    "\n",
    "# Determine anomaly threshold and detect anomalies\n",
    "threshold = np.percentile(density_estimates, 10)\n",
    "anomalies = density_estimates < threshold\n",
    "\n",
    "# Calculate and print anomaly detection results\n",
    "detected_anomalies = np.sum(anomalies[-101:]) \n",
    "print(f\"Detected {detected_anomalies} anomalies out of 101 synthetic images.\")\n",
    "\n",
    "# Plotting\n",
    "plt.figure(figsize=(12, 6))\n",
    "plt.hist(density_estimates, bins=100, alpha=0.5, color='blue', label='Density Scores')\n",
    "plt.axvline(threshold, color='red', linestyle='--', label='Threshold')\n",
    "plt.legend()\n",
    "plt.title('Density Estimates and Anomaly Threshold')\n",
    "plt.xlabel('Density Score')\n",
    "plt.ylabel('Frequency')\n",
    "plt.tight_layout()\n",
    "plt.show()"
   ]
  }
 ],
 "metadata": {
  "kernelspec": {
   "display_name": "Python 3 (ipykernel)",
   "language": "python",
   "name": "python3"
  },
  "language_info": {
   "codemirror_mode": {
    "name": "ipython",
    "version": 3
   },
   "file_extension": ".py",
   "mimetype": "text/x-python",
   "name": "python",
   "nbconvert_exporter": "python",
   "pygments_lexer": "ipython3",
   "version": "3.9.18"
  }
 },
 "nbformat": 4,
 "nbformat_minor": 4
}

{
 "cells": [
  {
   "cell_type": "markdown",
   "metadata": {},
   "source": [
    "# Imports and Defining VAE classes"
   ]
  },
  {
   "cell_type": "code",
   "execution_count": 1,
   "metadata": {},
   "outputs": [],
   "source": [
    "from sklearn.decomposition import PCA\n",
    "import matplotlib.pyplot as plt\n",
    "import numpy as np\n",
    "import pandas as pd \n",
    "import os\n",
    "\n",
    "import torch\n",
    "import torch.nn as nn\n",
    "import torch.nn.functional as F\n",
    "from torch.utils.data import DataLoader, random_split\n",
    "from torchvision import datasets, transforms"
   ]
  },
  {
   "cell_type": "code",
   "execution_count": 2,
   "metadata": {},
   "outputs": [],
   "source": [
    "class StandardVAE(nn.Module):\n",
    "    def __init__(self, latent_dim=20):\n",
    "        super(StandardVAE, self).__init__()\n",
    "        self.latent_dim = latent_dim\n",
    "\n",
    "        # Encoder layers\n",
    "        # Input: [bs, 1, 28, 28]\n",
    "        self.enc_conv1 = nn.Conv2d(1, 16, kernel_size=3, stride=2, padding=1)  # Output: [bs, 16, 14, 14]\n",
    "        self.enc_conv2 = nn.Conv2d(16, 32, kernel_size=3, stride=2, padding=1) # Output: [bs, 32, 7, 7]\n",
    "        self.enc_fc1 = nn.Linear(32 * 7 * 7, 128)  # Output: [bs, 128]\n",
    "        # Two output layers for the latent space\n",
    "        self.enc_fc2 = nn.Linear(128, latent_dim)  # For mu, Output: [bs, latent_dim]\n",
    "        self.enc_fc3 = nn.Linear(128, latent_dim)  # For logvar, Output: [bs, latent_dim]\n",
    "\n",
    "        # Decoder layers\n",
    "        self.dec_fc1 = nn.Linear(latent_dim, 128)  # Output: [bs, 128]\n",
    "        self.dec_fc2 = nn.Linear(128, 32 * 7 * 7)  # Output: [bs, 1568]\n",
    "        self.dec_conv1 = nn.ConvTranspose2d(32, 16, kernel_size=3, stride=2, padding=1, output_padding=1)  # Output: [bs, 16, 14, 14]\n",
    "        self.dec_conv2 = nn.ConvTranspose2d(16, 1, kernel_size=3, stride=2, padding=1, output_padding=1)  # Output: [bs, 1, 28, 28]\n",
    "\n",
    "    def encode(self, x):\n",
    "        h = F.relu(self.enc_conv1(x))\n",
    "        h = F.relu(self.enc_conv2(h))\n",
    "        h = torch.flatten(h, start_dim=1)\n",
    "        h = F.relu(self.enc_fc1(h))\n",
    "        return self.enc_fc2(h), self.enc_fc3(h)\n",
    "\n",
    "    def reparameterize(self, mu, logvar):\n",
    "        std = torch.exp(0.5 * logvar)\n",
    "        # Returns a tensor with the same size as input that is filled with random numbers from a normal distribution with mean 0 and variance 1.\n",
    "        eps = torch.randn_like(std)\n",
    "        return mu + eps * std\n",
    "\n",
    "    def decode(self, z):\n",
    "        h = F.relu(self.dec_fc1(z)) \n",
    "        h = F.relu(self.dec_fc2(h)).view(-1, 32, 7, 7) # .view reshapes [bs, 1568] to [bs, 32, 7, 7]\n",
    "        h = F.relu(self.dec_conv1(h))\n",
    "        return torch.sigmoid(self.dec_conv2(h))\n",
    "\n",
    "    def forward(self, x):\n",
    "        mu, logvar = self.encode(x)\n",
    "        z = self.reparameterize(mu, logvar)\n",
    "        return self.decode(z), z, mu, logvar\n",
    "\n",
    "def loss_function_standard(recon_x, z, mu, logvar, x):\n",
    "    BCE = F.binary_cross_entropy(recon_x, x, reduction='sum')\n",
    "    KLD = -0.5 * torch.sum(1 + logvar - mu.pow(2) - logvar.exp())\n",
    "    # Can reweight BCE + KLD as desired\n",
    "    return BCE + KLD"
   ]
  },
  {
   "cell_type": "markdown",
   "metadata": {},
   "source": [
    "LakeVAE inheirits from StandardVAE, but with a modified forward pass.\n",
    "Its encoding and decoding layers are identicle. \n",
    "The only difference is that the forward pass stores and returns all the intermediate values required to calculate the modified reconstruction loss.\n",
    "\n",
    "Since pixel values are either 0 or 1, we can use BCE between the input image and output image.\n",
    "However, for the intermediate layers, that are continuous, we use can MSE instead. This is also what the paper's code does in practice."
   ]
  },
  {
   "cell_type": "code",
   "execution_count": 3,
   "metadata": {},
   "outputs": [],
   "source": [
    "class LakeVAE(StandardVAE):\n",
    "    def forward(self, x):\n",
    "        # Encoder layers\n",
    "        # Input: [bs, 1, 28, 28]\n",
    "        enc_conv1_out = F.relu(self.enc_conv1(x))  # Output: [bs, 16, 14, 14]\n",
    "        enc_conv2_out = F.relu(self.enc_conv2(enc_conv1_out))  # Output: [bs, 32, 7, 7]\n",
    "        flattened = torch.flatten(enc_conv2_out, start_dim=1)  # Output: [bs, 1568]\n",
    "        h = F.relu(self.enc_fc1(flattened))  # Output: [bs, 128]\n",
    "        mu, logvar = self.enc_fc2(h), self.enc_fc3(h)  # Output: [bs, latent_dim], [bs, latent_dim]\n",
    "\n",
    "        # Reparameterization and Decoding layers\n",
    "        z = self.reparameterize(mu, logvar)  # Output: [bs, latent_dim]\n",
    "        dec_fc1_out = F.relu(self.dec_fc1(z))  # Output: [bs, 128]\n",
    "        dec_fc2_out = F.relu(self.dec_fc2(dec_fc1_out)).view(-1, 32, 7, 7)  # Output: [bs, 1568], then reshaped to [bs, 32, 7, 7]\n",
    "        dec_conv1_out = F.relu(self.dec_conv1(dec_fc2_out))  # Output: [bs, 16, 14, 14]\n",
    "        recon_x = torch.sigmoid(self.dec_conv2(dec_conv1_out))  # Output: [bs, 1, 28, 28]\n",
    "\n",
    "        return recon_x, z, mu, logvar, enc_conv1_out, enc_conv2_out, h, dec_fc1_out, dec_fc2_out, dec_conv1_out\n",
    "\n",
    "def loss_function_lake(recon_x, z, mu, logvar, enc_conv1_out, enc_conv2_out, h, dec_fc1_out, dec_fc2_out, dec_conv1_out, x):\n",
    "    BCE = F.binary_cross_entropy(recon_x, x, reduction='sum')\n",
    "    # Layer-wise reconstruction loss\n",
    "    layer_loss = F.mse_loss(enc_conv1_out, dec_conv1_out) + F.mse_loss(enc_conv2_out, dec_fc2_out) + F.mse_loss(h, dec_fc1_out)\n",
    "    # KL Divergence\n",
    "    KLD = -0.5 * torch.sum(1 + logvar - mu.pow(2) - logvar.exp())\n",
    "    return BCE + KLD + layer_loss"
   ]
  },
  {
   "cell_type": "markdown",
   "metadata": {},
   "source": [
    "## Testing GPU acceleration"
   ]
  },
  {
   "cell_type": "code",
   "execution_count": 4,
   "metadata": {},
   "outputs": [
    {
     "name": "stdout",
     "output_type": "stream",
     "text": [
      "Is CUDA available: True\n",
      "Using device: cuda\n"
     ]
    }
   ],
   "source": [
    "# Check if CUDA is available\n",
    "is_cuda_available = torch.cuda.is_available()\n",
    "print(\"Is CUDA available:\", is_cuda_available)\n",
    "\n",
    "# Determine the device to use: GPU (CUDA), Apple Silicon (MPS), or CPU\n",
    "DEVICE = (\n",
    "    \"cuda\"\n",
    "    if torch.cuda.is_available()\n",
    "    else \"mps\"\n",
    "    if torch.backends.mps.is_available()\n",
    "    else \"cpu\"\n",
    ")\n",
    "print(\"Using device:\", DEVICE)"
   ]
  },
  {
   "cell_type": "code",
   "execution_count": 5,
   "metadata": {},
   "outputs": [
    {
     "name": "stdout",
     "output_type": "stream",
     "text": [
      "Test tensor on CUDA: tensor([1., 2., 3.], device='cuda:0')\n"
     ]
    }
   ],
   "source": [
    "if torch.cuda.is_available():\n",
    "    # Test tensor operation on GPU\n",
    "    test_tensor = torch.tensor([1.0, 2.0, 3.0], device=\"cuda\")\n",
    "    print(\"Test tensor on CUDA:\", test_tensor)"
   ]
  },
  {
   "cell_type": "code",
   "execution_count": 6,
   "metadata": {},
   "outputs": [
    {
     "name": "stdout",
     "output_type": "stream",
     "text": [
      "Successfully moved a tensor to the device: tensor([1, 2, 3], device='cuda:0')\n"
     ]
    }
   ],
   "source": [
    "if is_cuda_available:\n",
    "    try:\n",
    "        test_tensor = torch.tensor([1, 2, 3], device=DEVICE)\n",
    "        print(\"Successfully moved a tensor to the device:\", test_tensor)\n",
    "    except RuntimeError as e:\n",
    "        print(\"Error moving a tensor to the device:\", e)"
   ]
  },
  {
   "cell_type": "markdown",
   "metadata": {},
   "source": [
    "# Loading Dataset and Training"
   ]
  },
  {
   "cell_type": "markdown",
   "metadata": {},
   "source": [
    "This cell loads in the mnist dataset into train, validation, and test dataloaders.\n",
    "While doing so, they are normalised to be [0,1] and turned into tensors."
   ]
  },
  {
   "cell_type": "code",
   "execution_count": 7,
   "metadata": {},
   "outputs": [],
   "source": [
    "transform = transforms.Compose([transforms.ToTensor()])\n",
    "\n",
    "# Download the MNIST dataset\n",
    "mnist_trainset = datasets.MNIST(root='~/.pytorch/MNIST_data/', train=True, download=True, transform=transform)\n",
    "\n",
    "# Splitting the dataset into train and validation sets\n",
    "train_size = int(0.8 * len(mnist_trainset))\n",
    "validation_size = len(mnist_trainset) - train_size\n",
    "train_dataset, validation_dataset = random_split(mnist_trainset, [train_size, validation_size])\n",
    "\n",
    "# Download and load the test data\n",
    "test_dataset = datasets.MNIST(root='~/.pytorch/MNIST_data/', train=False, download=True, transform=transform)"
   ]
  },
  {
   "cell_type": "code",
   "execution_count": 22,
   "metadata": {},
   "outputs": [
    {
     "name": "stdout",
     "output_type": "stream",
     "text": [
      "Training parameters: batch_size=64, learning_rate=0.001, epochs=1\n",
      "Training Standard_VAE...\n"
     ]
    },
    {
     "ename": "TypeError",
     "evalue": "train_vae() missing 3 required positional arguments: 'epochs', 'device', and 'model_name'",
     "output_type": "error",
     "traceback": [
      "\u001b[0;31m---------------------------------------------------------------------------\u001b[0m",
      "\u001b[0;31mTypeError\u001b[0m                                 Traceback (most recent call last)",
      "Cell \u001b[0;32mIn[22], line 32\u001b[0m\n\u001b[1;32m     30\u001b[0m \u001b[38;5;28mprint\u001b[39m(\u001b[38;5;124m\"\u001b[39m\u001b[38;5;124mTraining Standard_VAE...\u001b[39m\u001b[38;5;124m\"\u001b[39m)\n\u001b[1;32m     31\u001b[0m Optimiser_Standard \u001b[38;5;241m=\u001b[39m torch\u001b[38;5;241m.\u001b[39moptim\u001b[38;5;241m.\u001b[39mAdam(Standard_VAE\u001b[38;5;241m.\u001b[39mparameters(), lr\u001b[38;5;241m=\u001b[39mlearning_rate)\n\u001b[0;32m---> 32\u001b[0m Trained_Standard_VAE \u001b[38;5;241m=\u001b[39m \u001b[43mtrain_vae\u001b[49m\u001b[43m(\u001b[49m\u001b[43mStandard_VAE\u001b[49m\u001b[43m,\u001b[49m\u001b[43m \u001b[49m\u001b[43mtrainloader\u001b[49m\u001b[43m,\u001b[49m\u001b[43m \u001b[49m\u001b[43mloss_function_standard\u001b[49m\u001b[43m,\u001b[49m\u001b[43m \u001b[49m\u001b[43mOptimiser_Standard\u001b[49m\u001b[43m,\u001b[49m\u001b[43m \u001b[49m\u001b[43mepochs\u001b[49m\u001b[43m)\u001b[49m\n\u001b[1;32m     34\u001b[0m \u001b[38;5;28mprint\u001b[39m(\u001b[38;5;124m\"\u001b[39m\u001b[38;5;124mTraining Lake_VAE...\u001b[39m\u001b[38;5;124m\"\u001b[39m)\n\u001b[1;32m     35\u001b[0m Optimiser_Lake \u001b[38;5;241m=\u001b[39m torch\u001b[38;5;241m.\u001b[39moptim\u001b[38;5;241m.\u001b[39mAdam(Lake_VAE\u001b[38;5;241m.\u001b[39mparameters(), lr\u001b[38;5;241m=\u001b[39mlearning_rate)\n",
      "\u001b[0;31mTypeError\u001b[0m: train_vae() missing 3 required positional arguments: 'epochs', 'device', and 'model_name'"
     ]
    }
   ],
   "source": [
    "# Training parameters\n",
    "batch_size = 64\n",
    "learning_rate = 1e-3\n",
    "epochs = 1  # You can adjust this based on how well the model is learning and your time constraints\n",
    "\n",
    "# Adjust the DataLoader batch_size if necessary\n",
    "trainloader = DataLoader(train_dataset, batch_size=batch_size, shuffle=True)\n",
    "validationloader = DataLoader(validation_dataset, batch_size=batch_size, shuffle=True)\n",
    "testloader = DataLoader(test_dataset, batch_size=batch_size, shuffle=True)\n",
    "\n",
    "Standard_VAE = StandardVAE().to(DEVICE)\n",
    "Lake_VAE = LakeVAE().to(DEVICE)\n",
    "\n",
    "def train_vae_old(model, trainloader, loss_function, optimiser, epochs):\n",
    "    model.train()\n",
    "    for epoch in range(epochs):\n",
    "        total_loss = 0\n",
    "        for batch_idx, (data, _) in enumerate(trainloader):\n",
    "            data = data.to(DEVICE)\n",
    "            optimiser.zero_grad()\n",
    "            outputs = model(data)\n",
    "            loss = loss_function(*outputs, data)\n",
    "            loss.backward()\n",
    "            optimiser.step()\n",
    "            total_loss += loss.item()\n",
    "        print(f'Epoch {epoch+1}, Loss: {total_loss / len(trainloader.dataset)}')\n",
    "\n",
    "print(f'Training parameters: batch_size={batch_size}, learning_rate={learning_rate}, epochs={epochs}')\n",
    "\n",
    "print(\"Training Standard_VAE...\")\n",
    "Optimiser_Standard = torch.optim.Adam(Standard_VAE.parameters(), lr=learning_rate)\n",
    "Trained_Standard_VAE = train_vae(Standard_VAE, trainloader, loss_function_standard, Optimiser_Standard, epochs)\n",
    "\n",
    "print(\"Training Lake_VAE...\")\n",
    "Optimiser_Lake = torch.optim.Adam(Lake_VAE.parameters(), lr=learning_rate)\n",
    "Trained_Lake_VAE = train_vae(Lake_VAE, trainloader, loss_function_lake, Optimiser_Lake, epochs)"
   ]
  },
  {
   "cell_type": "markdown",
   "metadata": {},
   "source": [
    "Uses 125MiB of GPU memory. Perhaps could try Jupyterlab and jupyterlab-nvdashboard to monitor GPU usage."
   ]
  },
  {
   "cell_type": "code",
   "execution_count": 8,
   "metadata": {},
   "outputs": [],
   "source": [
    "def save_model(model, path):\n",
    "    torch.save(model.state_dict(), path)"
   ]
  },
  {
   "cell_type": "code",
   "execution_count": 9,
   "metadata": {},
   "outputs": [],
   "source": [
    "def load_model(model, path, device):\n",
    "    model.load_state_dict(torch.load(path, map_location=device))"
   ]
  },
  {
   "cell_type": "code",
   "execution_count": 10,
   "metadata": {},
   "outputs": [],
   "source": [
    "def plot_losses(train_losses, val_losses):\n",
    "    plt.figure(figsize=(10, 6))\n",
    "    plt.plot(train_losses, label='Training Loss')\n",
    "    plt.plot(val_losses, label='Validation Loss')\n",
    "    plt.xlabel('Epochs')\n",
    "    plt.ylabel('Loss')\n",
    "    plt.title('Training and Validation Loss')\n",
    "    plt.legend()\n",
    "    plt.show()"
   ]
  },
  {
   "cell_type": "code",
   "execution_count": 11,
   "metadata": {},
   "outputs": [],
   "source": [
    "def generate_and_save_images(model, epoch, latent_vectors, folder=\"generated_images\"):\n",
    "    model.eval()\n",
    "    with torch.no_grad():\n",
    "        generated = model.decode(latent_vectors).cpu()\n",
    "    for i, img in enumerate(generated):\n",
    "        plt.imshow(img.squeeze(), cmap='gray')\n",
    "        plt.savefig(f\"{folder}/img_{epoch}_{i}.png\")\n",
    "    model.train()"
   ]
  },
  {
   "cell_type": "code",
   "execution_count": 12,
   "metadata": {},
   "outputs": [],
   "source": [
    "def plot_latent_space(model, data_loader, device, num_samples=1000):\n",
    "    model.eval()\n",
    "    latents = []\n",
    "    labels = []\n",
    "    with torch.no_grad():\n",
    "        for data, label in data_loader:\n",
    "            data = data.to(device)\n",
    "            mu, _ = model.encode(data)\n",
    "            latents.append(mu.cpu().numpy())\n",
    "            labels.append(label.numpy())\n",
    "            if len(latents) * data_loader.batch_size > num_samples:\n",
    "                break\n",
    "    \n",
    "    latents = np.concatenate(latents, axis=0)[:num_samples]\n",
    "    labels = np.concatenate(labels, axis=0)[:num_samples]\n",
    "    \n",
    "    pca = PCA(n_components=2)\n",
    "    latents_reduced = pca.fit_transform(latents)\n",
    "    \n",
    "    plt.figure(figsize=(10, 6))\n",
    "    plt.scatter(latents_reduced[:, 0], latents_reduced[:, 1], c=labels, cmap='viridis', s=2, alpha=0.6)\n",
    "    plt.colorbar()\n",
    "    plt.title(\"Latent Space (PCA-reduced)\")\n",
    "    plt.xlabel(\"PCA Component 1\")\n",
    "    plt.ylabel(\"PCA Component 2\")\n",
    "    plt.show()\n",
    "    model.train()"
   ]
  },
  {
   "cell_type": "code",
   "execution_count": 151,
   "metadata": {},
   "outputs": [],
   "source": [
    "import base64\n",
    "from PIL import Image\n",
    "import plotly.graph_objects as go\n",
    "\n",
    "# Function to encode image as base64 for Plotly\n",
    "def encode_image_for_plotly(path):\n",
    "    with open(path, \"rb\") as image_file:\n",
    "        encoded = base64.b64encode(image_file.read()).decode()\n",
    "    return \"data:image/png;base64,\" + encoded\n",
    "\n",
    "def plot_losses_with_img(epoch, plot_interval, num_img_plot, latent_vectors, train_losses, val_losses, model, device, folder=\"generated_images\"):\n",
    "    # Generate and save images\n",
    "    if epoch % plot_interval == 0:\n",
    "        model.eval()\n",
    "        with torch.no_grad():\n",
    "            generated = model.decode(latent_vectors).cpu()\n",
    "        for i, img in enumerate(generated):\n",
    "            plt.imshow(img.squeeze(), cmap='gray')\n",
    "            plt.axis('off')  # Remove axes\n",
    "            file_path = f\"{folder}/epoch_{epoch}_img_{i}.png\"\n",
    "            plt.savefig(file_path, bbox_inches='tight', pad_inches=0)\n",
    "        model.train()\n",
    "\n",
    "    # Create Plotly figure\n",
    "    fig = go.Figure()\n",
    "\n",
    "    # Add loss curves\n",
    "    epochs_range = list(range(1, len(train_losses)+1))\n",
    "    fig.add_trace(go.Scatter(x=epochs_range, y=train_losses, mode='lines', name='Training Loss'))\n",
    "    fig.add_trace(go.Scatter(x=epochs_range, y=val_losses, mode='lines', name='Validation Loss'))\n",
    "\n",
    "    # Add images to plot\n",
    "    for ep in range(0, epoch+1, plot_interval):\n",
    "        for i in range(num_img_plot):\n",
    "            image_path = f\"{folder}/epoch_{ep}_img_{i}.png\"\n",
    "            encoded_image = encode_image_for_plotly(image_path)\n",
    "            fig.add_layout_image(\n",
    "                dict(\n",
    "                    source=encoded_image,\n",
    "                    xref=\"x\", yref=\"y\",\n",
    "                    x=ep, y=val_losses[ep-1] if ep < len(val_losses) else val_losses[-1],\n",
    "                    sizex=2, sizey=2,  # Adjust size as needed\n",
    "                    xanchor=\"center\", yanchor=\"middle\"\n",
    "                )\n",
    "            )\n",
    "\n",
    "    # Update layout\n",
    "    fig.update_layout(title='Training and Validation Loss with Generated Images', xaxis_title='Epoch', yaxis_title='Loss')\n",
    "\n",
    "    # Display the figure\n",
    "    fig.show()\n",
    "\n",
    "    # Optionally save the figure to HTML or any other format\n",
    "    # fig.write_html(f\"training_epoch_{epoch}.html\")\n"
   ]
  },
  {
   "cell_type": "code",
   "execution_count": 161,
   "metadata": {},
   "outputs": [],
   "source": [
    "import io\n",
    "import base64\n",
    "import matplotlib.pyplot as plt\n",
    "import plotly.graph_objects as go\n",
    "from PIL import Image\n",
    "from torchvision.transforms import ToPILImage\n",
    "\n",
    "def generate_image(model, latent_vector):\n",
    "    model.eval()\n",
    "    with torch.no_grad():\n",
    "        generated = model.decode(latent_vector.unsqueeze(0)).cpu()\n",
    "    img = generated.squeeze()\n",
    "    # Convert tensor to PIL Image\n",
    "    img = ToPILImage()(img)\n",
    "    return img\n",
    "\n",
    "def encode_image_for_plotly(image):\n",
    "    buffered = io.BytesIO()\n",
    "    image.save(buffered, format=\"PNG\")\n",
    "    return \"data:image/png;base64,\" + base64.b64encode(buffered.getvalue()).decode()\n",
    "    \n",
    "def plot_losses_with_img(epoch, plot_interval, num_img_plot, latent_vectors, train_losses, val_losses, model, device, folder=\"generated_images\"):\n",
    "    fig = go.Figure()\n",
    "\n",
    "    # Plot training and validation losses\n",
    "    fig.add_trace(go.Scatter(x=list(range(1, epoch + 1)), y=train_losses[:epoch], mode='lines+markers', name='Training Loss'))\n",
    "    fig.add_trace(go.Scatter(x=list(range(1, epoch + 1)), y=val_losses[:epoch], mode='lines+markers', name='Validation Loss'))\n",
    "\n",
    "    # Generate and plot images at specified intervals\n",
    "    if epoch % plot_interval == 0 or epoch == 1:\n",
    "        for i in range(num_img_plot):\n",
    "            latent_vector = latent_vectors[i]\n",
    "            img = generate_image(model, latent_vector)\n",
    "            encoded_image = encode_image_for_plotly(img)\n",
    "\n",
    "            # Add image to the plot\n",
    "            fig.add_layout_image(\n",
    "                dict(\n",
    "                    source=encoded_image,\n",
    "                    xref=\"paper\", yref=\"paper\",\n",
    "                    x=0.5, y=0.5,  # Adjust these values to change image position\n",
    "                    sizex=0.2, sizey=0.2,  # Adjust image size\n",
    "                    xanchor=\"center\", yanchor=\"middle\",\n",
    "                    layer=\"above\"\n",
    "                )\n",
    "            )\n",
    "\n",
    "    # Update layout for a professional look\n",
    "    fig.update_layout(\n",
    "        title=f'Training Progress up to Epoch {epoch}',\n",
    "        xaxis_title='Epoch',\n",
    "        yaxis_title='Loss',\n",
    "        showlegend=True,\n",
    "        legend=dict(orientation=\"h\", yanchor=\"bottom\", y=1.02, xanchor=\"right\", x=1)\n",
    "    )\n",
    "\n",
    "    # Display the figure\n",
    "    fig.show()"
   ]
  },
  {
   "cell_type": "code",
   "execution_count": 162,
   "metadata": {},
   "outputs": [],
   "source": [
    "def validate_vae(model, val_loader, loss_function, device):\n",
    "    total_loss = 0\n",
    "    with torch.no_grad():\n",
    "        for data, _ in val_loader:\n",
    "            data = data.to(device)\n",
    "            outputs = model(data)\n",
    "            loss = loss_function(*outputs, data)\n",
    "            total_loss += loss.item()\n",
    "    return total_loss / len(val_loader.dataset)\n",
    "    \n",
    "def train_vae(model, train_loader, val_loader, loss_function, optimiser, epochs, device, model_name, plot_interval=1):\n",
    "    train_losses = []\n",
    "    val_losses = []\n",
    "    best_val_loss = float('inf')\n",
    "    best_model_state = None\n",
    "    best_epoch = 0\n",
    "\n",
    "    for epoch in range(epochs):\n",
    "        model.train()\n",
    "        total_loss = 0\n",
    "        for batch_idx, (data, _) in enumerate(train_loader):\n",
    "            data = data.to(device)\n",
    "            optimiser.zero_grad()\n",
    "            outputs = model(data)\n",
    "            loss = loss_function(*outputs, data)\n",
    "            loss.backward()\n",
    "            optimiser.step()\n",
    "            total_loss += loss.item()\n",
    "\n",
    "        train_loss = total_loss / len(train_loader.dataset)\n",
    "        train_losses.append(train_loss)\n",
    "\n",
    "        model.eval()\n",
    "        val_loss = validate_vae(model, val_loader, loss_function, device)\n",
    "        val_losses.append(val_loss)\n",
    "\n",
    "        if val_loss < best_val_loss:\n",
    "            best_val_loss = val_loss\n",
    "            best_model_state = model.state_dict()\n",
    "            best_epoch = epoch\n",
    "\n",
    "        print(f'Epoch {epoch+1}, Training Loss: {train_loss}, Validation Loss: {val_loss}')\n",
    "\n",
    "    if epoch % plot_interval == 0 or epoch == 1:\n",
    "        num_img_plot = 5  # Define the number of images to plot\n",
    "        latent_vectors = torch.randn(num_img_plot, model.latent_dim).to(device)\n",
    "        plot_losses_with_img(epoch, plot_interval, num_img_plot, latent_vectors, train_losses, val_losses, model, device)\n",
    "\n",
    "    \n",
    "            #generate_and_save_images(model, epoch, latent_vectors)\n",
    "            \n",
    "    #plot_losses(train_losses, val_losses)\n",
    "    # plot_latent_space(model, val_loader, device)\n",
    "\n",
    "    if best_model_state is not None:\n",
    "        model_path = f\"best_{model_name}_epoch_{best_epoch}.pth\"\n",
    "        save_model(model, model_path)\n",
    "        print(f\"Best {model_name} model saved as {model_path}\")\n",
    "        model.load_state_dict(best_model_state)\n",
    "\n",
    "    return train_losses, val_losses"
   ]
  },
  {
   "cell_type": "code",
   "execution_count": 169,
   "metadata": {},
   "outputs": [],
   "source": [
    "import plotly.graph_objs as go\n",
    "import matplotlib.pyplot as plt\n",
    "from IPython.display import display, clear_output\n",
    "import torch\n",
    "\n",
    "# Global variable to prevent concurrent processing\n",
    "is_processing = False\n",
    "\n",
    "def plot_losses_interactive(model_states, train_losses, val_losses, data_loader, device):\n",
    "    epochs = len(train_losses)\n",
    "    fig = go.Figure()\n",
    "\n",
    "    # Add traces for training and validation losses\n",
    "    fig.add_trace(go.Scatter(x=list(range(1, epochs + 1)), y=train_losses, mode='markers', name='Training Loss'))\n",
    "    fig.add_trace(go.Scatter(x=list(range(1, epochs + 1)), y=val_losses, mode='markers', name='Validation Loss'))\n",
    "\n",
    "    # Set layout for the plot\n",
    "    fig.update_layout(\n",
    "        title='Interactive Training and Validation Loss',\n",
    "        xaxis_title='Epoch',\n",
    "        yaxis_title='Loss',\n",
    "        width=800, height=600,\n",
    "    )\n",
    "\n",
    "    # Function to update the image on clicking a point on the plot\n",
    "    def update_image(trace, points, selector):\n",
    "        global is_processing\n",
    "        if is_processing:\n",
    "            return\n",
    "        is_processing = True\n",
    "\n",
    "        if points.point_inds:\n",
    "            epoch = points.point_inds[0]\n",
    "            model_state = model_states[epoch]\n",
    "            model.load_state_dict(model_state)\n",
    "            model.eval()\n",
    "\n",
    "            data, _ = next(iter(data_loader))\n",
    "            data = data.to(device)\n",
    "            reconstructed_img = model(data)[0].cpu().squeeze()\n",
    "\n",
    "            plt.imshow(reconstructed_img.detach().numpy(), cmap='gray')\n",
    "            plt.axis('off')\n",
    "            clear_output(wait=True)\n",
    "            display(plt.gcf())\n",
    "            model.train()\n",
    "            \n",
    "        is_processing = False\n",
    "\n",
    "    # Attach the click handler to the plot\n",
    "    for trace in fig.data:\n",
    "        trace.on_click(update_image)\n",
    "\n",
    "    # Display the plot\n",
    "    display(fig)"
   ]
  },
  {
   "cell_type": "code",
   "execution_count": 170,
   "metadata": {},
   "outputs": [],
   "source": [
    "def train_vae(model, train_loader, val_loader, loss_function, optimiser, epochs, device, model_name, plot_interval=1):\n",
    "    train_losses = []\n",
    "    val_losses = []\n",
    "    model_states = []\n",
    "    best_val_loss = float('inf')\n",
    "    best_model_state = None\n",
    "    best_epoch = 0\n",
    "\n",
    "    for epoch in range(epochs):\n",
    "        model.train()\n",
    "        total_loss = 0\n",
    "        for batch_idx, (data, _) in enumerate(train_loader):\n",
    "            data = data.to(device)\n",
    "            optimiser.zero_grad()\n",
    "            outputs = model(data)\n",
    "            loss = loss_function(*outputs, data)\n",
    "            loss.backward()\n",
    "            optimiser.step()\n",
    "            total_loss += loss.item()\n",
    "\n",
    "        train_loss = total_loss / len(train_loader.dataset)\n",
    "        train_losses.append(train_loss)\n",
    "\n",
    "        model.eval()\n",
    "        val_loss = validate_vae(model, val_loader, loss_function, device)\n",
    "        val_losses.append(val_loss)\n",
    "\n",
    "        # Save the current model state\n",
    "        model_states.append(model.state_dict().copy())\n",
    "\n",
    "        if val_loss < best_val_loss:\n",
    "            best_val_loss = val_loss\n",
    "            best_model_state = model.state_dict()\n",
    "            best_epoch = epoch\n",
    "\n",
    "        print(f'Epoch {epoch+1}, Training Loss: {train_loss}, Validation Loss: {val_loss}')\n",
    "\n",
    "    # After training, plot losses interactively\n",
    "    plot_losses_interactive(model_states, train_losses, val_losses, val_loader, device)\n",
    "\n",
    "    if best_model_state is not None:\n",
    "        model_path = f\"best_{model_name}_epoch_{best_epoch}.pth\"\n",
    "        save_model(model, model_path)\n",
    "        print(f\"Best {model_name} model saved as {model_path}\")\n",
    "        model.load_state_dict(best_model_state)\n",
    "\n",
    "    return train_losses, val_losses"
   ]
  },
  {
   "cell_type": "code",
   "execution_count": 171,
   "metadata": {},
   "outputs": [],
   "source": [
    "# Training parameters\n",
    "batch_size = 64\n",
    "learning_rate = 1e-3\n",
    "epochs = 2  # You can adjust this based on how well the model is learning and your time constraints\n",
    "\n",
    "# Adjust the DataLoader batch_size if necessary\n",
    "trainloader = DataLoader(train_dataset, batch_size=batch_size, shuffle=True, drop_last=False)\n",
    "validationloader = DataLoader(validation_dataset, batch_size=batch_size, shuffle=True, drop_last=False)\n",
    "testloader = DataLoader(test_dataset, batch_size=batch_size, shuffle=True, drop_last=False)\n",
    "\n",
    "Standard_VAE = StandardVAE().to(DEVICE)\n",
    "Lake_VAE = LakeVAE().to(DEVICE)"
   ]
  },
  {
   "cell_type": "code",
   "execution_count": 172,
   "metadata": {},
   "outputs": [
    {
     "name": "stdout",
     "output_type": "stream",
     "text": [
      "Training parameters: batch_size=64, learning_rate=0.001, epochs=2\n",
      "Training Standard_VAE...\n",
      "Epoch 1, Training Loss: 177.9474524637858, Validation Loss: 135.39294799804688\n",
      "Epoch 2, Training Loss: 123.30513247680663, Validation Loss: 117.51386484781901\n"
     ]
    },
    {
     "data": {
      "application/vnd.plotly.v1+json": {
       "config": {
        "plotlyServerURL": "https://plot.ly"
       },
       "data": [
        {
         "mode": "markers",
         "name": "Training Loss",
         "type": "scatter",
         "x": [
          1,
          2
         ],
         "y": [
          177.9474524637858,
          123.30513247680663
         ]
        },
        {
         "mode": "markers",
         "name": "Validation Loss",
         "type": "scatter",
         "x": [
          1,
          2
         ],
         "y": [
          135.39294799804688,
          117.51386484781901
         ]
        }
       ],
       "layout": {
        "height": 600,
        "template": {
         "data": {
          "bar": [
           {
            "error_x": {
             "color": "#2a3f5f"
            },
            "error_y": {
             "color": "#2a3f5f"
            },
            "marker": {
             "line": {
              "color": "#E5ECF6",
              "width": 0.5
             },
             "pattern": {
              "fillmode": "overlay",
              "size": 10,
              "solidity": 0.2
             }
            },
            "type": "bar"
           }
          ],
          "barpolar": [
           {
            "marker": {
             "line": {
              "color": "#E5ECF6",
              "width": 0.5
             },
             "pattern": {
              "fillmode": "overlay",
              "size": 10,
              "solidity": 0.2
             }
            },
            "type": "barpolar"
           }
          ],
          "carpet": [
           {
            "aaxis": {
             "endlinecolor": "#2a3f5f",
             "gridcolor": "white",
             "linecolor": "white",
             "minorgridcolor": "white",
             "startlinecolor": "#2a3f5f"
            },
            "baxis": {
             "endlinecolor": "#2a3f5f",
             "gridcolor": "white",
             "linecolor": "white",
             "minorgridcolor": "white",
             "startlinecolor": "#2a3f5f"
            },
            "type": "carpet"
           }
          ],
          "choropleth": [
           {
            "colorbar": {
             "outlinewidth": 0,
             "ticks": ""
            },
            "type": "choropleth"
           }
          ],
          "contour": [
           {
            "colorbar": {
             "outlinewidth": 0,
             "ticks": ""
            },
            "colorscale": [
             [
              0,
              "#0d0887"
             ],
             [
              0.1111111111111111,
              "#46039f"
             ],
             [
              0.2222222222222222,
              "#7201a8"
             ],
             [
              0.3333333333333333,
              "#9c179e"
             ],
             [
              0.4444444444444444,
              "#bd3786"
             ],
             [
              0.5555555555555556,
              "#d8576b"
             ],
             [
              0.6666666666666666,
              "#ed7953"
             ],
             [
              0.7777777777777778,
              "#fb9f3a"
             ],
             [
              0.8888888888888888,
              "#fdca26"
             ],
             [
              1,
              "#f0f921"
             ]
            ],
            "type": "contour"
           }
          ],
          "contourcarpet": [
           {
            "colorbar": {
             "outlinewidth": 0,
             "ticks": ""
            },
            "type": "contourcarpet"
           }
          ],
          "heatmap": [
           {
            "colorbar": {
             "outlinewidth": 0,
             "ticks": ""
            },
            "colorscale": [
             [
              0,
              "#0d0887"
             ],
             [
              0.1111111111111111,
              "#46039f"
             ],
             [
              0.2222222222222222,
              "#7201a8"
             ],
             [
              0.3333333333333333,
              "#9c179e"
             ],
             [
              0.4444444444444444,
              "#bd3786"
             ],
             [
              0.5555555555555556,
              "#d8576b"
             ],
             [
              0.6666666666666666,
              "#ed7953"
             ],
             [
              0.7777777777777778,
              "#fb9f3a"
             ],
             [
              0.8888888888888888,
              "#fdca26"
             ],
             [
              1,
              "#f0f921"
             ]
            ],
            "type": "heatmap"
           }
          ],
          "heatmapgl": [
           {
            "colorbar": {
             "outlinewidth": 0,
             "ticks": ""
            },
            "colorscale": [
             [
              0,
              "#0d0887"
             ],
             [
              0.1111111111111111,
              "#46039f"
             ],
             [
              0.2222222222222222,
              "#7201a8"
             ],
             [
              0.3333333333333333,
              "#9c179e"
             ],
             [
              0.4444444444444444,
              "#bd3786"
             ],
             [
              0.5555555555555556,
              "#d8576b"
             ],
             [
              0.6666666666666666,
              "#ed7953"
             ],
             [
              0.7777777777777778,
              "#fb9f3a"
             ],
             [
              0.8888888888888888,
              "#fdca26"
             ],
             [
              1,
              "#f0f921"
             ]
            ],
            "type": "heatmapgl"
           }
          ],
          "histogram": [
           {
            "marker": {
             "pattern": {
              "fillmode": "overlay",
              "size": 10,
              "solidity": 0.2
             }
            },
            "type": "histogram"
           }
          ],
          "histogram2d": [
           {
            "colorbar": {
             "outlinewidth": 0,
             "ticks": ""
            },
            "colorscale": [
             [
              0,
              "#0d0887"
             ],
             [
              0.1111111111111111,
              "#46039f"
             ],
             [
              0.2222222222222222,
              "#7201a8"
             ],
             [
              0.3333333333333333,
              "#9c179e"
             ],
             [
              0.4444444444444444,
              "#bd3786"
             ],
             [
              0.5555555555555556,
              "#d8576b"
             ],
             [
              0.6666666666666666,
              "#ed7953"
             ],
             [
              0.7777777777777778,
              "#fb9f3a"
             ],
             [
              0.8888888888888888,
              "#fdca26"
             ],
             [
              1,
              "#f0f921"
             ]
            ],
            "type": "histogram2d"
           }
          ],
          "histogram2dcontour": [
           {
            "colorbar": {
             "outlinewidth": 0,
             "ticks": ""
            },
            "colorscale": [
             [
              0,
              "#0d0887"
             ],
             [
              0.1111111111111111,
              "#46039f"
             ],
             [
              0.2222222222222222,
              "#7201a8"
             ],
             [
              0.3333333333333333,
              "#9c179e"
             ],
             [
              0.4444444444444444,
              "#bd3786"
             ],
             [
              0.5555555555555556,
              "#d8576b"
             ],
             [
              0.6666666666666666,
              "#ed7953"
             ],
             [
              0.7777777777777778,
              "#fb9f3a"
             ],
             [
              0.8888888888888888,
              "#fdca26"
             ],
             [
              1,
              "#f0f921"
             ]
            ],
            "type": "histogram2dcontour"
           }
          ],
          "mesh3d": [
           {
            "colorbar": {
             "outlinewidth": 0,
             "ticks": ""
            },
            "type": "mesh3d"
           }
          ],
          "parcoords": [
           {
            "line": {
             "colorbar": {
              "outlinewidth": 0,
              "ticks": ""
             }
            },
            "type": "parcoords"
           }
          ],
          "pie": [
           {
            "automargin": true,
            "type": "pie"
           }
          ],
          "scatter": [
           {
            "fillpattern": {
             "fillmode": "overlay",
             "size": 10,
             "solidity": 0.2
            },
            "type": "scatter"
           }
          ],
          "scatter3d": [
           {
            "line": {
             "colorbar": {
              "outlinewidth": 0,
              "ticks": ""
             }
            },
            "marker": {
             "colorbar": {
              "outlinewidth": 0,
              "ticks": ""
             }
            },
            "type": "scatter3d"
           }
          ],
          "scattercarpet": [
           {
            "marker": {
             "colorbar": {
              "outlinewidth": 0,
              "ticks": ""
             }
            },
            "type": "scattercarpet"
           }
          ],
          "scattergeo": [
           {
            "marker": {
             "colorbar": {
              "outlinewidth": 0,
              "ticks": ""
             }
            },
            "type": "scattergeo"
           }
          ],
          "scattergl": [
           {
            "marker": {
             "colorbar": {
              "outlinewidth": 0,
              "ticks": ""
             }
            },
            "type": "scattergl"
           }
          ],
          "scattermapbox": [
           {
            "marker": {
             "colorbar": {
              "outlinewidth": 0,
              "ticks": ""
             }
            },
            "type": "scattermapbox"
           }
          ],
          "scatterpolar": [
           {
            "marker": {
             "colorbar": {
              "outlinewidth": 0,
              "ticks": ""
             }
            },
            "type": "scatterpolar"
           }
          ],
          "scatterpolargl": [
           {
            "marker": {
             "colorbar": {
              "outlinewidth": 0,
              "ticks": ""
             }
            },
            "type": "scatterpolargl"
           }
          ],
          "scatterternary": [
           {
            "marker": {
             "colorbar": {
              "outlinewidth": 0,
              "ticks": ""
             }
            },
            "type": "scatterternary"
           }
          ],
          "surface": [
           {
            "colorbar": {
             "outlinewidth": 0,
             "ticks": ""
            },
            "colorscale": [
             [
              0,
              "#0d0887"
             ],
             [
              0.1111111111111111,
              "#46039f"
             ],
             [
              0.2222222222222222,
              "#7201a8"
             ],
             [
              0.3333333333333333,
              "#9c179e"
             ],
             [
              0.4444444444444444,
              "#bd3786"
             ],
             [
              0.5555555555555556,
              "#d8576b"
             ],
             [
              0.6666666666666666,
              "#ed7953"
             ],
             [
              0.7777777777777778,
              "#fb9f3a"
             ],
             [
              0.8888888888888888,
              "#fdca26"
             ],
             [
              1,
              "#f0f921"
             ]
            ],
            "type": "surface"
           }
          ],
          "table": [
           {
            "cells": {
             "fill": {
              "color": "#EBF0F8"
             },
             "line": {
              "color": "white"
             }
            },
            "header": {
             "fill": {
              "color": "#C8D4E3"
             },
             "line": {
              "color": "white"
             }
            },
            "type": "table"
           }
          ]
         },
         "layout": {
          "annotationdefaults": {
           "arrowcolor": "#2a3f5f",
           "arrowhead": 0,
           "arrowwidth": 1
          },
          "autotypenumbers": "strict",
          "coloraxis": {
           "colorbar": {
            "outlinewidth": 0,
            "ticks": ""
           }
          },
          "colorscale": {
           "diverging": [
            [
             0,
             "#8e0152"
            ],
            [
             0.1,
             "#c51b7d"
            ],
            [
             0.2,
             "#de77ae"
            ],
            [
             0.3,
             "#f1b6da"
            ],
            [
             0.4,
             "#fde0ef"
            ],
            [
             0.5,
             "#f7f7f7"
            ],
            [
             0.6,
             "#e6f5d0"
            ],
            [
             0.7,
             "#b8e186"
            ],
            [
             0.8,
             "#7fbc41"
            ],
            [
             0.9,
             "#4d9221"
            ],
            [
             1,
             "#276419"
            ]
           ],
           "sequential": [
            [
             0,
             "#0d0887"
            ],
            [
             0.1111111111111111,
             "#46039f"
            ],
            [
             0.2222222222222222,
             "#7201a8"
            ],
            [
             0.3333333333333333,
             "#9c179e"
            ],
            [
             0.4444444444444444,
             "#bd3786"
            ],
            [
             0.5555555555555556,
             "#d8576b"
            ],
            [
             0.6666666666666666,
             "#ed7953"
            ],
            [
             0.7777777777777778,
             "#fb9f3a"
            ],
            [
             0.8888888888888888,
             "#fdca26"
            ],
            [
             1,
             "#f0f921"
            ]
           ],
           "sequentialminus": [
            [
             0,
             "#0d0887"
            ],
            [
             0.1111111111111111,
             "#46039f"
            ],
            [
             0.2222222222222222,
             "#7201a8"
            ],
            [
             0.3333333333333333,
             "#9c179e"
            ],
            [
             0.4444444444444444,
             "#bd3786"
            ],
            [
             0.5555555555555556,
             "#d8576b"
            ],
            [
             0.6666666666666666,
             "#ed7953"
            ],
            [
             0.7777777777777778,
             "#fb9f3a"
            ],
            [
             0.8888888888888888,
             "#fdca26"
            ],
            [
             1,
             "#f0f921"
            ]
           ]
          },
          "colorway": [
           "#636efa",
           "#EF553B",
           "#00cc96",
           "#ab63fa",
           "#FFA15A",
           "#19d3f3",
           "#FF6692",
           "#B6E880",
           "#FF97FF",
           "#FECB52"
          ],
          "font": {
           "color": "#2a3f5f"
          },
          "geo": {
           "bgcolor": "white",
           "lakecolor": "white",
           "landcolor": "#E5ECF6",
           "showlakes": true,
           "showland": true,
           "subunitcolor": "white"
          },
          "hoverlabel": {
           "align": "left"
          },
          "hovermode": "closest",
          "mapbox": {
           "style": "light"
          },
          "paper_bgcolor": "white",
          "plot_bgcolor": "#E5ECF6",
          "polar": {
           "angularaxis": {
            "gridcolor": "white",
            "linecolor": "white",
            "ticks": ""
           },
           "bgcolor": "#E5ECF6",
           "radialaxis": {
            "gridcolor": "white",
            "linecolor": "white",
            "ticks": ""
           }
          },
          "scene": {
           "xaxis": {
            "backgroundcolor": "#E5ECF6",
            "gridcolor": "white",
            "gridwidth": 2,
            "linecolor": "white",
            "showbackground": true,
            "ticks": "",
            "zerolinecolor": "white"
           },
           "yaxis": {
            "backgroundcolor": "#E5ECF6",
            "gridcolor": "white",
            "gridwidth": 2,
            "linecolor": "white",
            "showbackground": true,
            "ticks": "",
            "zerolinecolor": "white"
           },
           "zaxis": {
            "backgroundcolor": "#E5ECF6",
            "gridcolor": "white",
            "gridwidth": 2,
            "linecolor": "white",
            "showbackground": true,
            "ticks": "",
            "zerolinecolor": "white"
           }
          },
          "shapedefaults": {
           "line": {
            "color": "#2a3f5f"
           }
          },
          "ternary": {
           "aaxis": {
            "gridcolor": "white",
            "linecolor": "white",
            "ticks": ""
           },
           "baxis": {
            "gridcolor": "white",
            "linecolor": "white",
            "ticks": ""
           },
           "bgcolor": "#E5ECF6",
           "caxis": {
            "gridcolor": "white",
            "linecolor": "white",
            "ticks": ""
           }
          },
          "title": {
           "x": 0.05
          },
          "xaxis": {
           "automargin": true,
           "gridcolor": "white",
           "linecolor": "white",
           "ticks": "",
           "title": {
            "standoff": 15
           },
           "zerolinecolor": "white",
           "zerolinewidth": 2
          },
          "yaxis": {
           "automargin": true,
           "gridcolor": "white",
           "linecolor": "white",
           "ticks": "",
           "title": {
            "standoff": 15
           },
           "zerolinecolor": "white",
           "zerolinewidth": 2
          }
         }
        },
        "title": {
         "text": "Interactive Training and Validation Loss"
        },
        "width": 800,
        "xaxis": {
         "autorange": true,
         "range": [
          0.9360826811157937,
          2.063917318884206
         ],
         "title": {
          "text": "Epoch"
         },
         "type": "linear"
        },
        "yaxis": {
         "autorange": true,
         "range": [
          113.47680332691435,
          181.98451398469047
         ],
         "title": {
          "text": "Loss"
         },
         "type": "linear"
        }
       }
      },
      "image/png": "[encoded data removed]",
      "text/html": [
       "<div>                            <div id=\"dccfe553-a7e3-49bf-b6fc-3c14cf690bfb\" class=\"plotly-graph-div\" style=\"height:600px; width:800px;\"></div>            <script type=\"text/javascript\">                require([\"plotly\"], function(Plotly) {                    window.PLOTLYENV=window.PLOTLYENV || {};                                    if (document.getElementById(\"dccfe553-a7e3-49bf-b6fc-3c14cf690bfb\")) {                    Plotly.newPlot(                        \"dccfe553-a7e3-49bf-b6fc-3c14cf690bfb\",                        [{\"mode\":\"markers\",\"name\":\"Training Loss\",\"x\":[1,2],\"y\":[177.9474524637858,123.30513247680663],\"type\":\"scatter\"},{\"mode\":\"markers\",\"name\":\"Validation Loss\",\"x\":[1,2],\"y\":[135.39294799804688,117.51386484781901],\"type\":\"scatter\"}],                        {\"template\":{\"data\":{\"histogram2dcontour\":[{\"type\":\"histogram2dcontour\",\"colorbar\":{\"outlinewidth\":0,\"ticks\":\"\"},\"colorscale\":[[0.0,\"#0d0887\"],[0.1111111111111111,\"#46039f\"],[0.2222222222222222,\"#7201a8\"],[0.3333333333333333,\"#9c179e\"],[0.4444444444444444,\"#bd3786\"],[0.5555555555555556,\"#d8576b\"],[0.6666666666666666,\"#ed7953\"],[0.7777777777777778,\"#fb9f3a\"],[0.8888888888888888,\"#fdca26\"],[1.0,\"#f0f921\"]]}],\"choropleth\":[{\"type\":\"choropleth\",\"colorbar\":{\"outlinewidth\":0,\"ticks\":\"\"}}],\"histogram2d\":[{\"type\":\"histogram2d\",\"colorbar\":{\"outlinewidth\":0,\"ticks\":\"\"},\"colorscale\":[[0.0,\"#0d0887\"],[0.1111111111111111,\"#46039f\"],[0.2222222222222222,\"#7201a8\"],[0.3333333333333333,\"#9c179e\"],[0.4444444444444444,\"#bd3786\"],[0.5555555555555556,\"#d8576b\"],[0.6666666666666666,\"#ed7953\"],[0.7777777777777778,\"#fb9f3a\"],[0.8888888888888888,\"#fdca26\"],[1.0,\"#f0f921\"]]}],\"heatmap\":[{\"type\":\"heatmap\",\"colorbar\":{\"outlinewidth\":0,\"ticks\":\"\"},\"colorscale\":[[0.0,\"#0d0887\"],[0.1111111111111111,\"#46039f\"],[0.2222222222222222,\"#7201a8\"],[0.3333333333333333,\"#9c179e\"],[0.4444444444444444,\"#bd3786\"],[0.5555555555555556,\"#d8576b\"],[0.6666666666666666,\"#ed7953\"],[0.7777777777777778,\"#fb9f3a\"],[0.8888888888888888,\"#fdca26\"],[1.0,\"#f0f921\"]]}],\"heatmapgl\":[{\"type\":\"heatmapgl\",\"colorbar\":{\"outlinewidth\":0,\"ticks\":\"\"},\"colorscale\":[[0.0,\"#0d0887\"],[0.1111111111111111,\"#46039f\"],[0.2222222222222222,\"#7201a8\"],[0.3333333333333333,\"#9c179e\"],[0.4444444444444444,\"#bd3786\"],[0.5555555555555556,\"#d8576b\"],[0.6666666666666666,\"#ed7953\"],[0.7777777777777778,\"#fb9f3a\"],[0.8888888888888888,\"#fdca26\"],[1.0,\"#f0f921\"]]}],\"contourcarpet\":[{\"type\":\"contourcarpet\",\"colorbar\":{\"outlinewidth\":0,\"ticks\":\"\"}}],\"contour\":[{\"type\":\"contour\",\"colorbar\":{\"outlinewidth\":0,\"ticks\":\"\"},\"colorscale\":[[0.0,\"#0d0887\"],[0.1111111111111111,\"#46039f\"],[0.2222222222222222,\"#7201a8\"],[0.3333333333333333,\"#9c179e\"],[0.4444444444444444,\"#bd3786\"],[0.5555555555555556,\"#d8576b\"],[0.6666666666666666,\"#ed7953\"],[0.7777777777777778,\"#fb9f3a\"],[0.8888888888888888,\"#fdca26\"],[1.0,\"#f0f921\"]]}],\"surface\":[{\"type\":\"surface\",\"colorbar\":{\"outlinewidth\":0,\"ticks\":\"\"},\"colorscale\":[[0.0,\"#0d0887\"],[0.1111111111111111,\"#46039f\"],[0.2222222222222222,\"#7201a8\"],[0.3333333333333333,\"#9c179e\"],[0.4444444444444444,\"#bd3786\"],[0.5555555555555556,\"#d8576b\"],[0.6666666666666666,\"#ed7953\"],[0.7777777777777778,\"#fb9f3a\"],[0.8888888888888888,\"#fdca26\"],[1.0,\"#f0f921\"]]}],\"mesh3d\":[{\"type\":\"mesh3d\",\"colorbar\":{\"outlinewidth\":0,\"ticks\":\"\"}}],\"scatter\":[{\"fillpattern\":{\"fillmode\":\"overlay\",\"size\":10,\"solidity\":0.2},\"type\":\"scatter\"}],\"parcoords\":[{\"type\":\"parcoords\",\"line\":{\"colorbar\":{\"outlinewidth\":0,\"ticks\":\"\"}}}],\"scatterpolargl\":[{\"type\":\"scatterpolargl\",\"marker\":{\"colorbar\":{\"outlinewidth\":0,\"ticks\":\"\"}}}],\"bar\":[{\"error_x\":{\"color\":\"#2a3f5f\"},\"error_y\":{\"color\":\"#2a3f5f\"},\"marker\":{\"line\":{\"color\":\"#E5ECF6\",\"width\":0.5},\"pattern\":{\"fillmode\":\"overlay\",\"size\":10,\"solidity\":0.2}},\"type\":\"bar\"}],\"scattergeo\":[{\"type\":\"scattergeo\",\"marker\":{\"colorbar\":{\"outlinewidth\":0,\"ticks\":\"\"}}}],\"scatterpolar\":[{\"type\":\"scatterpolar\",\"marker\":{\"colorbar\":{\"outlinewidth\":0,\"ticks\":\"\"}}}],\"histogram\":[{\"marker\":{\"pattern\":{\"fillmode\":\"overlay\",\"size\":10,\"solidity\":0.2}},\"type\":\"histogram\"}],\"scattergl\":[{\"type\":\"scattergl\",\"marker\":{\"colorbar\":{\"outlinewidth\":0,\"ticks\":\"\"}}}],\"scatter3d\":[{\"type\":\"scatter3d\",\"line\":{\"colorbar\":{\"outlinewidth\":0,\"ticks\":\"\"}},\"marker\":{\"colorbar\":{\"outlinewidth\":0,\"ticks\":\"\"}}}],\"scattermapbox\":[{\"type\":\"scattermapbox\",\"marker\":{\"colorbar\":{\"outlinewidth\":0,\"ticks\":\"\"}}}],\"scatterternary\":[{\"type\":\"scatterternary\",\"marker\":{\"colorbar\":{\"outlinewidth\":0,\"ticks\":\"\"}}}],\"scattercarpet\":[{\"type\":\"scattercarpet\",\"marker\":{\"colorbar\":{\"outlinewidth\":0,\"ticks\":\"\"}}}],\"carpet\":[{\"aaxis\":{\"endlinecolor\":\"#2a3f5f\",\"gridcolor\":\"white\",\"linecolor\":\"white\",\"minorgridcolor\":\"white\",\"startlinecolor\":\"#2a3f5f\"},\"baxis\":{\"endlinecolor\":\"#2a3f5f\",\"gridcolor\":\"white\",\"linecolor\":\"white\",\"minorgridcolor\":\"white\",\"startlinecolor\":\"#2a3f5f\"},\"type\":\"carpet\"}],\"table\":[{\"cells\":{\"fill\":{\"color\":\"#EBF0F8\"},\"line\":{\"color\":\"white\"}},\"header\":{\"fill\":{\"color\":\"#C8D4E3\"},\"line\":{\"color\":\"white\"}},\"type\":\"table\"}],\"barpolar\":[{\"marker\":{\"line\":{\"color\":\"#E5ECF6\",\"width\":0.5},\"pattern\":{\"fillmode\":\"overlay\",\"size\":10,\"solidity\":0.2}},\"type\":\"barpolar\"}],\"pie\":[{\"automargin\":true,\"type\":\"pie\"}]},\"layout\":{\"autotypenumbers\":\"strict\",\"colorway\":[\"#636efa\",\"#EF553B\",\"#00cc96\",\"#ab63fa\",\"#FFA15A\",\"#19d3f3\",\"#FF6692\",\"#B6E880\",\"#FF97FF\",\"#FECB52\"],\"font\":{\"color\":\"#2a3f5f\"},\"hovermode\":\"closest\",\"hoverlabel\":{\"align\":\"left\"},\"paper_bgcolor\":\"white\",\"plot_bgcolor\":\"#E5ECF6\",\"polar\":{\"bgcolor\":\"#E5ECF6\",\"angularaxis\":{\"gridcolor\":\"white\",\"linecolor\":\"white\",\"ticks\":\"\"},\"radialaxis\":{\"gridcolor\":\"white\",\"linecolor\":\"white\",\"ticks\":\"\"}},\"ternary\":{\"bgcolor\":\"#E5ECF6\",\"aaxis\":{\"gridcolor\":\"white\",\"linecolor\":\"white\",\"ticks\":\"\"},\"baxis\":{\"gridcolor\":\"white\",\"linecolor\":\"white\",\"ticks\":\"\"},\"caxis\":{\"gridcolor\":\"white\",\"linecolor\":\"white\",\"ticks\":\"\"}},\"coloraxis\":{\"colorbar\":{\"outlinewidth\":0,\"ticks\":\"\"}},\"colorscale\":{\"sequential\":[[0.0,\"#0d0887\"],[0.1111111111111111,\"#46039f\"],[0.2222222222222222,\"#7201a8\"],[0.3333333333333333,\"#9c179e\"],[0.4444444444444444,\"#bd3786\"],[0.5555555555555556,\"#d8576b\"],[0.6666666666666666,\"#ed7953\"],[0.7777777777777778,\"#fb9f3a\"],[0.8888888888888888,\"#fdca26\"],[1.0,\"#f0f921\"]],\"sequentialminus\":[[0.0,\"#0d0887\"],[0.1111111111111111,\"#46039f\"],[0.2222222222222222,\"#7201a8\"],[0.3333333333333333,\"#9c179e\"],[0.4444444444444444,\"#bd3786\"],[0.5555555555555556,\"#d8576b\"],[0.6666666666666666,\"#ed7953\"],[0.7777777777777778,\"#fb9f3a\"],[0.8888888888888888,\"#fdca26\"],[1.0,\"#f0f921\"]],\"diverging\":[[0,\"#8e0152\"],[0.1,\"#c51b7d\"],[0.2,\"#de77ae\"],[0.3,\"#f1b6da\"],[0.4,\"#fde0ef\"],[0.5,\"#f7f7f7\"],[0.6,\"#e6f5d0\"],[0.7,\"#b8e186\"],[0.8,\"#7fbc41\"],[0.9,\"#4d9221\"],[1,\"#276419\"]]},\"xaxis\":{\"gridcolor\":\"white\",\"linecolor\":\"white\",\"ticks\":\"\",\"title\":{\"standoff\":15},\"zerolinecolor\":\"white\",\"automargin\":true,\"zerolinewidth\":2},\"yaxis\":{\"gridcolor\":\"white\",\"linecolor\":\"white\",\"ticks\":\"\",\"title\":{\"standoff\":15},\"zerolinecolor\":\"white\",\"automargin\":true,\"zerolinewidth\":2},\"scene\":{\"xaxis\":{\"backgroundcolor\":\"#E5ECF6\",\"gridcolor\":\"white\",\"linecolor\":\"white\",\"showbackground\":true,\"ticks\":\"\",\"zerolinecolor\":\"white\",\"gridwidth\":2},\"yaxis\":{\"backgroundcolor\":\"#E5ECF6\",\"gridcolor\":\"white\",\"linecolor\":\"white\",\"showbackground\":true,\"ticks\":\"\",\"zerolinecolor\":\"white\",\"gridwidth\":2},\"zaxis\":{\"backgroundcolor\":\"#E5ECF6\",\"gridcolor\":\"white\",\"linecolor\":\"white\",\"showbackground\":true,\"ticks\":\"\",\"zerolinecolor\":\"white\",\"gridwidth\":2}},\"shapedefaults\":{\"line\":{\"color\":\"#2a3f5f\"}},\"annotationdefaults\":{\"arrowcolor\":\"#2a3f5f\",\"arrowhead\":0,\"arrowwidth\":1},\"geo\":{\"bgcolor\":\"white\",\"landcolor\":\"#E5ECF6\",\"subunitcolor\":\"white\",\"showland\":true,\"showlakes\":true,\"lakecolor\":\"white\"},\"title\":{\"x\":0.05},\"mapbox\":{\"style\":\"light\"}}},\"title\":{\"text\":\"Interactive Training and Validation Loss\"},\"xaxis\":{\"title\":{\"text\":\"Epoch\"}},\"yaxis\":{\"title\":{\"text\":\"Loss\"}},\"width\":800,\"height\":600},                        {\"responsive\": true}                    ).then(function(){\n",
       "                            \n",
       "var gd = document.getElementById('dccfe553-a7e3-49bf-b6fc-3c14cf690bfb');\n",
       "var x = new MutationObserver(function (mutations, observer) {{\n",
       "        var display = window.getComputedStyle(gd).display;\n",
       "        if (!display || display === 'none') {{\n",
       "            console.log([gd, 'removed!']);\n",
       "            Plotly.purge(gd);\n",
       "            observer.disconnect();\n",
       "        }}\n",
       "}});\n",
       "\n",
       "// Listen for the removal of the full notebook cells\n",
       "var notebookContainer = gd.closest('#notebook-container');\n",
       "if (notebookContainer) {{\n",
       "    x.observe(notebookContainer, {childList: true});\n",
       "}}\n",
       "\n",
       "// Listen for the clearing of the current output cell\n",
       "var outputEl = gd.closest('.output');\n",
       "if (outputEl) {{\n",
       "    x.observe(outputEl, {childList: true});\n",
       "}}\n",
       "\n",
       "                        })                };                });            </script>        </div>"
      ]
     },
     "metadata": {},
     "output_type": "display_data"
    },
    {
     "name": "stdout",
     "output_type": "stream",
     "text": [
      "Best Standard_VAE model saved as best_Standard_VAE_epoch_1.pth\n",
      "Training Lake_VAE...\n",
      "Epoch 1, Training Loss: 187.03729064941408, Validation Loss: 139.56200655110678\n",
      "Epoch 2, Training Loss: 126.4252432047526, Validation Loss: 118.81257763671876\n"
     ]
    },
    {
     "data": {
      "application/vnd.plotly.v1+json": {
       "config": {
        "plotlyServerURL": "https://plot.ly"
       },
       "data": [
        {
         "mode": "markers",
         "name": "Training Loss",
         "type": "scatter",
         "x": [
          1,
          2
         ],
         "y": [
          187.03729064941408,
          126.4252432047526
         ]
        },
        {
         "mode": "markers",
         "name": "Validation Loss",
         "type": "scatter",
         "x": [
          1,
          2
         ],
         "y": [
          139.56200655110678,
          118.81257763671876
         ]
        }
       ],
       "layout": {
        "height": 600,
        "template": {
         "data": {
          "bar": [
           {
            "error_x": {
             "color": "#2a3f5f"
            },
            "error_y": {
             "color": "#2a3f5f"
            },
            "marker": {
             "line": {
              "color": "#E5ECF6",
              "width": 0.5
             },
             "pattern": {
              "fillmode": "overlay",
              "size": 10,
              "solidity": 0.2
             }
            },
            "type": "bar"
           }
          ],
          "barpolar": [
           {
            "marker": {
             "line": {
              "color": "#E5ECF6",
              "width": 0.5
             },
             "pattern": {
              "fillmode": "overlay",
              "size": 10,
              "solidity": 0.2
             }
            },
            "type": "barpolar"
           }
          ],
          "carpet": [
           {
            "aaxis": {
             "endlinecolor": "#2a3f5f",
             "gridcolor": "white",
             "linecolor": "white",
             "minorgridcolor": "white",
             "startlinecolor": "#2a3f5f"
            },
            "baxis": {
             "endlinecolor": "#2a3f5f",
             "gridcolor": "white",
             "linecolor": "white",
             "minorgridcolor": "white",
             "startlinecolor": "#2a3f5f"
            },
            "type": "carpet"
           }
          ],
          "choropleth": [
           {
            "colorbar": {
             "outlinewidth": 0,
             "ticks": ""
            },
            "type": "choropleth"
           }
          ],
          "contour": [
           {
            "colorbar": {
             "outlinewidth": 0,
             "ticks": ""
            },
            "colorscale": [
             [
              0,
              "#0d0887"
             ],
             [
              0.1111111111111111,
              "#46039f"
             ],
             [
              0.2222222222222222,
              "#7201a8"
             ],
             [
              0.3333333333333333,
              "#9c179e"
             ],
             [
              0.4444444444444444,
              "#bd3786"
             ],
             [
              0.5555555555555556,
              "#d8576b"
             ],
             [
              0.6666666666666666,
              "#ed7953"
             ],
             [
              0.7777777777777778,
              "#fb9f3a"
             ],
             [
              0.8888888888888888,
              "#fdca26"
             ],
             [
              1,
              "#f0f921"
             ]
            ],
            "type": "contour"
           }
          ],
          "contourcarpet": [
           {
            "colorbar": {
             "outlinewidth": 0,
             "ticks": ""
            },
            "type": "contourcarpet"
           }
          ],
          "heatmap": [
           {
            "colorbar": {
             "outlinewidth": 0,
             "ticks": ""
            },
            "colorscale": [
             [
              0,
              "#0d0887"
             ],
             [
              0.1111111111111111,
              "#46039f"
             ],
             [
              0.2222222222222222,
              "#7201a8"
             ],
             [
              0.3333333333333333,
              "#9c179e"
             ],
             [
              0.4444444444444444,
              "#bd3786"
             ],
             [
              0.5555555555555556,
              "#d8576b"
             ],
             [
              0.6666666666666666,
              "#ed7953"
             ],
             [
              0.7777777777777778,
              "#fb9f3a"
             ],
             [
              0.8888888888888888,
              "#fdca26"
             ],
             [
              1,
              "#f0f921"
             ]
            ],
            "type": "heatmap"
           }
          ],
          "heatmapgl": [
           {
            "colorbar": {
             "outlinewidth": 0,
             "ticks": ""
            },
            "colorscale": [
             [
              0,
              "#0d0887"
             ],
             [
              0.1111111111111111,
              "#46039f"
             ],
             [
              0.2222222222222222,
              "#7201a8"
             ],
             [
              0.3333333333333333,
              "#9c179e"
             ],
             [
              0.4444444444444444,
              "#bd3786"
             ],
             [
              0.5555555555555556,
              "#d8576b"
             ],
             [
              0.6666666666666666,
              "#ed7953"
             ],
             [
              0.7777777777777778,
              "#fb9f3a"
             ],
             [
              0.8888888888888888,
              "#fdca26"
             ],
             [
              1,
              "#f0f921"
             ]
            ],
            "type": "heatmapgl"
           }
          ],
          "histogram": [
           {
            "marker": {
             "pattern": {
              "fillmode": "overlay",
              "size": 10,
              "solidity": 0.2
             }
            },
            "type": "histogram"
           }
          ],
          "histogram2d": [
           {
            "colorbar": {
             "outlinewidth": 0,
             "ticks": ""
            },
            "colorscale": [
             [
              0,
              "#0d0887"
             ],
             [
              0.1111111111111111,
              "#46039f"
             ],
             [
              0.2222222222222222,
              "#7201a8"
             ],
             [
              0.3333333333333333,
              "#9c179e"
             ],
             [
              0.4444444444444444,
              "#bd3786"
             ],
             [
              0.5555555555555556,
              "#d8576b"
             ],
             [
              0.6666666666666666,
              "#ed7953"
             ],
             [
              0.7777777777777778,
              "#fb9f3a"
             ],
             [
              0.8888888888888888,
              "#fdca26"
             ],
             [
              1,
              "#f0f921"
             ]
            ],
            "type": "histogram2d"
           }
          ],
          "histogram2dcontour": [
           {
            "colorbar": {
             "outlinewidth": 0,
             "ticks": ""
            },
            "colorscale": [
             [
              0,
              "#0d0887"
             ],
             [
              0.1111111111111111,
              "#46039f"
             ],
             [
              0.2222222222222222,
              "#7201a8"
             ],
             [
              0.3333333333333333,
              "#9c179e"
             ],
             [
              0.4444444444444444,
              "#bd3786"
             ],
             [
              0.5555555555555556,
              "#d8576b"
             ],
             [
              0.6666666666666666,
              "#ed7953"
             ],
             [
              0.7777777777777778,
              "#fb9f3a"
             ],
             [
              0.8888888888888888,
              "#fdca26"
             ],
             [
              1,
              "#f0f921"
             ]
            ],
            "type": "histogram2dcontour"
           }
          ],
          "mesh3d": [
           {
            "colorbar": {
             "outlinewidth": 0,
             "ticks": ""
            },
            "type": "mesh3d"
           }
          ],
          "parcoords": [
           {
            "line": {
             "colorbar": {
              "outlinewidth": 0,
              "ticks": ""
             }
            },
            "type": "parcoords"
           }
          ],
          "pie": [
           {
            "automargin": true,
            "type": "pie"
           }
          ],
          "scatter": [
           {
            "fillpattern": {
             "fillmode": "overlay",
             "size": 10,
             "solidity": 0.2
            },
            "type": "scatter"
           }
          ],
          "scatter3d": [
           {
            "line": {
             "colorbar": {
              "outlinewidth": 0,
              "ticks": ""
             }
            },
            "marker": {
             "colorbar": {
              "outlinewidth": 0,
              "ticks": ""
             }
            },
            "type": "scatter3d"
           }
          ],
          "scattercarpet": [
           {
            "marker": {
             "colorbar": {
              "outlinewidth": 0,
              "ticks": ""
             }
            },
            "type": "scattercarpet"
           }
          ],
          "scattergeo": [
           {
            "marker": {
             "colorbar": {
              "outlinewidth": 0,
              "ticks": ""
             }
            },
            "type": "scattergeo"
           }
          ],
          "scattergl": [
           {
            "marker": {
             "colorbar": {
              "outlinewidth": 0,
              "ticks": ""
             }
            },
            "type": "scattergl"
           }
          ],
          "scattermapbox": [
           {
            "marker": {
             "colorbar": {
              "outlinewidth": 0,
              "ticks": ""
             }
            },
            "type": "scattermapbox"
           }
          ],
          "scatterpolar": [
           {
            "marker": {
             "colorbar": {
              "outlinewidth": 0,
              "ticks": ""
             }
            },
            "type": "scatterpolar"
           }
          ],
          "scatterpolargl": [
           {
            "marker": {
             "colorbar": {
              "outlinewidth": 0,
              "ticks": ""
             }
            },
            "type": "scatterpolargl"
           }
          ],
          "scatterternary": [
           {
            "marker": {
             "colorbar": {
              "outlinewidth": 0,
              "ticks": ""
             }
            },
            "type": "scatterternary"
           }
          ],
          "surface": [
           {
            "colorbar": {
             "outlinewidth": 0,
             "ticks": ""
            },
            "colorscale": [
             [
              0,
              "#0d0887"
             ],
             [
              0.1111111111111111,
              "#46039f"
             ],
             [
              0.2222222222222222,
              "#7201a8"
             ],
             [
              0.3333333333333333,
              "#9c179e"
             ],
             [
              0.4444444444444444,
              "#bd3786"
             ],
             [
              0.5555555555555556,
              "#d8576b"
             ],
             [
              0.6666666666666666,
              "#ed7953"
             ],
             [
              0.7777777777777778,
              "#fb9f3a"
             ],
             [
              0.8888888888888888,
              "#fdca26"
             ],
             [
              1,
              "#f0f921"
             ]
            ],
            "type": "surface"
           }
          ],
          "table": [
           {
            "cells": {
             "fill": {
              "color": "#EBF0F8"
             },
             "line": {
              "color": "white"
             }
            },
            "header": {
             "fill": {
              "color": "#C8D4E3"
             },
             "line": {
              "color": "white"
             }
            },
            "type": "table"
           }
          ]
         },
         "layout": {
          "annotationdefaults": {
           "arrowcolor": "#2a3f5f",
           "arrowhead": 0,
           "arrowwidth": 1
          },
          "autotypenumbers": "strict",
          "coloraxis": {
           "colorbar": {
            "outlinewidth": 0,
            "ticks": ""
           }
          },
          "colorscale": {
           "diverging": [
            [
             0,
             "#8e0152"
            ],
            [
             0.1,
             "#c51b7d"
            ],
            [
             0.2,
             "#de77ae"
            ],
            [
             0.3,
             "#f1b6da"
            ],
            [
             0.4,
             "#fde0ef"
            ],
            [
             0.5,
             "#f7f7f7"
            ],
            [
             0.6,
             "#e6f5d0"
            ],
            [
             0.7,
             "#b8e186"
            ],
            [
             0.8,
             "#7fbc41"
            ],
            [
             0.9,
             "#4d9221"
            ],
            [
             1,
             "#276419"
            ]
           ],
           "sequential": [
            [
             0,
             "#0d0887"
            ],
            [
             0.1111111111111111,
             "#46039f"
            ],
            [
             0.2222222222222222,
             "#7201a8"
            ],
            [
             0.3333333333333333,
             "#9c179e"
            ],
            [
             0.4444444444444444,
             "#bd3786"
            ],
            [
             0.5555555555555556,
             "#d8576b"
            ],
            [
             0.6666666666666666,
             "#ed7953"
            ],
            [
             0.7777777777777778,
             "#fb9f3a"
            ],
            [
             0.8888888888888888,
             "#fdca26"
            ],
            [
             1,
             "#f0f921"
            ]
           ],
           "sequentialminus": [
            [
             0,
             "#0d0887"
            ],
            [
             0.1111111111111111,
             "#46039f"
            ],
            [
             0.2222222222222222,
             "#7201a8"
            ],
            [
             0.3333333333333333,
             "#9c179e"
            ],
            [
             0.4444444444444444,
             "#bd3786"
            ],
            [
             0.5555555555555556,
             "#d8576b"
            ],
            [
             0.6666666666666666,
             "#ed7953"
            ],
            [
             0.7777777777777778,
             "#fb9f3a"
            ],
            [
             0.8888888888888888,
             "#fdca26"
            ],
            [
             1,
             "#f0f921"
            ]
           ]
          },
          "colorway": [
           "#636efa",
           "#EF553B",
           "#00cc96",
           "#ab63fa",
           "#FFA15A",
           "#19d3f3",
           "#FF6692",
           "#B6E880",
           "#FF97FF",
           "#FECB52"
          ],
          "font": {
           "color": "#2a3f5f"
          },
          "geo": {
           "bgcolor": "white",
           "lakecolor": "white",
           "landcolor": "#E5ECF6",
           "showlakes": true,
           "showland": true,
           "subunitcolor": "white"
          },
          "hoverlabel": {
           "align": "left"
          },
          "hovermode": "closest",
          "mapbox": {
           "style": "light"
          },
          "paper_bgcolor": "white",
          "plot_bgcolor": "#E5ECF6",
          "polar": {
           "angularaxis": {
            "gridcolor": "white",
            "linecolor": "white",
            "ticks": ""
           },
           "bgcolor": "#E5ECF6",
           "radialaxis": {
            "gridcolor": "white",
            "linecolor": "white",
            "ticks": ""
           }
          },
          "scene": {
           "xaxis": {
            "backgroundcolor": "#E5ECF6",
            "gridcolor": "white",
            "gridwidth": 2,
            "linecolor": "white",
            "showbackground": true,
            "ticks": "",
            "zerolinecolor": "white"
           },
           "yaxis": {
            "backgroundcolor": "#E5ECF6",
            "gridcolor": "white",
            "gridwidth": 2,
            "linecolor": "white",
            "showbackground": true,
            "ticks": "",
            "zerolinecolor": "white"
           },
           "zaxis": {
            "backgroundcolor": "#E5ECF6",
            "gridcolor": "white",
            "gridwidth": 2,
            "linecolor": "white",
            "showbackground": true,
            "ticks": "",
            "zerolinecolor": "white"
           }
          },
          "shapedefaults": {
           "line": {
            "color": "#2a3f5f"
           }
          },
          "ternary": {
           "aaxis": {
            "gridcolor": "white",
            "linecolor": "white",
            "ticks": ""
           },
           "baxis": {
            "gridcolor": "white",
            "linecolor": "white",
            "ticks": ""
           },
           "bgcolor": "#E5ECF6",
           "caxis": {
            "gridcolor": "white",
            "linecolor": "white",
            "ticks": ""
           }
          },
          "title": {
           "x": 0.05
          },
          "xaxis": {
           "automargin": true,
           "gridcolor": "white",
           "linecolor": "white",
           "ticks": "",
           "title": {
            "standoff": 15
           },
           "zerolinecolor": "white",
           "zerolinewidth": 2
          },
          "yaxis": {
           "automargin": true,
           "gridcolor": "white",
           "linecolor": "white",
           "ticks": "",
           "title": {
            "standoff": 15
           },
           "zerolinecolor": "white",
           "zerolinewidth": 2
          }
         }
        },
        "title": {
         "text": "Interactive Training and Validation Loss"
        },
        "width": 800,
        "xaxis": {
         "autorange": true,
         "range": [
          0.9360826811157937,
          2.063917318884206
         ],
         "title": {
          "text": "Epoch"
         },
         "type": "linear"
        },
        "yaxis": {
         "autorange": true,
         "range": [
          114.2550563221055,
          191.59481196402731
         ],
         "title": {
          "text": "Loss"
         },
         "type": "linear"
        }
       }
      },
      "image/png": "[encoded data removed]",
      "text/html": [
       "<div>                            <div id=\"6709b6e3-eda5-4f09-a8a8-850d77422ce6\" class=\"plotly-graph-div\" style=\"height:600px; width:800px;\"></div>            <script type=\"text/javascript\">                require([\"plotly\"], function(Plotly) {                    window.PLOTLYENV=window.PLOTLYENV || {};                                    if (document.getElementById(\"6709b6e3-eda5-4f09-a8a8-850d77422ce6\")) {                    Plotly.newPlot(                        \"6709b6e3-eda5-4f09-a8a8-850d77422ce6\",                        [{\"mode\":\"markers\",\"name\":\"Training Loss\",\"x\":[1,2],\"y\":[187.03729064941408,126.4252432047526],\"type\":\"scatter\"},{\"mode\":\"markers\",\"name\":\"Validation Loss\",\"x\":[1,2],\"y\":[139.56200655110678,118.81257763671876],\"type\":\"scatter\"}],                        {\"template\":{\"data\":{\"histogram2dcontour\":[{\"type\":\"histogram2dcontour\",\"colorbar\":{\"outlinewidth\":0,\"ticks\":\"\"},\"colorscale\":[[0.0,\"#0d0887\"],[0.1111111111111111,\"#46039f\"],[0.2222222222222222,\"#7201a8\"],[0.3333333333333333,\"#9c179e\"],[0.4444444444444444,\"#bd3786\"],[0.5555555555555556,\"#d8576b\"],[0.6666666666666666,\"#ed7953\"],[0.7777777777777778,\"#fb9f3a\"],[0.8888888888888888,\"#fdca26\"],[1.0,\"#f0f921\"]]}],\"choropleth\":[{\"type\":\"choropleth\",\"colorbar\":{\"outlinewidth\":0,\"ticks\":\"\"}}],\"histogram2d\":[{\"type\":\"histogram2d\",\"colorbar\":{\"outlinewidth\":0,\"ticks\":\"\"},\"colorscale\":[[0.0,\"#0d0887\"],[0.1111111111111111,\"#46039f\"],[0.2222222222222222,\"#7201a8\"],[0.3333333333333333,\"#9c179e\"],[0.4444444444444444,\"#bd3786\"],[0.5555555555555556,\"#d8576b\"],[0.6666666666666666,\"#ed7953\"],[0.7777777777777778,\"#fb9f3a\"],[0.8888888888888888,\"#fdca26\"],[1.0,\"#f0f921\"]]}],\"heatmap\":[{\"type\":\"heatmap\",\"colorbar\":{\"outlinewidth\":0,\"ticks\":\"\"},\"colorscale\":[[0.0,\"#0d0887\"],[0.1111111111111111,\"#46039f\"],[0.2222222222222222,\"#7201a8\"],[0.3333333333333333,\"#9c179e\"],[0.4444444444444444,\"#bd3786\"],[0.5555555555555556,\"#d8576b\"],[0.6666666666666666,\"#ed7953\"],[0.7777777777777778,\"#fb9f3a\"],[0.8888888888888888,\"#fdca26\"],[1.0,\"#f0f921\"]]}],\"heatmapgl\":[{\"type\":\"heatmapgl\",\"colorbar\":{\"outlinewidth\":0,\"ticks\":\"\"},\"colorscale\":[[0.0,\"#0d0887\"],[0.1111111111111111,\"#46039f\"],[0.2222222222222222,\"#7201a8\"],[0.3333333333333333,\"#9c179e\"],[0.4444444444444444,\"#bd3786\"],[0.5555555555555556,\"#d8576b\"],[0.6666666666666666,\"#ed7953\"],[0.7777777777777778,\"#fb9f3a\"],[0.8888888888888888,\"#fdca26\"],[1.0,\"#f0f921\"]]}],\"contourcarpet\":[{\"type\":\"contourcarpet\",\"colorbar\":{\"outlinewidth\":0,\"ticks\":\"\"}}],\"contour\":[{\"type\":\"contour\",\"colorbar\":{\"outlinewidth\":0,\"ticks\":\"\"},\"colorscale\":[[0.0,\"#0d0887\"],[0.1111111111111111,\"#46039f\"],[0.2222222222222222,\"#7201a8\"],[0.3333333333333333,\"#9c179e\"],[0.4444444444444444,\"#bd3786\"],[0.5555555555555556,\"#d8576b\"],[0.6666666666666666,\"#ed7953\"],[0.7777777777777778,\"#fb9f3a\"],[0.8888888888888888,\"#fdca26\"],[1.0,\"#f0f921\"]]}],\"surface\":[{\"type\":\"surface\",\"colorbar\":{\"outlinewidth\":0,\"ticks\":\"\"},\"colorscale\":[[0.0,\"#0d0887\"],[0.1111111111111111,\"#46039f\"],[0.2222222222222222,\"#7201a8\"],[0.3333333333333333,\"#9c179e\"],[0.4444444444444444,\"#bd3786\"],[0.5555555555555556,\"#d8576b\"],[0.6666666666666666,\"#ed7953\"],[0.7777777777777778,\"#fb9f3a\"],[0.8888888888888888,\"#fdca26\"],[1.0,\"#f0f921\"]]}],\"mesh3d\":[{\"type\":\"mesh3d\",\"colorbar\":{\"outlinewidth\":0,\"ticks\":\"\"}}],\"scatter\":[{\"fillpattern\":{\"fillmode\":\"overlay\",\"size\":10,\"solidity\":0.2},\"type\":\"scatter\"}],\"parcoords\":[{\"type\":\"parcoords\",\"line\":{\"colorbar\":{\"outlinewidth\":0,\"ticks\":\"\"}}}],\"scatterpolargl\":[{\"type\":\"scatterpolargl\",\"marker\":{\"colorbar\":{\"outlinewidth\":0,\"ticks\":\"\"}}}],\"bar\":[{\"error_x\":{\"color\":\"#2a3f5f\"},\"error_y\":{\"color\":\"#2a3f5f\"},\"marker\":{\"line\":{\"color\":\"#E5ECF6\",\"width\":0.5},\"pattern\":{\"fillmode\":\"overlay\",\"size\":10,\"solidity\":0.2}},\"type\":\"bar\"}],\"scattergeo\":[{\"type\":\"scattergeo\",\"marker\":{\"colorbar\":{\"outlinewidth\":0,\"ticks\":\"\"}}}],\"scatterpolar\":[{\"type\":\"scatterpolar\",\"marker\":{\"colorbar\":{\"outlinewidth\":0,\"ticks\":\"\"}}}],\"histogram\":[{\"marker\":{\"pattern\":{\"fillmode\":\"overlay\",\"size\":10,\"solidity\":0.2}},\"type\":\"histogram\"}],\"scattergl\":[{\"type\":\"scattergl\",\"marker\":{\"colorbar\":{\"outlinewidth\":0,\"ticks\":\"\"}}}],\"scatter3d\":[{\"type\":\"scatter3d\",\"line\":{\"colorbar\":{\"outlinewidth\":0,\"ticks\":\"\"}},\"marker\":{\"colorbar\":{\"outlinewidth\":0,\"ticks\":\"\"}}}],\"scattermapbox\":[{\"type\":\"scattermapbox\",\"marker\":{\"colorbar\":{\"outlinewidth\":0,\"ticks\":\"\"}}}],\"scatterternary\":[{\"type\":\"scatterternary\",\"marker\":{\"colorbar\":{\"outlinewidth\":0,\"ticks\":\"\"}}}],\"scattercarpet\":[{\"type\":\"scattercarpet\",\"marker\":{\"colorbar\":{\"outlinewidth\":0,\"ticks\":\"\"}}}],\"carpet\":[{\"aaxis\":{\"endlinecolor\":\"#2a3f5f\",\"gridcolor\":\"white\",\"linecolor\":\"white\",\"minorgridcolor\":\"white\",\"startlinecolor\":\"#2a3f5f\"},\"baxis\":{\"endlinecolor\":\"#2a3f5f\",\"gridcolor\":\"white\",\"linecolor\":\"white\",\"minorgridcolor\":\"white\",\"startlinecolor\":\"#2a3f5f\"},\"type\":\"carpet\"}],\"table\":[{\"cells\":{\"fill\":{\"color\":\"#EBF0F8\"},\"line\":{\"color\":\"white\"}},\"header\":{\"fill\":{\"color\":\"#C8D4E3\"},\"line\":{\"color\":\"white\"}},\"type\":\"table\"}],\"barpolar\":[{\"marker\":{\"line\":{\"color\":\"#E5ECF6\",\"width\":0.5},\"pattern\":{\"fillmode\":\"overlay\",\"size\":10,\"solidity\":0.2}},\"type\":\"barpolar\"}],\"pie\":[{\"automargin\":true,\"type\":\"pie\"}]},\"layout\":{\"autotypenumbers\":\"strict\",\"colorway\":[\"#636efa\",\"#EF553B\",\"#00cc96\",\"#ab63fa\",\"#FFA15A\",\"#19d3f3\",\"#FF6692\",\"#B6E880\",\"#FF97FF\",\"#FECB52\"],\"font\":{\"color\":\"#2a3f5f\"},\"hovermode\":\"closest\",\"hoverlabel\":{\"align\":\"left\"},\"paper_bgcolor\":\"white\",\"plot_bgcolor\":\"#E5ECF6\",\"polar\":{\"bgcolor\":\"#E5ECF6\",\"angularaxis\":{\"gridcolor\":\"white\",\"linecolor\":\"white\",\"ticks\":\"\"},\"radialaxis\":{\"gridcolor\":\"white\",\"linecolor\":\"white\",\"ticks\":\"\"}},\"ternary\":{\"bgcolor\":\"#E5ECF6\",\"aaxis\":{\"gridcolor\":\"white\",\"linecolor\":\"white\",\"ticks\":\"\"},\"baxis\":{\"gridcolor\":\"white\",\"linecolor\":\"white\",\"ticks\":\"\"},\"caxis\":{\"gridcolor\":\"white\",\"linecolor\":\"white\",\"ticks\":\"\"}},\"coloraxis\":{\"colorbar\":{\"outlinewidth\":0,\"ticks\":\"\"}},\"colorscale\":{\"sequential\":[[0.0,\"#0d0887\"],[0.1111111111111111,\"#46039f\"],[0.2222222222222222,\"#7201a8\"],[0.3333333333333333,\"#9c179e\"],[0.4444444444444444,\"#bd3786\"],[0.5555555555555556,\"#d8576b\"],[0.6666666666666666,\"#ed7953\"],[0.7777777777777778,\"#fb9f3a\"],[0.8888888888888888,\"#fdca26\"],[1.0,\"#f0f921\"]],\"sequentialminus\":[[0.0,\"#0d0887\"],[0.1111111111111111,\"#46039f\"],[0.2222222222222222,\"#7201a8\"],[0.3333333333333333,\"#9c179e\"],[0.4444444444444444,\"#bd3786\"],[0.5555555555555556,\"#d8576b\"],[0.6666666666666666,\"#ed7953\"],[0.7777777777777778,\"#fb9f3a\"],[0.8888888888888888,\"#fdca26\"],[1.0,\"#f0f921\"]],\"diverging\":[[0,\"#8e0152\"],[0.1,\"#c51b7d\"],[0.2,\"#de77ae\"],[0.3,\"#f1b6da\"],[0.4,\"#fde0ef\"],[0.5,\"#f7f7f7\"],[0.6,\"#e6f5d0\"],[0.7,\"#b8e186\"],[0.8,\"#7fbc41\"],[0.9,\"#4d9221\"],[1,\"#276419\"]]},\"xaxis\":{\"gridcolor\":\"white\",\"linecolor\":\"white\",\"ticks\":\"\",\"title\":{\"standoff\":15},\"zerolinecolor\":\"white\",\"automargin\":true,\"zerolinewidth\":2},\"yaxis\":{\"gridcolor\":\"white\",\"linecolor\":\"white\",\"ticks\":\"\",\"title\":{\"standoff\":15},\"zerolinecolor\":\"white\",\"automargin\":true,\"zerolinewidth\":2},\"scene\":{\"xaxis\":{\"backgroundcolor\":\"#E5ECF6\",\"gridcolor\":\"white\",\"linecolor\":\"white\",\"showbackground\":true,\"ticks\":\"\",\"zerolinecolor\":\"white\",\"gridwidth\":2},\"yaxis\":{\"backgroundcolor\":\"#E5ECF6\",\"gridcolor\":\"white\",\"linecolor\":\"white\",\"showbackground\":true,\"ticks\":\"\",\"zerolinecolor\":\"white\",\"gridwidth\":2},\"zaxis\":{\"backgroundcolor\":\"#E5ECF6\",\"gridcolor\":\"white\",\"linecolor\":\"white\",\"showbackground\":true,\"ticks\":\"\",\"zerolinecolor\":\"white\",\"gridwidth\":2}},\"shapedefaults\":{\"line\":{\"color\":\"#2a3f5f\"}},\"annotationdefaults\":{\"arrowcolor\":\"#2a3f5f\",\"arrowhead\":0,\"arrowwidth\":1},\"geo\":{\"bgcolor\":\"white\",\"landcolor\":\"#E5ECF6\",\"subunitcolor\":\"white\",\"showland\":true,\"showlakes\":true,\"lakecolor\":\"white\"},\"title\":{\"x\":0.05},\"mapbox\":{\"style\":\"light\"}}},\"title\":{\"text\":\"Interactive Training and Validation Loss\"},\"xaxis\":{\"title\":{\"text\":\"Epoch\"}},\"yaxis\":{\"title\":{\"text\":\"Loss\"}},\"width\":800,\"height\":600},                        {\"responsive\": true}                    ).then(function(){\n",
       "                            \n",
       "var gd = document.getElementById('6709b6e3-eda5-4f09-a8a8-850d77422ce6');\n",
       "var x = new MutationObserver(function (mutations, observer) {{\n",
       "        var display = window.getComputedStyle(gd).display;\n",
       "        if (!display || display === 'none') {{\n",
       "            console.log([gd, 'removed!']);\n",
       "            Plotly.purge(gd);\n",
       "            observer.disconnect();\n",
       "        }}\n",
       "}});\n",
       "\n",
       "// Listen for the removal of the full notebook cells\n",
       "var notebookContainer = gd.closest('#notebook-container');\n",
       "if (notebookContainer) {{\n",
       "    x.observe(notebookContainer, {childList: true});\n",
       "}}\n",
       "\n",
       "// Listen for the clearing of the current output cell\n",
       "var outputEl = gd.closest('.output');\n",
       "if (outputEl) {{\n",
       "    x.observe(outputEl, {childList: true});\n",
       "}}\n",
       "\n",
       "                        })                };                });            </script>        </div>"
      ]
     },
     "metadata": {},
     "output_type": "display_data"
    },
    {
     "name": "stdout",
     "output_type": "stream",
     "text": [
      "Best Lake_VAE model saved as best_Lake_VAE_epoch_1.pth\n"
     ]
    }
   ],
   "source": [
    "print(f'Training parameters: batch_size={batch_size}, learning_rate={learning_rate}, epochs={epochs}')\n",
    "\n",
    "# For Standard VAE\n",
    "print(\"Training Standard_VAE...\")\n",
    "Optimiser_Standard = torch.optim.Adam(Standard_VAE.parameters(), lr=learning_rate)\n",
    "Trained_Standard_VAE = train_vae(Standard_VAE, trainloader, validationloader, loss_function_standard, Optimiser_Standard, epochs, DEVICE, \"Standard_VAE\")"
   ]
  },
  {
   "cell_type": "code",
   "execution_count": null,
   "metadata": {},
   "outputs": [
    {
     "name": "stdout",
     "output_type": "stream",
     "text": [
      "Training parameters: batch_size=64, learning_rate=0.001, epochs=2\n",
      "Training Lake_VAE...\n"
     ]
    }
   ],
   "source": [
    "print(f'Training parameters: batch_size={batch_size}, learning_rate={learning_rate}, epochs={epochs}')\n",
    "\n",
    "# For Lake VAE\n",
    "print(\"Training Lake_VAE...\")\n",
    "Optimiser_Lake = torch.optim.Adam(Lake_VAE.parameters(), lr=learning_rate)\n",
    "Trained_Lake_VAE = train_vae(Lake_VAE, trainloader, validationloader, loss_function_lake, Optimiser_Lake, epochs, DEVICE, \"Lake_VAE\")"
   ]
  },
  {
   "cell_type": "markdown",
   "metadata": {},
   "source": [
    "# Loading Models and Visualising Latent Space:"
   ]
  },
  {
   "cell_type": "code",
   "execution_count": 139,
   "metadata": {},
   "outputs": [],
   "source": [
    "# Replace 'X' and 'Y' with the actual epoch numbers for the best Standard_VAE and Lake_VAE models, respectively\n",
    "best_standard_vae_path = 'best_Standard_VAE_epoch_4.pth'\n",
    "best_lake_vae_path = 'best_Lake_VAE_epoch_4.pth'\n",
    "\n",
    "# Load the best models\n",
    "best_Standard_VAE = StandardVAE().to(DEVICE)\n",
    "load_model(best_Standard_VAE, best_standard_vae_path, DEVICE)\n",
    "\n",
    "best_Lake_VAE = LakeVAE().to(DEVICE)\n",
    "load_model(best_Lake_VAE, best_lake_vae_path, DEVICE)"
   ]
  },
  {
   "cell_type": "code",
   "execution_count": 140,
   "metadata": {},
   "outputs": [],
   "source": [
    "import plotly.graph_objs as go\n",
    "import numpy as np\n",
    "import torch\n",
    "from sklearn.decomposition import PCA\n",
    "import matplotlib.pyplot as plt\n",
    "from IPython.display import display, clear_output\n",
    "import time\n",
    "\n",
    "is_processing = False\n",
    "\n",
    "def reconstruct_from_latent_space(model, latent_point, pca, device):\n",
    "    original_latent = pca.inverse_transform([latent_point])\n",
    "    original_latent_tensor = torch.from_numpy(original_latent).float().to(device)\n",
    "    reconstructed_img = model.decode(original_latent_tensor).cpu()\n",
    "    return reconstructed_img[0].squeeze()\n",
    "\n",
    "def plot_latent_space_interactive(model, data_loader, device, vaename, dataname, num_samples=1000):\n",
    "    model.eval()\n",
    "    latents = []\n",
    "    labels = []\n",
    "    with torch.no_grad():\n",
    "        for data, label in data_loader:\n",
    "            data = data.to(device)\n",
    "            mu, _ = model.encode(data)\n",
    "            latents.append(mu.cpu().numpy())\n",
    "            labels.append(label.numpy())\n",
    "            if len(latents) * data_loader.batch_size > num_samples:\n",
    "                break\n",
    "\n",
    "    latents = np.concatenate(latents, axis=0)[:num_samples]\n",
    "    labels = np.concatenate(labels, axis=0)[:num_samples]\n",
    "    \n",
    "    pca = PCA(n_components=2)\n",
    "    latents_reduced = pca.fit_transform(latents)\n",
    "\n",
    "    # Define a custom color scale (10 different colors for digits 0-9)\n",
    "    custom_color_scale = ['#636EFA', '#EF553B', '#00CC96', '#AB63FA', '#FFA15A',\n",
    "                          '#19D3F3', '#FF6692', '#B6E880', '#FF97FF', '#FECB52']\n",
    "\n",
    "    # Create traces for each digit with hover text\n",
    "    traces = []\n",
    "    for digit in range(10):\n",
    "        digit_indices = np.where(labels == digit)[0]\n",
    "        trace = go.Scatter(\n",
    "            x=latents_reduced[digit_indices, 0], y=latents_reduced[digit_indices, 1],\n",
    "            mode='markers', marker=dict(color=custom_color_scale[digit], size=10),\n",
    "            name=str(digit),\n",
    "            hoverinfo='text',\n",
    "            text=[f'Label: {digit}, Pos: ({x:.2f}, {y:.2f})' for x, y in latents_reduced[digit_indices]]\n",
    "        )\n",
    "        traces.append(trace)\n",
    "\n",
    "    # Plotly figure with separate traces\n",
    "    fig = go.FigureWidget(traces)\n",
    "    fig.update_layout(\n",
    "        title=f'{vaename} Latent Space Visualization of MNIST {dataname} Dataset',\n",
    "        xaxis_title='Principal Component 1',\n",
    "        yaxis_title='Principal Component 2',\n",
    "        width=800, height=600,\n",
    "        legend_title_text='Digit Label'\n",
    "    )\n",
    "\n",
    "    def update_image(trace, points, selector):\n",
    "        global is_processing\n",
    "        if is_processing:\n",
    "            return\n",
    "    \n",
    "        is_processing = True\n",
    "    \n",
    "        if points.point_inds:\n",
    "            idx = points.point_inds[0]\n",
    "            latent_point = latents_reduced[idx]\n",
    "            img = reconstruct_from_latent_space(model, latent_point, pca, device)\n",
    "            plt.imshow(img.detach().numpy(), cmap='gray')\n",
    "            plt.axis('off')\n",
    "            clear_output(wait=True)\n",
    "            display(plt.gcf())\n",
    "    \n",
    "        is_processing = False\n",
    "\n",
    "    for trace in fig.data:\n",
    "        trace.on_click(update_image)\n",
    "\n",
    "    display(fig)\n",
    "    model.train()"
   ]
  },
  {
   "cell_type": "code",
   "execution_count": 141,
   "metadata": {},
   "outputs": [
    {
     "data": {
      "application/vnd.jupyter.widget-view+json": {
       "model_id": "c2ed09321d744482b283890599bdb9e4",
       "version_major": 2,
       "version_minor": 0
      },
      "text/plain": [
       "FigureWidget({\n",
       "    'data': [{'hoverinfo': 'text',\n",
       "              'marker': {'color': '#636EFA', 'size': 10},\n",
       "              'mode': 'markers',\n",
       "              'name': '0',\n",
       "              'text': [Label: 0, Pos: (1.31, 1.39), Label: 0, Pos: (1.89, 2.07),\n",
       "                       Label: 0, Pos: (0.88, 1.10), Label: 0, Pos: (1.19, 0.81),\n",
       "                       Label: 0, Pos: (1.01, 2.05), Label: 0, Pos: (1.12, 1.05),\n",
       "                       Label: 0, Pos: (2.06, 0.72), Label: 0, Pos: (1.78, 1.24),\n",
       "                       Label: 0, Pos: (1.34, 0.55), Label: 0, Pos: (-0.11, 1.09),\n",
       "                       Label: 0, Pos: (1.36, 1.55), Label: 0, Pos: (1.52, 1.18),\n",
       "                       Label: 0, Pos: (-0.08, 2.37), Label: 0, Pos: (1.10, 0.03),\n",
       "                       Label: 0, Pos: (-0.12, 1.81), Label: 0, Pos: (1.89, 0.93),\n",
       "                       Label: 0, Pos: (-0.34, 1.97), Label: 0, Pos: (0.29, 1.13),\n",
       "                       Label: 0, Pos: (1.80, 0.67), Label: 0, Pos: (2.08, 1.64),\n",
       "                       Label: 0, Pos: (0.23, 2.79), Label: 0, Pos: (0.30, -1.20),\n",
       "                       Label: 0, Pos: (0.95, 1.48), Label: 0, Pos: (1.82, 0.52),\n",
       "                       Label: 0, Pos: (0.85, 2.91), Label: 0, Pos: (1.57, 0.68),\n",
       "                       Label: 0, Pos: (1.08, 2.18), Label: 0, Pos: (0.14, 1.41),\n",
       "                       Label: 0, Pos: (1.73, 0.80), Label: 0, Pos: (1.00, 0.93),\n",
       "                       Label: 0, Pos: (0.70, 1.13), Label: 0, Pos: (0.69, 0.68),\n",
       "                       Label: 0, Pos: (0.99, 0.81), Label: 0, Pos: (0.28, 1.45),\n",
       "                       Label: 0, Pos: (-0.55, -0.27), Label: 0, Pos: (1.11, -0.22),\n",
       "                       Label: 0, Pos: (1.92, 3.12), Label: 0, Pos: (1.42, 1.09),\n",
       "                       Label: 0, Pos: (0.59, -0.20), Label: 0, Pos: (1.24, 2.23),\n",
       "                       Label: 0, Pos: (-0.33, 1.35), Label: 0, Pos: (0.51, 0.09),\n",
       "                       Label: 0, Pos: (1.55, 1.73), Label: 0, Pos: (1.16, 0.79),\n",
       "                       Label: 0, Pos: (1.38, 1.86), Label: 0, Pos: (1.24, -0.69),\n",
       "                       Label: 0, Pos: (1.59, 1.06), Label: 0, Pos: (1.05, 2.72),\n",
       "                       Label: 0, Pos: (1.86, 2.24), Label: 0, Pos: (0.22, 2.09),\n",
       "                       Label: 0, Pos: (-0.28, 1.35), Label: 0, Pos: (1.26, 1.00),\n",
       "                       Label: 0, Pos: (0.40, 1.21), Label: 0, Pos: (1.10, 1.83),\n",
       "                       Label: 0, Pos: (0.50, 0.59), Label: 0, Pos: (1.07, 2.55),\n",
       "                       Label: 0, Pos: (0.53, 0.36), Label: 0, Pos: (0.72, 2.34),\n",
       "                       Label: 0, Pos: (2.21, 2.55), Label: 0, Pos: (-0.11, 0.38),\n",
       "                       Label: 0, Pos: (1.41, -0.18), Label: 0, Pos: (1.57, 0.71),\n",
       "                       Label: 0, Pos: (0.03, 2.25), Label: 0, Pos: (1.30, 1.09),\n",
       "                       Label: 0, Pos: (1.17, -0.71), Label: 0, Pos: (1.15, 2.48),\n",
       "                       Label: 0, Pos: (1.94, 1.19), Label: 0, Pos: (0.68, 1.68),\n",
       "                       Label: 0, Pos: (0.19, 0.97), Label: 0, Pos: (-0.88, 1.60),\n",
       "                       Label: 0, Pos: (0.04, 2.74), Label: 0, Pos: (1.01, 1.56),\n",
       "                       Label: 0, Pos: (2.47, 1.63), Label: 0, Pos: (0.35, 1.35),\n",
       "                       Label: 0, Pos: (0.98, 1.32), Label: 0, Pos: (2.07, 0.20),\n",
       "                       Label: 0, Pos: (1.07, 1.72), Label: 0, Pos: (1.05, 1.73),\n",
       "                       Label: 0, Pos: (1.21, 0.20), Label: 0, Pos: (2.00, 1.03),\n",
       "                       Label: 0, Pos: (-0.02, 2.77), Label: 0, Pos: (1.75, 0.51),\n",
       "                       Label: 0, Pos: (0.58, 2.13), Label: 0, Pos: (1.52, -0.12),\n",
       "                       Label: 0, Pos: (1.07, 1.05), Label: 0, Pos: (-0.04, 1.79),\n",
       "                       Label: 0, Pos: (0.78, 0.01), Label: 0, Pos: (0.09, 2.11),\n",
       "                       Label: 0, Pos: (1.00, 0.95), Label: 0, Pos: (1.07, 1.42),\n",
       "                       Label: 0, Pos: (1.14, 0.46), Label: 0, Pos: (1.61, 0.88),\n",
       "                       Label: 0, Pos: (0.87, 0.58), Label: 0, Pos: (-0.46, 0.23),\n",
       "                       Label: 0, Pos: (1.71, 0.25), Label: 0, Pos: (1.41, -0.56),\n",
       "                       Label: 0, Pos: (1.18, 2.31), Label: 0, Pos: (1.68, 0.90),\n",
       "                       Label: 0, Pos: (0.43, 0.99)],\n",
       "              'type': 'scatter',\n",
       "              'uid': 'b8337c1a-74f7-4d57-9b5f-8bceea40c47f',\n",
       "              'x': array([ 1.3113465 ,  1.8872062 ,  0.8780266 ,  1.1931444 ,  1.0071237 ,\n",
       "                           1.1156104 ,  2.0621886 ,  1.7790923 ,  1.342101  , -0.11169174,\n",
       "                           1.3622563 ,  1.5226157 , -0.08366406,  1.1015702 , -0.12235136,\n",
       "                           1.8936561 , -0.34285983,  0.2928286 ,  1.8035445 ,  2.0848067 ,\n",
       "                           0.23111527,  0.30029052,  0.9549048 ,  1.8150058 ,  0.8492687 ,\n",
       "                           1.5740999 ,  1.0771616 ,  0.1398394 ,  1.7273806 ,  1.0047643 ,\n",
       "                           0.7011674 ,  0.6936205 ,  0.98850393,  0.28128293, -0.5453082 ,\n",
       "                           1.106569  ,  1.9215181 ,  1.4175087 ,  0.58832943,  1.2427061 ,\n",
       "                          -0.32770506,  0.5111495 ,  1.5533749 ,  1.1631542 ,  1.375046  ,\n",
       "                           1.2419251 ,  1.5857382 ,  1.0514874 ,  1.8573928 ,  0.22158957,\n",
       "                          -0.28226998,  1.2633104 ,  0.40362945,  1.1020701 ,  0.50415826,\n",
       "                           1.0745564 ,  0.53054047,  0.7191693 ,  2.2085063 , -0.10800136,\n",
       "                           1.4074297 ,  1.5720721 ,  0.03222652,  1.2970127 ,  1.1664689 ,\n",
       "                           1.151716  ,  1.939279  ,  0.68409073,  0.18623589, -0.882866  ,\n",
       "                           0.04308297,  1.0139271 ,  2.4702504 ,  0.35435706,  0.9796508 ,\n",
       "                           2.0691762 ,  1.0702564 ,  1.0478497 ,  1.2148727 ,  1.9959413 ,\n",
       "                          -0.01598276,  1.7535672 ,  0.57797486,  1.5230665 ,  1.0652364 ,\n",
       "                          -0.04086053,  0.775598  ,  0.09086335,  0.9999797 ,  1.0654486 ,\n",
       "                           1.1373277 ,  1.609998  ,  0.86722505, -0.458095  ,  1.7055645 ,\n",
       "                           1.4128008 ,  1.1808889 ,  1.6832372 ,  0.42541462], dtype=float32),\n",
       "              'y': array([ 1.3946745 ,  2.0691204 ,  1.1024783 ,  0.80753464,  2.052471  ,\n",
       "                           1.0466435 ,  0.7195801 ,  1.244746  ,  0.5530068 ,  1.0893706 ,\n",
       "                           1.5517266 ,  1.1804813 ,  2.3676598 ,  0.02585345,  1.8114957 ,\n",
       "                           0.93265224,  1.9693563 ,  1.1307857 ,  0.66719514,  1.6355524 ,\n",
       "                           2.792663  , -1.2010639 ,  1.475802  ,  0.52439666,  2.9141052 ,\n",
       "                           0.6771267 ,  2.1845267 ,  1.4105453 ,  0.8035916 ,  0.93075943,\n",
       "                           1.1329336 ,  0.679996  ,  0.8102413 ,  1.4455423 , -0.27159375,\n",
       "                          -0.21966259,  3.1216056 ,  1.0918076 , -0.20195717,  2.229384  ,\n",
       "                           1.3460406 ,  0.0915635 ,  1.7324644 ,  0.78515154,  1.8551619 ,\n",
       "                          -0.6918569 ,  1.0567646 ,  2.7229953 ,  2.2380273 ,  2.0895512 ,\n",
       "                           1.3494797 ,  0.99523586,  1.2072341 ,  1.8259312 ,  0.59399164,\n",
       "                           2.550126  ,  0.35523805,  2.3369453 ,  2.5477717 ,  0.37998262,\n",
       "                          -0.18278065,  0.7149194 ,  2.247112  ,  1.09471   , -0.7063251 ,\n",
       "                           2.475658  ,  1.193784  ,  1.6843841 ,  0.9656011 ,  1.5966127 ,\n",
       "                           2.7350013 ,  1.5589955 ,  1.633139  ,  1.3482579 ,  1.3153449 ,\n",
       "                           0.20300512,  1.7213694 ,  1.7284256 ,  0.20445734,  1.0256311 ,\n",
       "                           2.7720292 ,  0.5069316 ,  2.1271756 , -0.12124968,  1.0454893 ,\n",
       "                           1.787784  ,  0.00572498,  2.1089082 ,  0.9508197 ,  1.4167482 ,\n",
       "                           0.4610753 ,  0.8817695 ,  0.58142877,  0.22996664,  0.25239044,\n",
       "                          -0.56431794,  2.305859  ,  0.9013097 ,  0.99147886], dtype=float32)},\n",
       "             {'hoverinfo': 'text',\n",
       "              'marker': {'color': '#EF553B', 'size': 10},\n",
       "              'mode': 'markers',\n",
       "              'name': '1',\n",
       "              'text': [Label: 1, Pos: (-0.65, -1.64), Label: 1, Pos: (-1.73,\n",
       "                       -1.04), Label: 1, Pos: (-1.53, -1.93), Label: 1, Pos:\n",
       "                       (-1.29, -1.78), Label: 1, Pos: (-1.58, -1.81), Label: 1,\n",
       "                       Pos: (-1.27, -1.84), Label: 1, Pos: (-1.48, -1.67), Label:\n",
       "                       1, Pos: (-0.49, -2.14), Label: 1, Pos: (-1.33, -1.42),\n",
       "                       Label: 1, Pos: (-1.52, -1.66), Label: 1, Pos: (-0.00,\n",
       "                       -1.81), Label: 1, Pos: (-1.18, -1.73), Label: 1, Pos:\n",
       "                       (-0.40, -1.62), Label: 1, Pos: (-1.51, -1.57), Label: 1,\n",
       "                       Pos: (-1.72, -1.78), Label: 1, Pos: (-2.16, -1.19), Label:\n",
       "                       1, Pos: (-0.78, -1.86), Label: 1, Pos: (-1.44, -1.93),\n",
       "                       Label: 1, Pos: (-1.37, -1.68), Label: 1, Pos: (-1.64,\n",
       "                       -1.84), Label: 1, Pos: (-0.99, -1.84), Label: 1, Pos:\n",
       "                       (-1.71, -1.24), Label: 1, Pos: (-1.95, -1.18), Label: 1,\n",
       "                       Pos: (-1.30, -1.64), Label: 1, Pos: (-1.87, -1.34), Label:\n",
       "                       1, Pos: (-1.60, -1.82), Label: 1, Pos: (-1.83, -0.89),\n",
       "                       Label: 1, Pos: (-0.89, -1.41), Label: 1, Pos: (-2.10,\n",
       "                       -0.28), Label: 1, Pos: (-1.58, -1.83), Label: 1, Pos:\n",
       "                       (-0.36, -1.88), Label: 1, Pos: (-1.65, -1.84), Label: 1,\n",
       "                       Pos: (-1.32, -1.97), Label: 1, Pos: (-1.44, -1.63), Label:\n",
       "                       1, Pos: (-1.51, -1.37), Label: 1, Pos: (-0.34, -1.84),\n",
       "                       Label: 1, Pos: (-1.31, -1.58), Label: 1, Pos: (-1.01,\n",
       "                       -1.12), Label: 1, Pos: (-1.69, -1.51), Label: 1, Pos:\n",
       "                       (-0.82, -2.04), Label: 1, Pos: (-1.04, -0.58), Label: 1,\n",
       "                       Pos: (-1.37, -1.88), Label: 1, Pos: (-1.31, -1.10), Label:\n",
       "                       1, Pos: (-1.59, -1.36), Label: 1, Pos: (-0.05, -1.35),\n",
       "                       Label: 1, Pos: (-1.38, -0.52), Label: 1, Pos: (-0.70,\n",
       "                       -1.93), Label: 1, Pos: (-1.96, -1.68), Label: 1, Pos:\n",
       "                       (-0.60, -0.86), Label: 1, Pos: (-1.00, -1.97), Label: 1,\n",
       "                       Pos: (-1.09, -1.81), Label: 1, Pos: (-1.89, -1.58), Label:\n",
       "                       1, Pos: (-1.32, -1.87), Label: 1, Pos: (-1.67, 0.32), Label:\n",
       "                       1, Pos: (-1.14, -1.69), Label: 1, Pos: (-1.73, -0.92),\n",
       "                       Label: 1, Pos: (0.36, -1.47), Label: 1, Pos: (-1.71, -1.76),\n",
       "                       Label: 1, Pos: (-1.82, -1.36), Label: 1, Pos: (-1.72,\n",
       "                       -1.26), Label: 1, Pos: (-1.94, -1.88), Label: 1, Pos:\n",
       "                       (-0.18, -1.79), Label: 1, Pos: (-1.38, -1.66), Label: 1,\n",
       "                       Pos: (-1.22, -1.65), Label: 1, Pos: (0.32, -1.93), Label: 1,\n",
       "                       Pos: (-1.78, -1.20), Label: 1, Pos: (-0.93, -1.81), Label:\n",
       "                       1, Pos: (-0.39, -2.06), Label: 1, Pos: (-1.82, -0.99),\n",
       "                       Label: 1, Pos: (-1.59, -1.81), Label: 1, Pos: (-1.78,\n",
       "                       -1.60), Label: 1, Pos: (-0.14, -1.39), Label: 1, Pos:\n",
       "                       (-0.83, -2.19), Label: 1, Pos: (-1.49, -1.31), Label: 1,\n",
       "                       Pos: (-0.48, -1.57), Label: 1, Pos: (-1.59, -1.66), Label:\n",
       "                       1, Pos: (-0.31, -2.09), Label: 1, Pos: (-0.34, -1.78),\n",
       "                       Label: 1, Pos: (-1.44, -1.54), Label: 1, Pos: (-0.97,\n",
       "                       -1.85), Label: 1, Pos: (-2.15, -1.28), Label: 1, Pos:\n",
       "                       (-1.48, -1.85), Label: 1, Pos: (-0.39, -1.50), Label: 1,\n",
       "                       Pos: (-1.13, -1.77), Label: 1, Pos: (-1.36, -1.52), Label:\n",
       "                       1, Pos: (-1.45, -1.74), Label: 1, Pos: (-1.27, -1.72),\n",
       "                       Label: 1, Pos: (-1.51, -1.10), Label: 1, Pos: (-1.05,\n",
       "                       -1.68), Label: 1, Pos: (-0.87, -1.69), Label: 1, Pos:\n",
       "                       (-0.85, -1.82), Label: 1, Pos: (-1.84, -1.03), Label: 1,\n",
       "                       Pos: (-1.49, -1.50), Label: 1, Pos: (-1.04, -1.69), Label:\n",
       "                       1, Pos: (-0.80, -1.84), Label: 1, Pos: (-1.98, -0.51),\n",
       "                       Label: 1, Pos: (-1.15, -2.09), Label: 1, Pos: (-1.38,\n",
       "                       -1.27), Label: 1, Pos: (-2.01, -1.25), Label: 1, Pos:\n",
       "                       (-1.64, -1.77), Label: 1, Pos: (-1.59, -0.65), Label: 1,\n",
       "                       Pos: (-1.78, -1.34), Label: 1, Pos: (-1.97, -1.32), Label:\n",
       "                       1, Pos: (-1.48, -1.70), Label: 1, Pos: (-0.82, -2.12),\n",
       "                       Label: 1, Pos: (-0.59, -2.11), Label: 1, Pos: (-1.43,\n",
       "                       -1.92), Label: 1, Pos: (-1.54, -1.15), Label: 1, Pos:\n",
       "                       (-1.06, -1.81), Label: 1, Pos: (0.00, -2.04), Label: 1, Pos:\n",
       "                       (-0.05, -1.96), Label: 1, Pos: (-1.24, -1.83), Label: 1,\n",
       "                       Pos: (-1.78, -1.56), Label: 1, Pos: (-2.07, -0.69), Label:\n",
       "                       1, Pos: (-1.46, -1.92), Label: 1, Pos: (-1.49, -0.88),\n",
       "                       Label: 1, Pos: (-1.61, -1.68), Label: 1, Pos: (0.05, -1.78),\n",
       "                       Label: 1, Pos: (-0.68, -1.72)],\n",
       "              'type': 'scatter',\n",
       "              'uid': '6ecb6cbd-1565-4b20-8058-75fa5a77d865',\n",
       "              'x': array([-6.4691973e-01, -1.7253599e+00, -1.5332513e+00, -1.2935280e+00,\n",
       "                          -1.5776235e+00, -1.2685519e+00, -1.4758497e+00, -4.9129993e-01,\n",
       "                          -1.3268965e+00, -1.5242972e+00, -2.5200276e-03, -1.1846012e+00,\n",
       "                          -3.9879125e-01, -1.5141512e+00, -1.7247037e+00, -2.1557331e+00,\n",
       "                          -7.8219491e-01, -1.4411052e+00, -1.3698782e+00, -1.6414065e+00,\n",
       "                          -9.8910666e-01, -1.7102243e+00, -1.9455462e+00, -1.3045834e+00,\n",
       "                          -1.8658335e+00, -1.5980829e+00, -1.8308761e+00, -8.8792658e-01,\n",
       "                          -2.0958538e+00, -1.5779656e+00, -3.6197823e-01, -1.6463224e+00,\n",
       "                          -1.3162892e+00, -1.4351532e+00, -1.5089656e+00, -3.3596870e-01,\n",
       "                          -1.3086929e+00, -1.0050681e+00, -1.6864915e+00, -8.1568927e-01,\n",
       "                          -1.0356327e+00, -1.3652724e+00, -1.3135163e+00, -1.5894196e+00,\n",
       "                          -5.2212719e-02, -1.3823888e+00, -7.0087689e-01, -1.9587429e+00,\n",
       "                          -6.0122406e-01, -9.9731499e-01, -1.0896704e+00, -1.8868831e+00,\n",
       "                          -1.3217288e+00, -1.6737000e+00, -1.1423162e+00, -1.7304246e+00,\n",
       "                           3.6041284e-01, -1.7131039e+00, -1.8200929e+00, -1.7200509e+00,\n",
       "                          -1.9367038e+00, -1.8010026e-01, -1.3812611e+00, -1.2170331e+00,\n",
       "                           3.1974477e-01, -1.7753906e+00, -9.3081510e-01, -3.8548431e-01,\n",
       "                          -1.8241338e+00, -1.5855081e+00, -1.7847838e+00, -1.3742456e-01,\n",
       "                          -8.2949609e-01, -1.4864826e+00, -4.8473114e-01, -1.5906333e+00,\n",
       "                          -3.1272423e-01, -3.4050506e-01, -1.4408870e+00, -9.7441834e-01,\n",
       "                          -2.1534669e+00, -1.4804422e+00, -3.8538048e-01, -1.1270171e+00,\n",
       "                          -1.3588037e+00, -1.4475899e+00, -1.2710706e+00, -1.5129257e+00,\n",
       "                          -1.0543153e+00, -8.7343997e-01, -8.5321593e-01, -1.8414341e+00,\n",
       "                          -1.4934258e+00, -1.0425057e+00, -7.9588306e-01, -1.9790447e+00,\n",
       "                          -1.1517365e+00, -1.3816739e+00, -2.0148368e+00, -1.6402968e+00,\n",
       "                          -1.5915443e+00, -1.7752302e+00, -1.9689907e+00, -1.4837613e+00,\n",
       "                          -8.1579232e-01, -5.9045720e-01, -1.4330522e+00, -1.5387292e+00,\n",
       "                          -1.0578575e+00,  1.6221992e-04, -5.0232891e-02, -1.2448624e+00,\n",
       "                          -1.7773962e+00, -2.0737612e+00, -1.4568034e+00, -1.4864621e+00,\n",
       "                          -1.6080265e+00,  5.2434899e-02, -6.8230402e-01], dtype=float32),\n",
       "              'y': array([-1.6443596 , -1.0404044 , -1.925463  , -1.7833816 , -1.8130308 ,\n",
       "                          -1.8430835 , -1.6650736 , -2.1433773 , -1.4170943 , -1.6579509 ,\n",
       "                          -1.8138182 , -1.727606  , -1.6199553 , -1.568664  , -1.7797848 ,\n",
       "                          -1.185362  , -1.8603266 , -1.9257343 , -1.681561  , -1.8390065 ,\n",
       "                          -1.8383135 , -1.2382568 , -1.1840061 , -1.6390109 , -1.3374882 ,\n",
       "                          -1.822956  , -0.8937482 , -1.4050778 , -0.2830332 , -1.8262281 ,\n",
       "                          -1.8763554 , -1.8401513 , -1.9658061 , -1.6315196 , -1.3698733 ,\n",
       "                          -1.8398807 , -1.5751957 , -1.1195403 , -1.5130454 , -2.0419953 ,\n",
       "                          -0.57837254, -1.8842154 , -1.1009746 , -1.3579465 , -1.3501948 ,\n",
       "                          -0.5166674 , -1.9326355 , -1.6780412 , -0.8589106 , -1.9720206 ,\n",
       "                          -1.8072948 , -1.5809184 , -1.8726699 ,  0.3172748 , -1.6928284 ,\n",
       "                          -0.92107886, -1.4654119 , -1.7627412 , -1.3578907 , -1.256869  ,\n",
       "                          -1.8752533 , -1.7905364 , -1.6645757 , -1.6545383 , -1.9287386 ,\n",
       "                          -1.2046891 , -1.8133781 , -2.064296  , -0.99241966, -1.8105025 ,\n",
       "                          -1.6008762 , -1.392218  , -2.1870427 , -1.3106072 , -1.565432  ,\n",
       "                          -1.6580666 , -2.0932198 , -1.783154  , -1.5444167 , -1.8494732 ,\n",
       "                          -1.2824115 , -1.854188  , -1.498948  , -1.7718949 , -1.5190873 ,\n",
       "                          -1.7379675 , -1.7150979 , -1.1017244 , -1.6769812 , -1.690093  ,\n",
       "                          -1.8172529 , -1.025241  , -1.5037271 , -1.6927117 , -1.841733  ,\n",
       "                          -0.51452905, -2.0939755 , -1.2731574 , -1.2489724 , -1.7747779 ,\n",
       "                          -0.646831  , -1.337291  , -1.3236722 , -1.7017283 , -2.115334  ,\n",
       "                          -2.1102724 , -1.9220011 , -1.1506225 , -1.8097985 , -2.0439382 ,\n",
       "                          -1.9622276 , -1.8253577 , -1.5609791 , -0.6911642 , -1.9232935 ,\n",
       "                          -0.87596434, -1.6810293 , -1.7807837 , -1.7202548 ], dtype=float32)},\n",
       "             {'hoverinfo': 'text',\n",
       "              'marker': {'color': '#00CC96', 'size': 10},\n",
       "              'mode': 'markers',\n",
       "              'name': '2',\n",
       "              'text': [Label: 2, Pos: (-0.32, -0.48), Label: 2, Pos: (-1.19,\n",
       "                       0.53), Label: 2, Pos: (0.17, -1.06), Label: 2, Pos: (-0.04,\n",
       "                       -0.03), Label: 2, Pos: (0.56, 0.10), Label: 2, Pos: (-2.32,\n",
       "                       -0.07), Label: 2, Pos: (-0.18, 0.36), Label: 2, Pos: (-1.29,\n",
       "                       0.44), Label: 2, Pos: (-3.09, 0.32), Label: 2, Pos: (-1.38,\n",
       "                       -0.02), Label: 2, Pos: (0.63, 0.37), Label: 2, Pos: (0.36,\n",
       "                       0.26), Label: 2, Pos: (-0.84, 0.65), Label: 2, Pos: (-0.62,\n",
       "                       1.10), Label: 2, Pos: (-0.49, 0.36), Label: 2, Pos: (-1.17,\n",
       "                       -0.24), Label: 2, Pos: (-1.62, -0.21), Label: 2, Pos: (0.24,\n",
       "                       0.20), Label: 2, Pos: (-1.82, 0.32), Label: 2, Pos: (-1.00,\n",
       "                       -0.06), Label: 2, Pos: (-1.20, 0.68), Label: 2, Pos: (-2.80,\n",
       "                       0.14), Label: 2, Pos: (-1.34, 0.99), Label: 2, Pos: (0.34,\n",
       "                       1.60), Label: 2, Pos: (-0.93, 0.43), Label: 2, Pos: (-0.75,\n",
       "                       0.05), Label: 2, Pos: (-0.99, 0.44), Label: 2, Pos: (-1.01,\n",
       "                       -0.02), Label: 2, Pos: (-2.58, 0.73), Label: 2, Pos: (0.86,\n",
       "                       0.48), Label: 2, Pos: (-0.07, 0.03), Label: 2, Pos: (-0.92,\n",
       "                       0.16), Label: 2, Pos: (-1.28, 0.60), Label: 2, Pos: (-0.51,\n",
       "                       0.70), Label: 2, Pos: (-1.55, -1.07), Label: 2, Pos: (-1.53,\n",
       "                       0.02), Label: 2, Pos: (-0.52, -0.32), Label: 2, Pos: (1.98,\n",
       "                       0.81), Label: 2, Pos: (-0.63, 0.13), Label: 2, Pos: (0.42,\n",
       "                       0.53), Label: 2, Pos: (-0.61, 0.29), Label: 2, Pos: (-0.19,\n",
       "                       1.29), Label: 2, Pos: (-0.39, 0.30), Label: 2, Pos: (-0.40,\n",
       "                       -0.06), Label: 2, Pos: (1.48, 0.99), Label: 2, Pos: (-0.29,\n",
       "                       0.25), Label: 2, Pos: (-0.02, 0.79), Label: 2, Pos: (-2.09,\n",
       "                       -0.74), Label: 2, Pos: (-0.83, 0.07), Label: 2, Pos: (0.36,\n",
       "                       0.26), Label: 2, Pos: (1.12, 1.05), Label: 2, Pos: (-2.09,\n",
       "                       1.08), Label: 2, Pos: (2.43, -1.01), Label: 2, Pos: (-0.82,\n",
       "                       0.53), Label: 2, Pos: (-1.94, -0.08), Label: 2, Pos: (-2.90,\n",
       "                       0.43), Label: 2, Pos: (-1.55, -0.97), Label: 2, Pos: (-1.30,\n",
       "                       0.06), Label: 2, Pos: (-0.82, -0.31), Label: 2, Pos: (-1.60,\n",
       "                       0.05), Label: 2, Pos: (-0.35, 0.12), Label: 2, Pos: (-1.14,\n",
       "                       0.31), Label: 2, Pos: (-0.27, -0.43), Label: 2, Pos: (0.79,\n",
       "                       0.33), Label: 2, Pos: (-0.78, 0.91), Label: 2, Pos: (-0.15,\n",
       "                       -0.64), Label: 2, Pos: (-0.70, -0.43), Label: 2, Pos:\n",
       "                       (-0.77, -0.45), Label: 2, Pos: (-1.92, 0.90), Label: 2, Pos:\n",
       "                       (-1.33, 0.20), Label: 2, Pos: (0.68, 0.59), Label: 2, Pos:\n",
       "                       (-1.22, 0.40), Label: 2, Pos: (-0.25, 0.16), Label: 2, Pos:\n",
       "                       (-2.20, 1.13), Label: 2, Pos: (-1.33, -0.09), Label: 2, Pos:\n",
       "                       (1.18, -0.22), Label: 2, Pos: (1.08, 0.79), Label: 2, Pos:\n",
       "                       (-0.01, -0.20), Label: 2, Pos: (-0.32, 0.90), Label: 2, Pos:\n",
       "                       (-1.43, -0.23), Label: 2, Pos: (-0.90, -1.48), Label: 2,\n",
       "                       Pos: (-1.11, 0.31), Label: 2, Pos: (-1.45, -0.12), Label: 2,\n",
       "                       Pos: (-0.31, -0.51), Label: 2, Pos: (0.73, -0.17), Label: 2,\n",
       "                       Pos: (0.63, -0.14), Label: 2, Pos: (1.03, 0.40), Label: 2,\n",
       "                       Pos: (0.33, -0.28), Label: 2, Pos: (-1.64, -0.29), Label: 2,\n",
       "                       Pos: (-0.19, 0.12), Label: 2, Pos: (0.25, 0.04), Label: 2,\n",
       "                       Pos: (0.12, -0.04), Label: 2, Pos: (-0.61, 0.51), Label: 2,\n",
       "                       Pos: (-1.23, 0.21), Label: 2, Pos: (0.87, 0.03), Label: 2,\n",
       "                       Pos: (0.97, 0.71), Label: 2, Pos: (2.94, 1.31), Label: 2,\n",
       "                       Pos: (-0.11, 1.01), Label: 2, Pos: (-2.87, 0.49), Label: 2,\n",
       "                       Pos: (-0.28, -1.26)],\n",
       "              'type': 'scatter',\n",
       "              'uid': '4182c1d8-0665-448c-ad7f-fd97fa958216',\n",
       "              'x': array([-0.32340217, -1.1943083 ,  0.17270666, -0.03907973,  0.56375664,\n",
       "                          -2.3246877 , -0.18300901, -1.2913039 , -3.0936148 , -1.3762696 ,\n",
       "                           0.63121593,  0.36185604, -0.8446282 , -0.6216875 , -0.486277  ,\n",
       "                          -1.1689441 , -1.6206325 ,  0.2386472 , -1.8228971 , -0.9993862 ,\n",
       "                          -1.2026888 , -2.796521  , -1.3371098 ,  0.33848456, -0.93076295,\n",
       "                          -0.748988  , -0.9861492 , -1.0063586 , -2.5840752 ,  0.85818624,\n",
       "                          -0.06914129, -0.9190108 , -1.2837751 , -0.5128012 , -1.5452414 ,\n",
       "                          -1.5328331 , -0.5194629 ,  1.9762894 , -0.62748486,  0.421925  ,\n",
       "                          -0.61260945, -0.19343397, -0.39135674, -0.39591044,  1.4755882 ,\n",
       "                          -0.28822732, -0.02405306, -2.0871806 , -0.8326151 ,  0.3606245 ,\n",
       "                           1.1222935 , -2.0867188 ,  2.434668  , -0.8197636 , -1.9420663 ,\n",
       "                          -2.9011686 , -1.5472815 , -1.3000889 , -0.81826144, -1.599495  ,\n",
       "                          -0.34823006, -1.1387599 , -0.2658583 ,  0.7941776 , -0.77648634,\n",
       "                          -0.15068051, -0.7038099 , -0.767407  , -1.9162792 , -1.3344222 ,\n",
       "                           0.6775179 , -1.2153659 , -0.24931556, -2.202496  , -1.3340178 ,\n",
       "                           1.1830814 ,  1.0759864 , -0.01130626, -0.31976885, -1.4284902 ,\n",
       "                          -0.90487105, -1.113682  , -1.4463674 , -0.30889082,  0.7320927 ,\n",
       "                           0.6315614 ,  1.0297347 ,  0.3345162 , -1.6374834 , -0.19304185,\n",
       "                           0.24530154,  0.11558538, -0.60735476, -1.234389  ,  0.873079  ,\n",
       "                           0.97300607,  2.943868  , -0.10500075, -2.8690288 , -0.2772915 ],\n",
       "                         dtype=float32),\n",
       "              'y': array([-0.47536746,  0.53453505, -1.0623633 , -0.03062616,  0.10135234,\n",
       "                          -0.07155159,  0.36476028,  0.44296467,  0.32106814, -0.01555615,\n",
       "                           0.3651453 ,  0.26041973,  0.65312123,  1.0959706 ,  0.3563943 ,\n",
       "                          -0.23979278, -0.20961772,  0.20450453,  0.319633  , -0.06172946,\n",
       "                           0.68498164,  0.14187771,  0.9894997 ,  1.602106  ,  0.42921224,\n",
       "                           0.05440934,  0.43678302, -0.01737082,  0.7311767 ,  0.47936141,\n",
       "                           0.03175075,  0.15976545,  0.6001375 ,  0.6974707 , -1.0734837 ,\n",
       "                           0.02391665, -0.31583217,  0.8110596 ,  0.13495007,  0.53094316,\n",
       "                           0.29340437,  1.2872131 ,  0.3047247 , -0.05588809,  0.98681587,\n",
       "                           0.25320062,  0.78796786, -0.74079937,  0.06993314,  0.26039895,\n",
       "                           1.0473751 ,  1.0816112 , -1.0127362 ,  0.53222126, -0.07904472,\n",
       "                           0.43464366, -0.9691567 ,  0.05868225, -0.30935782,  0.04552066,\n",
       "                           0.11950809,  0.3064829 , -0.4300916 ,  0.3309632 ,  0.9131863 ,\n",
       "                          -0.63667595, -0.4266068 , -0.44629797,  0.8955423 ,  0.19591099,\n",
       "                           0.5921122 ,  0.39647403,  0.15508924,  1.1259686 , -0.09387213,\n",
       "                          -0.2212594 ,  0.79352576, -0.19637813,  0.8953776 , -0.2317068 ,\n",
       "                          -1.4810169 ,  0.30642015, -0.11963542, -0.5138342 , -0.16689786,\n",
       "                          -0.14025527,  0.40283775, -0.27502465, -0.28855342,  0.11640199,\n",
       "                           0.04397456, -0.03832081,  0.5094603 ,  0.20678912,  0.0313371 ,\n",
       "                           0.70726955,  1.3068855 ,  1.0107667 ,  0.48924688, -1.2635123 ],\n",
       "                         dtype=float32)},\n",
       "             {'hoverinfo': 'text',\n",
       "              'marker': {'color': '#AB63FA', 'size': 10},\n",
       "              'mode': 'markers',\n",
       "              'name': '3',\n",
       "              'text': [Label: 3, Pos: (0.13, 0.93), Label: 3, Pos: (0.50, 0.78),\n",
       "                       Label: 3, Pos: (0.05, 0.18), Label: 3, Pos: (-0.96, 2.36),\n",
       "                       Label: 3, Pos: (-1.26, 1.76), Label: 3, Pos: (-1.67, 1.11),\n",
       "                       Label: 3, Pos: (-0.57, 2.24), Label: 3, Pos: (-0.10, 0.90),\n",
       "                       Label: 3, Pos: (0.72, 1.90), Label: 3, Pos: (0.68, 0.87),\n",
       "                       Label: 3, Pos: (-0.24, 1.21), Label: 3, Pos: (-0.20, 0.82),\n",
       "                       Label: 3, Pos: (0.81, 2.37), Label: 3, Pos: (-0.09, -0.21),\n",
       "                       Label: 3, Pos: (-1.45, 1.16), Label: 3, Pos: (-0.06, 0.67),\n",
       "                       Label: 3, Pos: (-0.46, 1.17), Label: 3, Pos: (-0.70, 1.09),\n",
       "                       Label: 3, Pos: (0.01, 1.74), Label: 3, Pos: (-0.16, 1.50),\n",
       "                       Label: 3, Pos: (0.38, 1.79), Label: 3, Pos: (-0.35, 2.56),\n",
       "                       Label: 3, Pos: (0.16, 1.23), Label: 3, Pos: (-1.22, 0.50),\n",
       "                       Label: 3, Pos: (-1.43, 2.07), Label: 3, Pos: (-0.87, 0.96),\n",
       "                       Label: 3, Pos: (-0.06, 1.97), Label: 3, Pos: (0.07, 2.78),\n",
       "                       Label: 3, Pos: (-0.37, 2.00), Label: 3, Pos: (-0.29, 0.30),\n",
       "                       Label: 3, Pos: (1.78, 3.11), Label: 3, Pos: (-1.00, 1.18),\n",
       "                       Label: 3, Pos: (1.42, 1.35), Label: 3, Pos: (-0.89, 0.94),\n",
       "                       Label: 3, Pos: (-1.04, 0.38), Label: 3, Pos: (1.69, 0.54),\n",
       "                       Label: 3, Pos: (-0.91, 1.30), Label: 3, Pos: (0.87, 0.37),\n",
       "                       Label: 3, Pos: (1.38, 0.29), Label: 3, Pos: (-1.42, 1.73),\n",
       "                       Label: 3, Pos: (-0.11, 2.24), Label: 3, Pos: (-0.81, 1.23),\n",
       "                       Label: 3, Pos: (-0.44, 0.69), Label: 3, Pos: (0.76, -0.41),\n",
       "                       Label: 3, Pos: (-0.45, 1.60), Label: 3, Pos: (-1.14, 2.48),\n",
       "                       Label: 3, Pos: (-0.49, 0.94), Label: 3, Pos: (-0.04, 2.74),\n",
       "                       Label: 3, Pos: (-1.13, 1.94), Label: 3, Pos: (0.18, 1.82),\n",
       "                       Label: 3, Pos: (0.97, 1.06), Label: 3, Pos: (-1.13, 0.03),\n",
       "                       Label: 3, Pos: (0.07, 1.84), Label: 3, Pos: (0.20, 1.98),\n",
       "                       Label: 3, Pos: (-1.61, 1.28), Label: 3, Pos: (-0.22, 1.57),\n",
       "                       Label: 3, Pos: (0.17, 1.59), Label: 3, Pos: (0.30, 1.71),\n",
       "                       Label: 3, Pos: (0.09, 0.99), Label: 3, Pos: (-0.36, 3.07),\n",
       "                       Label: 3, Pos: (-0.51, 1.84), Label: 3, Pos: (-1.09, 3.06),\n",
       "                       Label: 3, Pos: (0.05, 0.41), Label: 3, Pos: (2.26, 0.58),\n",
       "                       Label: 3, Pos: (0.05, 0.00), Label: 3, Pos: (-1.23, 0.28),\n",
       "                       Label: 3, Pos: (0.80, 0.92), Label: 3, Pos: (-0.19, 0.98),\n",
       "                       Label: 3, Pos: (0.45, 0.92), Label: 3, Pos: (-0.78, 0.39),\n",
       "                       Label: 3, Pos: (-1.77, 1.72), Label: 3, Pos: (-1.36, 1.20),\n",
       "                       Label: 3, Pos: (1.14, 0.30), Label: 3, Pos: (2.24, 1.16),\n",
       "                       Label: 3, Pos: (-0.53, 0.69), Label: 3, Pos: (-1.03, 1.48),\n",
       "                       Label: 3, Pos: (1.53, 0.69), Label: 3, Pos: (-0.66, 1.77),\n",
       "                       Label: 3, Pos: (-1.43, 0.57), Label: 3, Pos: (-0.23, 1.46),\n",
       "                       Label: 3, Pos: (-1.68, 1.51), Label: 3, Pos: (0.31, 0.95),\n",
       "                       Label: 3, Pos: (-1.38, 2.19), Label: 3, Pos: (1.19, 1.66),\n",
       "                       Label: 3, Pos: (-1.27, 0.63), Label: 3, Pos: (1.03, 1.01),\n",
       "                       Label: 3, Pos: (-0.29, 0.80), Label: 3, Pos: (-0.86, 1.56),\n",
       "                       Label: 3, Pos: (-0.01, 1.94), Label: 3, Pos: (-0.64, 2.26),\n",
       "                       Label: 3, Pos: (0.22, 2.37), Label: 3, Pos: (-1.03, 2.38),\n",
       "                       Label: 3, Pos: (1.25, 1.38), Label: 3, Pos: (0.53, 1.88),\n",
       "                       Label: 3, Pos: (0.09, 1.23), Label: 3, Pos: (-0.05, 1.40),\n",
       "                       Label: 3, Pos: (-0.20, 0.56), Label: 3, Pos: (-0.99, 2.98),\n",
       "                       Label: 3, Pos: (-2.00, 2.58), Label: 3, Pos: (-0.13, 2.75),\n",
       "                       Label: 3, Pos: (-1.25, 3.20), Label: 3, Pos: (-0.49, 2.67)],\n",
       "              'type': 'scatter',\n",
       "              'uid': '4a05dbef-da12-437f-9acd-9bf53a087465',\n",
       "              'x': array([ 0.13321178,  0.50498754,  0.04776465, -0.95754063, -1.2592981 ,\n",
       "                          -1.6723862 , -0.5661714 , -0.09557942,  0.72477645,  0.68214095,\n",
       "                          -0.2420132 , -0.2037591 ,  0.81161094, -0.08955869, -1.4536778 ,\n",
       "                          -0.0634588 , -0.46026155, -0.6954147 ,  0.0101496 , -0.1570732 ,\n",
       "                           0.38147306, -0.3513904 ,  0.1633955 , -1.2153599 , -1.4267437 ,\n",
       "                          -0.8682259 , -0.05779633,  0.07359941, -0.371034  , -0.28736502,\n",
       "                           1.7826481 , -0.99610734,  1.4154416 , -0.88557816, -1.0425347 ,\n",
       "                           1.6928746 , -0.91066223,  0.87434673,  1.3775278 , -1.4165285 ,\n",
       "                          -0.11420934, -0.81398404, -0.439319  ,  0.75887084, -0.44904476,\n",
       "                          -1.1371287 , -0.4946729 , -0.03805077, -1.1326532 ,  0.18349363,\n",
       "                           0.96778065, -1.1326926 ,  0.06917179,  0.20438994, -1.6116593 ,\n",
       "                          -0.21949628,  0.16534218,  0.29533032,  0.09086684, -0.36211023,\n",
       "                          -0.5134755 , -1.0858184 ,  0.05120251,  2.2567663 ,  0.04838837,\n",
       "                          -1.229868  ,  0.79862064, -0.19110984,  0.45159325, -0.78028095,\n",
       "                          -1.769908  , -1.360182  ,  1.1372877 ,  2.2401655 , -0.5297281 ,\n",
       "                          -1.0329695 ,  1.5312867 , -0.656638  , -1.4284675 , -0.2253515 ,\n",
       "                          -1.6827115 ,  0.31282422, -1.3841659 ,  1.193082  , -1.2724228 ,\n",
       "                           1.0257529 , -0.28912556, -0.86418706, -0.00981584, -0.63825285,\n",
       "                           0.2247787 , -1.0291142 ,  1.252929  ,  0.5335667 ,  0.09025238,\n",
       "                          -0.04861262, -0.2016213 , -0.99205625, -1.9958509 , -0.12841699,\n",
       "                          -1.2493358 , -0.48582578], dtype=float32),\n",
       "              'y': array([ 9.2691773e-01,  7.7692664e-01,  1.7733131e-01,  2.3616254e+00,\n",
       "                           1.7582376e+00,  1.1109101e+00,  2.2433181e+00,  8.9696431e-01,\n",
       "                           1.8961177e+00,  8.7365246e-01,  1.2089232e+00,  8.2291943e-01,\n",
       "                           2.3676739e+00, -2.1347009e-01,  1.1553382e+00,  6.6807437e-01,\n",
       "                           1.1734369e+00,  1.0925311e+00,  1.7436029e+00,  1.5048462e+00,\n",
       "                           1.7927341e+00,  2.5589764e+00,  1.2287333e+00,  4.9857143e-01,\n",
       "                           2.0720432e+00,  9.5937681e-01,  1.9686710e+00,  2.7828994e+00,\n",
       "                           2.0028000e+00,  2.9827434e-01,  3.1098027e+00,  1.1804404e+00,\n",
       "                           1.3452300e+00,  9.3589985e-01,  3.7801352e-01,  5.4037470e-01,\n",
       "                           1.3017458e+00,  3.7461945e-01,  2.9159802e-01,  1.7317894e+00,\n",
       "                           2.2385676e+00,  1.2282367e+00,  6.9086009e-01, -4.1328850e-01,\n",
       "                           1.6016352e+00,  2.4758329e+00,  9.3563777e-01,  2.7399979e+00,\n",
       "                           1.9361707e+00,  1.8244182e+00,  1.0625051e+00,  2.8570985e-02,\n",
       "                           1.8374921e+00,  1.9753853e+00,  1.2796783e+00,  1.5689758e+00,\n",
       "                           1.5873646e+00,  1.7064778e+00,  9.9040204e-01,  3.0731518e+00,\n",
       "                           1.8423142e+00,  3.0614502e+00,  4.1357729e-01,  5.8133304e-01,\n",
       "                           2.3587176e-03,  2.8077608e-01,  9.1806203e-01,  9.8443878e-01,\n",
       "                           9.1569579e-01,  3.8963509e-01,  1.7247255e+00,  1.2039456e+00,\n",
       "                           2.9637954e-01,  1.1617389e+00,  6.9341147e-01,  1.4813892e+00,\n",
       "                           6.8616235e-01,  1.7690072e+00,  5.6704581e-01,  1.4624461e+00,\n",
       "                           1.5096650e+00,  9.5055473e-01,  2.1882021e+00,  1.6599212e+00,\n",
       "                           6.2768257e-01,  1.0089509e+00,  7.9534787e-01,  1.5568453e+00,\n",
       "                           1.9396740e+00,  2.2562103e+00,  2.3669763e+00,  2.3828573e+00,\n",
       "                           1.3812838e+00,  1.8769956e+00,  1.2320857e+00,  1.4018517e+00,\n",
       "                           5.6060702e-01,  2.9818971e+00,  2.5790915e+00,  2.7464907e+00,\n",
       "                           3.2032421e+00,  2.6667805e+00], dtype=float32)},\n",
       "             {'hoverinfo': 'text',\n",
       "              'marker': {'color': '#FFA15A', 'size': 10},\n",
       "              'mode': 'markers',\n",
       "              'name': '4',\n",
       "              'text': [Label: 4, Pos: (-0.72, -1.02), Label: 4, Pos: (-0.35,\n",
       "                       -0.74), Label: 4, Pos: (-0.96, -1.25), Label: 4, Pos:\n",
       "                       (-0.68, -0.49), Label: 4, Pos: (-1.53, -0.83), Label: 4,\n",
       "                       Pos: (-0.25, -1.29), Label: 4, Pos: (-1.61, 0.17), Label: 4,\n",
       "                       Pos: (1.00, -1.43), Label: 4, Pos: (0.98, -1.79), Label: 4,\n",
       "                       Pos: (-0.92, -1.27), Label: 4, Pos: (0.62, -1.98), Label: 4,\n",
       "                       Pos: (-0.45, -1.28), Label: 4, Pos: (-0.74, -1.25), Label:\n",
       "                       4, Pos: (-1.33, -0.87), Label: 4, Pos: (-0.06, -1.94),\n",
       "                       Label: 4, Pos: (-0.67, 0.05), Label: 4, Pos: (-0.52, -0.54),\n",
       "                       Label: 4, Pos: (0.26, -2.14), Label: 4, Pos: (1.22, -0.97),\n",
       "                       Label: 4, Pos: (0.14, 0.13), Label: 4, Pos: (-0.54, -0.70),\n",
       "                       Label: 4, Pos: (0.82, -2.12), Label: 4, Pos: (1.09, -0.99),\n",
       "                       Label: 4, Pos: (0.44, -0.21), Label: 4, Pos: (-1.47, -0.08),\n",
       "                       Label: 4, Pos: (1.72, -1.45), Label: 4, Pos: (0.27, -1.49),\n",
       "                       Label: 4, Pos: (-0.42, -1.67), Label: 4, Pos: (1.65, -0.55),\n",
       "                       Label: 4, Pos: (0.81, -0.93), Label: 4, Pos: (-0.46, -0.67),\n",
       "                       Label: 4, Pos: (0.40, -1.87), Label: 4, Pos: (-1.27, -0.76),\n",
       "                       Label: 4, Pos: (-1.28, -0.00), Label: 4, Pos: (0.45, 0.23),\n",
       "                       Label: 4, Pos: (0.77, -1.46), Label: 4, Pos: (-0.63, -0.87),\n",
       "                       Label: 4, Pos: (-1.17, 0.13), Label: 4, Pos: (0.04, -1.04),\n",
       "                       Label: 4, Pos: (1.20, 1.09), Label: 4, Pos: (0.40, -1.27),\n",
       "                       Label: 4, Pos: (0.60, -1.66), Label: 4, Pos: (1.02, -1.08),\n",
       "                       Label: 4, Pos: (-0.03, -1.31), Label: 4, Pos: (-0.67,\n",
       "                       -1.27), Label: 4, Pos: (0.22, -0.35), Label: 4, Pos: (-0.34,\n",
       "                       -0.59), Label: 4, Pos: (1.59, -1.45), Label: 4, Pos: (-0.30,\n",
       "                       -1.62), Label: 4, Pos: (-1.47, -0.24), Label: 4, Pos:\n",
       "                       (-0.16, -1.40), Label: 4, Pos: (0.14, -1.26), Label: 4, Pos:\n",
       "                       (-0.18, -1.78), Label: 4, Pos: (1.15, -1.99), Label: 4, Pos:\n",
       "                       (-0.18, 1.26), Label: 4, Pos: (0.14, -1.95), Label: 4, Pos:\n",
       "                       (0.03, -1.38), Label: 4, Pos: (0.03, 0.15), Label: 4, Pos:\n",
       "                       (-1.08, 0.70), Label: 4, Pos: (0.13, -0.15), Label: 4, Pos:\n",
       "                       (-0.74, 0.62), Label: 4, Pos: (0.34, -1.16), Label: 4, Pos:\n",
       "                       (0.26, -0.09), Label: 4, Pos: (0.66, -1.94), Label: 4, Pos:\n",
       "                       (1.98, 0.31), Label: 4, Pos: (0.32, -1.43), Label: 4, Pos:\n",
       "                       (-0.25, -1.51), Label: 4, Pos: (0.46, 0.16), Label: 4, Pos:\n",
       "                       (1.67, 0.71), Label: 4, Pos: (0.82, -0.29), Label: 4, Pos:\n",
       "                       (0.88, 0.56), Label: 4, Pos: (-0.89, 0.26), Label: 4, Pos:\n",
       "                       (1.30, -0.80), Label: 4, Pos: (-1.60, -1.30), Label: 4, Pos:\n",
       "                       (0.43, 0.23), Label: 4, Pos: (-0.42, -0.31), Label: 4, Pos:\n",
       "                       (0.70, -0.83), Label: 4, Pos: (-0.04, -0.55), Label: 4, Pos:\n",
       "                       (0.44, -1.64), Label: 4, Pos: (-0.98, 1.39), Label: 4, Pos:\n",
       "                       (1.28, -1.28), Label: 4, Pos: (0.03, -1.59), Label: 4, Pos:\n",
       "                       (-0.64, -1.90)],\n",
       "              'type': 'scatter',\n",
       "              'uid': '32e89f58-edc3-41c6-bcb1-c208bf267997',\n",
       "              'x': array([-0.7248675 , -0.34757712, -0.96389645, -0.6821136 , -1.5295767 ,\n",
       "                          -0.2532771 , -1.6118364 ,  0.9974064 ,  0.9787533 , -0.91929483,\n",
       "                           0.62375355, -0.45424977, -0.7436609 , -1.3323091 , -0.05733669,\n",
       "                          -0.673176  , -0.52249134,  0.26304138,  1.2219    ,  0.1404912 ,\n",
       "                          -0.5439145 ,  0.8218761 ,  1.0854696 ,  0.4375746 , -1.4703294 ,\n",
       "                           1.7155333 ,  0.27333745, -0.42125222,  1.6469716 ,  0.8139395 ,\n",
       "                          -0.46273473,  0.39788833, -1.2650832 , -1.282433  ,  0.45399114,\n",
       "                           0.7719837 , -0.63031274, -1.1701425 ,  0.0364237 ,  1.202572  ,\n",
       "                           0.40378568,  0.6011494 ,  1.0216933 , -0.02572179, -0.66887146,\n",
       "                           0.2168541 , -0.34366596,  1.5860162 , -0.30166143, -1.4675316 ,\n",
       "                          -0.16458598,  0.13838945, -0.18412703,  1.1468731 , -0.18472378,\n",
       "                           0.1413279 ,  0.02599789,  0.02958719, -1.078847  ,  0.12908575,\n",
       "                          -0.74286497,  0.33959255,  0.25664607,  0.659871  ,  1.9784253 ,\n",
       "                           0.3247272 , -0.24899685,  0.46346328,  1.6665864 ,  0.81636024,\n",
       "                           0.8835541 , -0.8889786 ,  1.2990859 , -1.5961578 ,  0.43058065,\n",
       "                          -0.41714486,  0.7046666 , -0.03611092,  0.43576515, -0.9816656 ,\n",
       "                           1.2754431 ,  0.03132397, -0.6418856 ], dtype=float32),\n",
       "              'y': array([-1.0214838 , -0.7429039 , -1.2527257 , -0.4900851 , -0.8286467 ,\n",
       "                          -1.2939069 ,  0.17412044, -1.4258074 , -1.7943714 , -1.2746097 ,\n",
       "                          -1.9848304 , -1.2800603 , -1.2475435 , -0.8670733 , -1.9358656 ,\n",
       "                           0.04650583, -0.53563136, -2.1356413 , -0.97360677,  0.12801804,\n",
       "                          -0.6967159 , -2.1150427 , -0.9853012 , -0.20533682, -0.07801414,\n",
       "                          -1.4509217 , -1.4887307 , -1.6676633 , -0.5523528 , -0.9266871 ,\n",
       "                          -0.6715907 , -1.8739413 , -0.7575618 , -0.00496747,  0.22713602,\n",
       "                          -1.457642  , -0.86511284,  0.12885654, -1.0384878 ,  1.0893077 ,\n",
       "                          -1.2667425 , -1.6551485 , -1.0768839 , -1.3106    , -1.2728709 ,\n",
       "                          -0.35316223, -0.59184504, -1.4513364 , -1.6151061 , -0.2424323 ,\n",
       "                          -1.4047451 , -1.2570109 , -1.7769057 , -1.985951  ,  1.2576735 ,\n",
       "                          -1.9458708 , -1.376801  ,  0.15380493,  0.6964694 , -0.1476041 ,\n",
       "                           0.6245923 , -1.1620202 , -0.09413155, -1.9371738 ,  0.31367683,\n",
       "                          -1.4274793 , -1.513653  ,  0.16098197,  0.70875615, -0.28673732,\n",
       "                           0.5570589 ,  0.2624051 , -0.79795945, -1.2953193 ,  0.22785237,\n",
       "                          -0.3102195 , -0.82896477, -0.55325985, -1.639515  ,  1.3896421 ,\n",
       "                          -1.278505  , -1.5896131 , -1.8981988 ], dtype=float32)},\n",
       "             {'hoverinfo': 'text',\n",
       "              'marker': {'color': '#19D3F3', 'size': 10},\n",
       "              'mode': 'markers',\n",
       "              'name': '5',\n",
       "              'text': [Label: 5, Pos: (0.53, 0.15), Label: 5, Pos: (-0.29, 2.65),\n",
       "                       Label: 5, Pos: (0.57, -0.42), Label: 5, Pos: (-0.01, 0.13),\n",
       "                       Label: 5, Pos: (-1.24, 2.80), Label: 5, Pos: (-0.05, 0.94),\n",
       "                       Label: 5, Pos: (-0.81, 0.29), Label: 5, Pos: (-1.06, 1.28),\n",
       "                       Label: 5, Pos: (-0.72, 2.18), Label: 5, Pos: (-0.09, -1.11),\n",
       "                       Label: 5, Pos: (-0.63, 1.38), Label: 5, Pos: (0.32, -0.06),\n",
       "                       Label: 5, Pos: (-1.04, 2.74), Label: 5, Pos: (0.12, 1.62),\n",
       "                       Label: 5, Pos: (0.45, -0.74), Label: 5, Pos: (0.05, -0.75),\n",
       "                       Label: 5, Pos: (0.39, 1.07), Label: 5, Pos: (-0.67, 0.41),\n",
       "                       Label: 5, Pos: (-0.13, 0.43), Label: 5, Pos: (-1.28, 2.17),\n",
       "                       Label: 5, Pos: (0.72, 0.33), Label: 5, Pos: (-0.10, 2.28),\n",
       "                       Label: 5, Pos: (0.93, 1.53), Label: 5, Pos: (-0.68, -0.01),\n",
       "                       Label: 5, Pos: (0.19, 0.36), Label: 5, Pos: (-0.09, 3.32),\n",
       "                       Label: 5, Pos: (-1.78, 2.32), Label: 5, Pos: (0.64, 0.08),\n",
       "                       Label: 5, Pos: (-1.16, 1.32), Label: 5, Pos: (-0.13, -0.01),\n",
       "                       Label: 5, Pos: (-0.27, 1.16), Label: 5, Pos: (-0.06, 0.56),\n",
       "                       Label: 5, Pos: (-1.06, 1.73), Label: 5, Pos: (-0.22, -0.52),\n",
       "                       Label: 5, Pos: (-0.26, -0.25), Label: 5, Pos: (-0.71, 0.77),\n",
       "                       Label: 5, Pos: (0.50, -0.21), Label: 5, Pos: (-0.51, 0.02),\n",
       "                       Label: 5, Pos: (0.12, -0.86), Label: 5, Pos: (0.35, -0.04),\n",
       "                       Label: 5, Pos: (-0.66, -1.24), Label: 5, Pos: (-1.44, 0.17),\n",
       "                       Label: 5, Pos: (-1.11, 1.96), Label: 5, Pos: (0.47, 0.55),\n",
       "                       Label: 5, Pos: (-0.91, 0.83), Label: 5, Pos: (-0.84, 1.87),\n",
       "                       Label: 5, Pos: (1.16, -0.78), Label: 5, Pos: (0.39, 1.68),\n",
       "                       Label: 5, Pos: (0.58, -0.07), Label: 5, Pos: (-0.71, 1.31),\n",
       "                       Label: 5, Pos: (-0.53, 2.03), Label: 5, Pos: (-0.36, 0.37),\n",
       "                       Label: 5, Pos: (-1.23, 2.62), Label: 5, Pos: (-0.14, -1.03),\n",
       "                       Label: 5, Pos: (0.09, 2.41), Label: 5, Pos: (-0.63, 0.23),\n",
       "                       Label: 5, Pos: (0.09, 0.25), Label: 5, Pos: (0.08, 0.34),\n",
       "                       Label: 5, Pos: (0.42, 0.43), Label: 5, Pos: (-1.57, 2.58),\n",
       "                       Label: 5, Pos: (0.28, 0.14), Label: 5, Pos: (1.40, -0.77),\n",
       "                       Label: 5, Pos: (-0.42, 1.54), Label: 5, Pos: (-1.24, 0.22),\n",
       "                       Label: 5, Pos: (-0.64, 2.01), Label: 5, Pos: (-1.68, 1.60),\n",
       "                       Label: 5, Pos: (-0.56, 0.86), Label: 5, Pos: (-0.19, -0.94),\n",
       "                       Label: 5, Pos: (-0.33, 0.91), Label: 5, Pos: (0.07, 2.00),\n",
       "                       Label: 5, Pos: (-1.02, 3.15), Label: 5, Pos: (0.18, -0.17),\n",
       "                       Label: 5, Pos: (0.05, -1.19), Label: 5, Pos: (0.44, 0.48),\n",
       "                       Label: 5, Pos: (-0.45, 2.06), Label: 5, Pos: (0.34, 1.83),\n",
       "                       Label: 5, Pos: (0.99, 0.32), Label: 5, Pos: (-0.25, 1.19),\n",
       "                       Label: 5, Pos: (0.25, -0.39), Label: 5, Pos: (-0.96, 1.00),\n",
       "                       Label: 5, Pos: (0.55, -0.50), Label: 5, Pos: (-0.06, 1.82),\n",
       "                       Label: 5, Pos: (0.81, 0.63), Label: 5, Pos: (0.80, 0.34),\n",
       "                       Label: 5, Pos: (-1.09, 3.19), Label: 5, Pos: (0.16, 2.16),\n",
       "                       Label: 5, Pos: (-1.16, 1.85), Label: 5, Pos: (0.07, -0.22),\n",
       "                       Label: 5, Pos: (0.49, 0.84), Label: 5, Pos: (-0.45, 1.20),\n",
       "                       Label: 5, Pos: (-0.45, 1.91)],\n",
       "              'type': 'scatter',\n",
       "              'uid': 'b71b2a69-19e8-4009-8b3d-9ed0524fefc6',\n",
       "              'x': array([ 0.5304448 , -0.29120013,  0.5742167 , -0.00842552, -1.2384539 ,\n",
       "                          -0.04983811, -0.8137707 , -1.0563467 , -0.72459966, -0.08611483,\n",
       "                          -0.6289241 ,  0.32215747, -1.0432829 ,  0.11632371,  0.4506331 ,\n",
       "                           0.0509375 ,  0.38505632, -0.6667784 , -0.13194013, -1.2785732 ,\n",
       "                           0.72197884, -0.09697084,  0.9342129 , -0.67767197,  0.18632011,\n",
       "                          -0.08934596, -1.7845433 ,  0.64294225, -1.1644521 , -0.12663674,\n",
       "                          -0.26688197, -0.05677828, -1.0628533 , -0.21526262, -0.2578616 ,\n",
       "                          -0.7110622 ,  0.50279033, -0.514604  ,  0.12086893,  0.35089272,\n",
       "                          -0.66049916, -1.4361138 , -1.1122078 ,  0.46882772, -0.9144436 ,\n",
       "                          -0.8426298 ,  1.1620059 ,  0.39481097,  0.57544273, -0.70998704,\n",
       "                          -0.53243935, -0.35677844, -1.2264221 , -0.14394283,  0.08772089,\n",
       "                          -0.62739587,  0.09252297,  0.08091307,  0.42176718, -1.5688353 ,\n",
       "                           0.28052282,  1.4021689 , -0.418582  , -1.2378123 , -0.63772404,\n",
       "                          -1.6829492 , -0.5607187 , -0.19109422, -0.32515237,  0.06638727,\n",
       "                          -1.018207  ,  0.18481725,  0.05101077,  0.4392    , -0.44936904,\n",
       "                           0.33539256,  0.9888898 , -0.24728917,  0.24530157, -0.9638132 ,\n",
       "                           0.5541397 , -0.05933534,  0.81334394,  0.8045518 , -1.0939546 ,\n",
       "                           0.16061455, -1.1602546 ,  0.07441305,  0.49296308, -0.4459915 ,\n",
       "                          -0.45196247], dtype=float32),\n",
       "              'y': array([ 0.15198742,  2.6540942 , -0.41680276,  0.13469566,  2.8041313 ,\n",
       "                           0.93648994,  0.2868143 ,  1.283305  ,  2.1820004 , -1.1143707 ,\n",
       "                           1.3792886 , -0.05596375,  2.7397888 ,  1.6182909 , -0.7435922 ,\n",
       "                          -0.7480213 ,  1.0733454 ,  0.41388062,  0.43300942,  2.1669476 ,\n",
       "                           0.32908165,  2.2755527 ,  1.5257548 , -0.00722469,  0.3603386 ,\n",
       "                           3.3206244 ,  2.3181376 ,  0.07551353,  1.3156986 , -0.00701772,\n",
       "                           1.1585969 ,  0.55992997,  1.7284548 , -0.5247205 , -0.2540268 ,\n",
       "                           0.77414453, -0.21407077,  0.01959902, -0.8579536 , -0.03941797,\n",
       "                          -1.2363555 ,  0.17199962,  1.9615188 ,  0.54750687,  0.82949805,\n",
       "                           1.8722833 , -0.77875984,  1.6781561 , -0.0672888 ,  1.3132665 ,\n",
       "                           2.025768  ,  0.37159243,  2.6190007 , -1.0288863 ,  2.4144385 ,\n",
       "                           0.22994345,  0.25182036,  0.34342548,  0.42916888,  2.57549   ,\n",
       "                           0.14130849, -0.7734113 ,  1.5412989 ,  0.22372067,  2.011397  ,\n",
       "                           1.5960305 ,  0.8584376 , -0.93966424,  0.91416425,  1.9994497 ,\n",
       "                           3.1546512 , -0.168673  , -1.1875501 ,  0.48051798,  2.0640812 ,\n",
       "                           1.8315033 ,  0.32001877,  1.190098  , -0.38774014,  1.0002457 ,\n",
       "                          -0.49907464,  1.8217787 ,  0.62525934,  0.33616   ,  3.1915505 ,\n",
       "                           2.1575568 ,  1.8472072 , -0.21665625,  0.84072536,  1.1997125 ,\n",
       "                           1.9136795 ], dtype=float32)},\n",
       "             {'hoverinfo': 'text',\n",
       "              'marker': {'color': '#FF6692', 'size': 10},\n",
       "              'mode': 'markers',\n",
       "              'name': '6',\n",
       "              'text': [Label: 6, Pos: (-1.28, 1.32), Label: 6, Pos: (-1.40,\n",
       "                       -0.03), Label: 6, Pos: (-1.65, -0.08), Label: 6, Pos:\n",
       "                       (-1.27, 0.14), Label: 6, Pos: (-1.49, 0.37), Label: 6, Pos:\n",
       "                       (-2.29, -0.31), Label: 6, Pos: (-1.08, 0.98), Label: 6, Pos:\n",
       "                       (-0.39, 0.32), Label: 6, Pos: (-0.92, 1.50), Label: 6, Pos:\n",
       "                       (-0.82, 0.07), Label: 6, Pos: (-0.92, -0.73), Label: 6, Pos:\n",
       "                       (-2.00, 0.03), Label: 6, Pos: (-0.03, -0.76), Label: 6, Pos:\n",
       "                       (-0.60, 0.54), Label: 6, Pos: (-1.69, -1.29), Label: 6, Pos:\n",
       "                       (-2.08, -0.52), Label: 6, Pos: (-1.84, 0.28), Label: 6, Pos:\n",
       "                       (-0.50, -0.41), Label: 6, Pos: (-1.21, -0.43), Label: 6,\n",
       "                       Pos: (0.43, 1.58), Label: 6, Pos: (-1.32, -0.05), Label: 6,\n",
       "                       Pos: (-1.03, -0.38), Label: 6, Pos: (-1.52, -0.26), Label:\n",
       "                       6, Pos: (-1.99, -0.41), Label: 6, Pos: (-0.09, -0.71),\n",
       "                       Label: 6, Pos: (-2.20, -0.17), Label: 6, Pos: (-0.47,\n",
       "                       -1.24), Label: 6, Pos: (0.25, 1.06), Label: 6, Pos: (-0.41,\n",
       "                       0.43), Label: 6, Pos: (-1.38, 0.44), Label: 6, Pos: (-1.50,\n",
       "                       -0.29), Label: 6, Pos: (-1.14, 0.55), Label: 6, Pos: (-0.55,\n",
       "                       -0.32), Label: 6, Pos: (-0.75, -0.06), Label: 6, Pos:\n",
       "                       (-0.65, -0.04), Label: 6, Pos: (-1.47, -0.52), Label: 6,\n",
       "                       Pos: (-0.76, -0.60), Label: 6, Pos: (-0.60, -0.43), Label:\n",
       "                       6, Pos: (-0.97, -0.78), Label: 6, Pos: (-1.33, -0.22),\n",
       "                       Label: 6, Pos: (-1.69, 0.77), Label: 6, Pos: (-0.83, 0.77),\n",
       "                       Label: 6, Pos: (-1.82, -1.00), Label: 6, Pos: (-0.58,\n",
       "                       -0.94), Label: 6, Pos: (0.03, -1.36), Label: 6, Pos: (-0.83,\n",
       "                       0.33), Label: 6, Pos: (-1.53, -0.36), Label: 6, Pos: (-1.51,\n",
       "                       -0.83), Label: 6, Pos: (-0.32, 0.28), Label: 6, Pos: (-0.19,\n",
       "                       1.21), Label: 6, Pos: (-0.65, -1.12), Label: 6, Pos: (-0.98,\n",
       "                       -1.42), Label: 6, Pos: (-1.85, 0.90), Label: 6, Pos: (-0.77,\n",
       "                       0.60), Label: 6, Pos: (-0.33, -1.13), Label: 6, Pos: (-2.65,\n",
       "                       1.06), Label: 6, Pos: (-0.50, 0.87), Label: 6, Pos: (-1.74,\n",
       "                       -0.72), Label: 6, Pos: (-0.90, 1.31), Label: 6, Pos: (-0.69,\n",
       "                       0.09), Label: 6, Pos: (-1.34, -0.79), Label: 6, Pos: (-1.24,\n",
       "                       0.71), Label: 6, Pos: (-2.48, -0.59), Label: 6, Pos: (-1.41,\n",
       "                       0.17), Label: 6, Pos: (-2.54, 0.36), Label: 6, Pos: (-2.04,\n",
       "                       1.30), Label: 6, Pos: (-1.91, 0.30), Label: 6, Pos: (-0.32,\n",
       "                       -0.84), Label: 6, Pos: (-0.70, -0.34), Label: 6, Pos:\n",
       "                       (-1.97, 0.19), Label: 6, Pos: (-1.41, -0.31), Label: 6, Pos:\n",
       "                       (-0.72, -0.07), Label: 6, Pos: (0.31, 0.11), Label: 6, Pos:\n",
       "                       (-2.04, 0.26), Label: 6, Pos: (-0.80, 0.54), Label: 6, Pos:\n",
       "                       (-0.87, -0.68), Label: 6, Pos: (-0.53, 0.22), Label: 6, Pos:\n",
       "                       (-2.07, -0.65), Label: 6, Pos: (-1.18, 0.72), Label: 6, Pos:\n",
       "                       (-1.91, -0.85), Label: 6, Pos: (-1.46, -0.13), Label: 6,\n",
       "                       Pos: (-1.22, -0.18), Label: 6, Pos: (-1.24, -0.08), Label:\n",
       "                       6, Pos: (-0.40, 0.98), Label: 6, Pos: (0.59, -0.01), Label:\n",
       "                       6, Pos: (-1.16, 0.29), Label: 6, Pos: (-1.50, -0.43), Label:\n",
       "                       6, Pos: (-1.58, 0.22), Label: 6, Pos: (-1.81, 0.34), Label:\n",
       "                       6, Pos: (-1.48, -0.74), Label: 6, Pos: (-2.13, -0.62),\n",
       "                       Label: 6, Pos: (-1.49, -0.49), Label: 6, Pos: (-0.53,\n",
       "                       -0.42), Label: 6, Pos: (-1.17, -0.90), Label: 6, Pos:\n",
       "                       (-2.26, 0.04), Label: 6, Pos: (-1.88, -0.41), Label: 6, Pos:\n",
       "                       (-1.53, -0.73), Label: 6, Pos: (-1.83, 1.07), Label: 6, Pos:\n",
       "                       (-1.17, 0.35), Label: 6, Pos: (0.14, -0.12), Label: 6, Pos:\n",
       "                       (-2.29, -0.84), Label: 6, Pos: (-2.19, 0.02), Label: 6, Pos:\n",
       "                       (-1.19, -1.65), Label: 6, Pos: (-1.64, -0.19), Label: 6,\n",
       "                       Pos: (-1.76, 0.53), Label: 6, Pos: (-1.12, 0.66)],\n",
       "              'type': 'scatter',\n",
       "              'uid': 'c8a021bc-05a1-443b-b7b0-3c7f7ab21dc4',\n",
       "              'x': array([-1.2836252 , -1.396995  , -1.6467658 , -1.2722794 , -1.4918561 ,\n",
       "                          -2.2943296 , -1.079931  , -0.39428145, -0.9170566 , -0.81923735,\n",
       "                          -0.9180446 , -2.0046933 , -0.03134952, -0.6008157 , -1.6912057 ,\n",
       "                          -2.0760252 , -1.8377699 , -0.50036407, -1.209103  ,  0.42543736,\n",
       "                          -1.3168896 , -1.0263406 , -1.5173085 , -1.9898    , -0.08875753,\n",
       "                          -2.1977355 , -0.47474277,  0.25062373, -0.40776607, -1.3810698 ,\n",
       "                          -1.496553  , -1.1350358 , -0.5537485 , -0.7515199 , -0.652269  ,\n",
       "                          -1.4742675 , -0.7630712 , -0.6037885 , -0.97118527, -1.3296057 ,\n",
       "                          -1.6903758 , -0.8252484 , -1.821462  , -0.5833082 ,  0.0312342 ,\n",
       "                          -0.83339983, -1.5330367 , -1.505122  , -0.3203751 , -0.18769442,\n",
       "                          -0.64893   , -0.97506726, -1.8484752 , -0.7733219 , -0.33261463,\n",
       "                          -2.6458142 , -0.4999039 , -1.739084  , -0.90200204, -0.68929315,\n",
       "                          -1.3390784 , -1.2355446 , -2.4835443 , -1.4134685 , -2.5393572 ,\n",
       "                          -2.039601  , -1.906011  , -0.3225796 , -0.70344543, -1.9677426 ,\n",
       "                          -1.4065863 , -0.72283983,  0.31305292, -2.0391479 , -0.8011632 ,\n",
       "                          -0.8736927 , -0.52780616, -2.0672596 , -1.1761858 , -1.9053123 ,\n",
       "                          -1.4561323 , -1.2197917 , -1.2388526 , -0.39794594,  0.5863615 ,\n",
       "                          -1.1627238 , -1.5011452 , -1.5839088 , -1.8125417 , -1.4768848 ,\n",
       "                          -2.1309023 , -1.4880072 , -0.53487736, -1.1683779 , -2.2577713 ,\n",
       "                          -1.8816226 , -1.5338769 , -1.8262863 , -1.1725616 ,  0.13698058,\n",
       "                          -2.2923403 , -2.1917274 , -1.1860726 , -1.6425878 , -1.7599168 ,\n",
       "                          -1.1180955 ], dtype=float32),\n",
       "              'y': array([ 1.318424  , -0.03054745, -0.08003897,  0.1414452 ,  0.3743996 ,\n",
       "                          -0.3060516 ,  0.98114955,  0.32049772,  1.5012014 ,  0.06774107,\n",
       "                          -0.73007476,  0.02617792, -0.76477134,  0.5421299 , -1.2889283 ,\n",
       "                          -0.5218268 ,  0.28069386, -0.40930352, -0.43121493,  1.5785838 ,\n",
       "                          -0.04913914, -0.38136896, -0.26066613, -0.40510747, -0.7135772 ,\n",
       "                          -0.17258807, -1.2360959 ,  1.0569718 ,  0.42839727,  0.43627957,\n",
       "                          -0.289672  ,  0.5549251 , -0.32040954, -0.05589065, -0.04031669,\n",
       "                          -0.5152751 , -0.59530836, -0.42654178, -0.78434944, -0.21866888,\n",
       "                           0.7665779 ,  0.76588666, -0.99883395, -0.9406669 , -1.3566111 ,\n",
       "                           0.331     , -0.36397198, -0.83086056,  0.28482467,  1.20724   ,\n",
       "                          -1.1200129 , -1.4214951 ,  0.8970471 ,  0.6032767 , -1.1319301 ,\n",
       "                           1.0579139 ,  0.8730984 , -0.7220078 ,  1.3050308 ,  0.08729458,\n",
       "                          -0.78708243,  0.70593494, -0.5892505 ,  0.1709498 ,  0.36216584,\n",
       "                           1.296392  ,  0.2988531 , -0.84499514, -0.34060875,  0.18854447,\n",
       "                          -0.30619502, -0.0736291 ,  0.1067467 ,  0.26066113,  0.53544754,\n",
       "                          -0.6816549 ,  0.22370172, -0.6536792 ,  0.7234844 , -0.85196346,\n",
       "                          -0.1328792 , -0.17635645, -0.08125492,  0.9787471 , -0.00869507,\n",
       "                           0.2916378 , -0.43320373,  0.21817826,  0.3410569 , -0.7412652 ,\n",
       "                          -0.6246792 , -0.48809323, -0.42355248, -0.90467626,  0.04187561,\n",
       "                          -0.40763927, -0.7335747 ,  1.0673269 ,  0.34904122, -0.11596112,\n",
       "                          -0.83573025,  0.02049619, -1.6518801 , -0.18976675,  0.53026557,\n",
       "                           0.65583545], dtype=float32)},\n",
       "             {'hoverinfo': 'text',\n",
       "              'marker': {'color': '#B6E880', 'size': 10},\n",
       "              'mode': 'markers',\n",
       "              'name': '7',\n",
       "              'text': [Label: 7, Pos: (2.81, 0.22), Label: 7, Pos: (1.12, 0.04),\n",
       "                       Label: 7, Pos: (-0.24, 0.14), Label: 7, Pos: (-0.03, 1.07),\n",
       "                       Label: 7, Pos: (1.76, -0.58), Label: 7, Pos: (1.93, 1.17),\n",
       "                       Label: 7, Pos: (1.19, -1.08), Label: 7, Pos: (0.16, -1.29),\n",
       "                       Label: 7, Pos: (0.77, 0.58), Label: 7, Pos: (1.19, -1.80),\n",
       "                       Label: 7, Pos: (1.83, -1.19), Label: 7, Pos: (2.86, -0.88),\n",
       "                       Label: 7, Pos: (0.71, -1.65), Label: 7, Pos: (1.20, -1.03),\n",
       "                       Label: 7, Pos: (1.19, -0.52), Label: 7, Pos: (0.42, -0.95),\n",
       "                       Label: 7, Pos: (2.60, -1.43), Label: 7, Pos: (1.77, -0.67),\n",
       "                       Label: 7, Pos: (2.23, -1.64), Label: 7, Pos: (2.30, -0.45),\n",
       "                       Label: 7, Pos: (2.30, -0.94), Label: 7, Pos: (1.99, -0.78),\n",
       "                       Label: 7, Pos: (0.61, 1.65), Label: 7, Pos: (2.21, -0.56),\n",
       "                       Label: 7, Pos: (1.02, -0.78), Label: 7, Pos: (0.70, -0.81),\n",
       "                       Label: 7, Pos: (1.67, -0.60), Label: 7, Pos: (1.54, -1.22),\n",
       "                       Label: 7, Pos: (1.57, -0.89), Label: 7, Pos: (0.64, 0.49),\n",
       "                       Label: 7, Pos: (2.72, -0.58), Label: 7, Pos: (2.04, -0.68),\n",
       "                       Label: 7, Pos: (2.33, -1.47), Label: 7, Pos: (1.60, -0.82),\n",
       "                       Label: 7, Pos: (2.79, -0.52), Label: 7, Pos: (2.03, -0.87),\n",
       "                       Label: 7, Pos: (0.99, -0.28), Label: 7, Pos: (2.24, -0.93),\n",
       "                       Label: 7, Pos: (1.40, -0.96), Label: 7, Pos: (2.29, -1.17),\n",
       "                       Label: 7, Pos: (2.86, -0.51), Label: 7, Pos: (1.68, -1.67),\n",
       "                       Label: 7, Pos: (2.23, -1.24), Label: 7, Pos: (2.37, -1.31),\n",
       "                       Label: 7, Pos: (1.69, 0.39), Label: 7, Pos: (2.35, -0.89),\n",
       "                       Label: 7, Pos: (0.89, -0.06), Label: 7, Pos: (1.31, 0.68),\n",
       "                       Label: 7, Pos: (0.39, -1.55), Label: 7, Pos: (1.28, -1.25),\n",
       "                       Label: 7, Pos: (1.52, 0.23), Label: 7, Pos: (2.36, -0.52),\n",
       "                       Label: 7, Pos: (3.10, -0.26), Label: 7, Pos: (1.66, -0.62),\n",
       "                       Label: 7, Pos: (2.74, -0.69), Label: 7, Pos: (2.98, -1.06),\n",
       "                       Label: 7, Pos: (0.35, 0.45), Label: 7, Pos: (2.19, -1.34),\n",
       "                       Label: 7, Pos: (1.73, -0.53), Label: 7, Pos: (2.41, -0.68),\n",
       "                       Label: 7, Pos: (1.74, -1.03), Label: 7, Pos: (3.01, 0.37),\n",
       "                       Label: 7, Pos: (1.38, -0.86), Label: 7, Pos: (0.75, -0.38),\n",
       "                       Label: 7, Pos: (0.91, -0.80), Label: 7, Pos: (1.14, -0.45),\n",
       "                       Label: 7, Pos: (1.73, -1.00), Label: 7, Pos: (1.35, -0.33),\n",
       "                       Label: 7, Pos: (1.20, -1.32), Label: 7, Pos: (1.62, -0.76),\n",
       "                       Label: 7, Pos: (-0.59, -0.74), Label: 7, Pos: (1.28, -0.98),\n",
       "                       Label: 7, Pos: (1.78, -0.78), Label: 7, Pos: (1.20, -1.17),\n",
       "                       Label: 7, Pos: (1.76, -1.39), Label: 7, Pos: (1.00, -1.31),\n",
       "                       Label: 7, Pos: (-0.16, 0.12), Label: 7, Pos: (1.27, -0.86),\n",
       "                       Label: 7, Pos: (2.48, -0.51), Label: 7, Pos: (2.08, -1.10),\n",
       "                       Label: 7, Pos: (1.66, 0.36), Label: 7, Pos: (2.15, -0.33),\n",
       "                       Label: 7, Pos: (2.34, -1.30), Label: 7, Pos: (2.85, -0.76),\n",
       "                       Label: 7, Pos: (0.68, -1.84), Label: 7, Pos: (2.50, -0.93),\n",
       "                       Label: 7, Pos: (-0.07, -1.48), Label: 7, Pos: (1.30, -0.00),\n",
       "                       Label: 7, Pos: (1.40, -1.22), Label: 7, Pos: (0.96, 0.65),\n",
       "                       Label: 7, Pos: (-0.63, -0.54), Label: 7, Pos: (2.58, 0.22),\n",
       "                       Label: 7, Pos: (1.84, -1.27), Label: 7, Pos: (2.17, -0.38),\n",
       "                       Label: 7, Pos: (1.63, -0.78), Label: 7, Pos: (2.90, -0.49),\n",
       "                       Label: 7, Pos: (1.53, 0.63), Label: 7, Pos: (2.28, -0.79),\n",
       "                       Label: 7, Pos: (2.88, -0.15), Label: 7, Pos: (0.53, 0.68),\n",
       "                       Label: 7, Pos: (0.37, 1.41), Label: 7, Pos: (-0.93, -0.81),\n",
       "                       Label: 7, Pos: (2.33, -1.05), Label: 7, Pos: (2.52, -1.17),\n",
       "                       Label: 7, Pos: (1.62, 0.37), Label: 7, Pos: (1.39, -0.78),\n",
       "                       Label: 7, Pos: (0.73, -0.09), Label: 7, Pos: (1.14, -0.89),\n",
       "                       Label: 7, Pos: (2.11, -0.72), Label: 7, Pos: (2.64, -1.09),\n",
       "                       Label: 7, Pos: (2.18, -1.09), Label: 7, Pos: (2.73, -1.06),\n",
       "                       Label: 7, Pos: (0.50, -1.10), Label: 7, Pos: (2.46, -1.12)],\n",
       "              'type': 'scatter',\n",
       "              'uid': '6a4a1a7c-08a1-4421-9a55-58b5b8883d10',\n",
       "              'x': array([ 2.812733  ,  1.1211939 , -0.23755252, -0.03414926,  1.7620386 ,\n",
       "                           1.9288644 ,  1.1875374 ,  0.16290587,  0.7651306 ,  1.191409  ,\n",
       "                           1.8311963 ,  2.859717  ,  0.70988476,  1.1956817 ,  1.1941903 ,\n",
       "                           0.41552562,  2.597812  ,  1.7708774 ,  2.233995  ,  2.298731  ,\n",
       "                           2.3046894 ,  1.989844  ,  0.60545576,  2.2139418 ,  1.0240489 ,\n",
       "                           0.6964093 ,  1.6725298 ,  1.5353931 ,  1.574686  ,  0.63706106,\n",
       "                           2.7168715 ,  2.0384884 ,  2.3251383 ,  1.6008682 ,  2.7864873 ,\n",
       "                           2.0325387 ,  0.9918242 ,  2.2419765 ,  1.3965049 ,  2.2921917 ,\n",
       "                           2.8609505 ,  1.677638  ,  2.2349167 ,  2.367963  ,  1.691641  ,\n",
       "                           2.3497725 ,  0.8923514 ,  1.3074225 ,  0.3895004 ,  1.2765832 ,\n",
       "                           1.5217184 ,  2.359446  ,  3.095587  ,  1.660317  ,  2.7399461 ,\n",
       "                           2.9845252 ,  0.35186952,  2.1875205 ,  1.7344656 ,  2.40726   ,\n",
       "                           1.7391701 ,  3.014758  ,  1.3847986 ,  0.75118697,  0.90768045,\n",
       "                           1.1437501 ,  1.7294594 ,  1.3453153 ,  1.2002217 ,  1.6161977 ,\n",
       "                          -0.5873666 ,  1.2753832 ,  1.7774836 ,  1.195333  ,  1.7550954 ,\n",
       "                           1.004915  , -0.15926147,  1.2676715 ,  2.4792292 ,  2.0831218 ,\n",
       "                           1.6589476 ,  2.1518095 ,  2.3371732 ,  2.8457127 ,  0.6842628 ,\n",
       "                           2.499113  , -0.07002892,  1.2957126 ,  1.4019507 ,  0.95836085,\n",
       "                          -0.629362  ,  2.5833225 ,  1.8417362 ,  2.1747317 ,  1.6331557 ,\n",
       "                           2.8983896 ,  1.532818  ,  2.279695  ,  2.883998  ,  0.52963144,\n",
       "                           0.3682658 , -0.92920685,  2.333611  ,  2.5237446 ,  1.6211437 ,\n",
       "                           1.3876283 ,  0.7256883 ,  1.1408795 ,  2.111162  ,  2.6366382 ,\n",
       "                           2.179704  ,  2.7270615 ,  0.49553317,  2.456617  ], dtype=float32),\n",
       "              'y': array([ 0.22053678,  0.04039609,  0.14154707,  1.0703055 , -0.57966566,\n",
       "                           1.1724272 , -1.075817  , -1.2879052 ,  0.5826321 , -1.8027577 ,\n",
       "                          -1.1916827 , -0.8783813 , -1.6489611 , -1.0285014 , -0.51566666,\n",
       "                          -0.9472064 , -1.4281747 , -0.6686678 , -1.6352323 , -0.44686016,\n",
       "                          -0.9447692 , -0.77968854,  1.645467  , -0.5618377 , -0.7796213 ,\n",
       "                          -0.8053651 , -0.59979516, -1.2171786 , -0.8905773 ,  0.48930317,\n",
       "                          -0.5780648 , -0.68452317, -1.4707226 , -0.82068145, -0.5224026 ,\n",
       "                          -0.8727863 , -0.27751604, -0.92819166, -0.95899135, -1.1687372 ,\n",
       "                          -0.50704837, -1.674293  , -1.2447065 , -1.3117114 ,  0.39231467,\n",
       "                          -0.89333856, -0.05707134,  0.6794618 , -1.5536021 , -1.2476937 ,\n",
       "                           0.23047777, -0.5150342 , -0.25831148, -0.6209989 , -0.6911146 ,\n",
       "                          -1.0574116 ,  0.44842628, -1.3396646 , -0.52798855, -0.6796314 ,\n",
       "                          -1.0287797 ,  0.36707947, -0.8630843 , -0.3823963 , -0.7977303 ,\n",
       "                          -0.45027074, -0.9964925 , -0.33483273, -1.3216519 , -0.76057863,\n",
       "                          -0.7364658 , -0.97991407, -0.7768324 , -1.1709433 , -1.3938507 ,\n",
       "                          -1.3148247 ,  0.11622094, -0.85555583, -0.5095554 , -1.0999738 ,\n",
       "                           0.36336744, -0.32708138, -1.2981175 , -0.7604719 , -1.8445001 ,\n",
       "                          -0.9344194 , -1.4753768 , -0.00435068, -1.2240776 ,  0.65345013,\n",
       "                          -0.5411762 ,  0.21922469, -1.2736897 , -0.3836393 , -0.7767448 ,\n",
       "                          -0.4899264 ,  0.6304758 , -0.7897359 , -0.15254708,  0.6823863 ,\n",
       "                           1.4080479 , -0.81346124, -1.0536801 , -1.165176  ,  0.36717895,\n",
       "                          -0.7848998 , -0.08865023, -0.8944544 , -0.7198413 , -1.092754  ,\n",
       "                          -1.0866927 , -1.0565556 , -1.1013118 , -1.1228834 ], dtype=float32)},\n",
       "             {'hoverinfo': 'text',\n",
       "              'marker': {'color': '#FF97FF', 'size': 10},\n",
       "              'mode': 'markers',\n",
       "              'name': '8',\n",
       "              'text': [Label: 8, Pos: (-0.79, 1.89), Label: 8, Pos: (1.89, 0.03),\n",
       "                       Label: 8, Pos: (0.82, -0.51), Label: 8, Pos: (-0.25, -0.05),\n",
       "                       Label: 8, Pos: (0.02, 0.70), Label: 8, Pos: (1.16, 0.35),\n",
       "                       Label: 8, Pos: (0.23, -1.06), Label: 8, Pos: (1.12, 0.50),\n",
       "                       Label: 8, Pos: (-2.36, 1.29), Label: 8, Pos: (0.98, -0.52),\n",
       "                       Label: 8, Pos: (0.02, 0.53), Label: 8, Pos: (0.96, -0.01),\n",
       "                       Label: 8, Pos: (0.70, -0.33), Label: 8, Pos: (1.86, -0.64),\n",
       "                       Label: 8, Pos: (-0.55, 0.36), Label: 8, Pos: (-0.18, -1.19),\n",
       "                       Label: 8, Pos: (-0.99, 0.91), Label: 8, Pos: (0.34, 0.10),\n",
       "                       Label: 8, Pos: (-0.38, -0.79), Label: 8, Pos: (0.51, -0.22),\n",
       "                       Label: 8, Pos: (0.12, -0.11), Label: 8, Pos: (-0.84, 1.64),\n",
       "                       Label: 8, Pos: (-1.41, 0.69), Label: 8, Pos: (0.82, -0.62),\n",
       "                       Label: 8, Pos: (0.43, 1.26), Label: 8, Pos: (0.67, 0.07),\n",
       "                       Label: 8, Pos: (-0.94, 0.32), Label: 8, Pos: (-0.61, 0.86),\n",
       "                       Label: 8, Pos: (0.71, 0.12), Label: 8, Pos: (0.88, -0.77),\n",
       "                       Label: 8, Pos: (0.76, 0.65), Label: 8, Pos: (1.34, -0.05),\n",
       "                       Label: 8, Pos: (0.60, 0.11), Label: 8, Pos: (-0.59, 0.75),\n",
       "                       Label: 8, Pos: (0.28, -1.25), Label: 8, Pos: (1.54, -0.28),\n",
       "                       Label: 8, Pos: (0.11, 0.52), Label: 8, Pos: (1.58, -1.75),\n",
       "                       Label: 8, Pos: (0.78, 0.12), Label: 8, Pos: (-1.56, 0.62),\n",
       "                       Label: 8, Pos: (0.14, -0.05), Label: 8, Pos: (1.17, -0.28),\n",
       "                       Label: 8, Pos: (-1.23, 1.07), Label: 8, Pos: (0.05, 0.99),\n",
       "                       Label: 8, Pos: (0.47, 0.04), Label: 8, Pos: (-0.42, 0.05),\n",
       "                       Label: 8, Pos: (0.79, -1.12), Label: 8, Pos: (0.49, -0.35),\n",
       "                       Label: 8, Pos: (-0.54, -0.78), Label: 8, Pos: (1.12, -0.26),\n",
       "                       Label: 8, Pos: (-0.99, -0.00), Label: 8, Pos: (1.51, 0.59),\n",
       "                       Label: 8, Pos: (-1.96, 0.29), Label: 8, Pos: (0.74, -0.21),\n",
       "                       Label: 8, Pos: (1.52, 0.80), Label: 8, Pos: (0.52, -0.32),\n",
       "                       Label: 8, Pos: (0.39, 1.14), Label: 8, Pos: (0.79, 0.65),\n",
       "                       Label: 8, Pos: (1.21, 0.42), Label: 8, Pos: (-0.08, 1.00),\n",
       "                       Label: 8, Pos: (-0.61, 0.87), Label: 8, Pos: (1.62, 0.13),\n",
       "                       Label: 8, Pos: (-0.96, 1.30), Label: 8, Pos: (1.61, -0.63),\n",
       "                       Label: 8, Pos: (1.42, 0.26), Label: 8, Pos: (-0.36, 1.25),\n",
       "                       Label: 8, Pos: (-0.06, -0.91), Label: 8, Pos: (-2.09, 0.38),\n",
       "                       Label: 8, Pos: (0.82, 1.69), Label: 8, Pos: (-0.48, 0.40),\n",
       "                       Label: 8, Pos: (-1.77, 0.51), Label: 8, Pos: (1.91, -0.21),\n",
       "                       Label: 8, Pos: (1.21, -0.42), Label: 8, Pos: (-0.90, 0.24),\n",
       "                       Label: 8, Pos: (-1.74, 0.89), Label: 8, Pos: (-0.83, -0.53),\n",
       "                       Label: 8, Pos: (1.38, -0.09), Label: 8, Pos: (0.85, -0.22),\n",
       "                       Label: 8, Pos: (-0.25, -0.60), Label: 8, Pos: (-0.00, 0.76),\n",
       "                       Label: 8, Pos: (0.25, -0.63), Label: 8, Pos: (-0.40, 0.65),\n",
       "                       Label: 8, Pos: (0.78, -0.89), Label: 8, Pos: (0.81, -0.69),\n",
       "                       Label: 8, Pos: (-1.41, 0.60), Label: 8, Pos: (-1.34, 0.25),\n",
       "                       Label: 8, Pos: (-1.88, 0.60), Label: 8, Pos: (0.60, -0.22),\n",
       "                       Label: 8, Pos: (-0.97, 0.20), Label: 8, Pos: (0.67, 0.60),\n",
       "                       Label: 8, Pos: (0.35, 0.79), Label: 8, Pos: (-2.27, 1.93),\n",
       "                       Label: 8, Pos: (-1.40, 0.93), Label: 8, Pos: (0.37, -0.57),\n",
       "                       Label: 8, Pos: (1.00, -0.88), Label: 8, Pos: (1.73, -0.61)],\n",
       "              'type': 'scatter',\n",
       "              'uid': '2581deb2-1fb6-44d9-92db-32a32481e38e',\n",
       "              'x': array([-0.78539795,  1.8859699 ,  0.8185211 , -0.25034732,  0.02148331,\n",
       "                           1.1646318 ,  0.23336102,  1.1198223 , -2.3563223 ,  0.9815187 ,\n",
       "                           0.01516245,  0.95613587,  0.7027953 ,  1.8619784 , -0.55413765,\n",
       "                          -0.18396445, -0.9873554 ,  0.34048572, -0.3825586 ,  0.5125724 ,\n",
       "                           0.1227124 , -0.84342736, -1.4112244 ,  0.81783134,  0.4252133 ,\n",
       "                           0.66661894, -0.94153917, -0.6131992 ,  0.7095326 ,  0.881004  ,\n",
       "                           0.7562567 ,  1.3420998 ,  0.601777  , -0.59368414,  0.28282186,\n",
       "                           1.5363251 ,  0.11015986,  1.5809556 ,  0.78317887, -1.558016  ,\n",
       "                           0.13994505,  1.1719942 , -1.233489  ,  0.05245458,  0.46987954,\n",
       "                          -0.42247778,  0.791069  ,  0.48759875, -0.5448086 ,  1.1154122 ,\n",
       "                          -0.9909767 ,  1.512376  , -1.9567195 ,  0.7410558 ,  1.5150638 ,\n",
       "                           0.52205217,  0.3860436 ,  0.7879748 ,  1.2069457 , -0.08196083,\n",
       "                          -0.6066227 ,  1.6243773 , -0.95620185,  1.6114273 ,  1.4246575 ,\n",
       "                          -0.36467043, -0.06369755, -2.0885894 ,  0.8151217 , -0.48107615,\n",
       "                          -1.7717083 ,  1.9125197 ,  1.2089201 , -0.89690256, -1.7383167 ,\n",
       "                          -0.8349436 ,  1.3830965 ,  0.8463938 , -0.25377464, -0.00359311,\n",
       "                           0.24965417, -0.4035075 ,  0.7820898 ,  0.8101742 , -1.4081357 ,\n",
       "                          -1.3395131 , -1.877578  ,  0.59729713, -0.96744883,  0.66846085,\n",
       "                           0.3529172 , -2.267331  , -1.4041522 ,  0.36841875,  1.0018942 ,\n",
       "                           1.7323755 ], dtype=float32),\n",
       "              'y': array([ 1.8874356 ,  0.03153045, -0.5143106 , -0.04947609,  0.700322  ,\n",
       "                           0.35059506, -1.0637038 ,  0.49723086,  1.2855814 , -0.52365035,\n",
       "                           0.5250641 , -0.00555305, -0.32698694, -0.6390453 ,  0.35986766,\n",
       "                          -1.1911874 ,  0.90566516,  0.10162997, -0.79010624, -0.21922885,\n",
       "                          -0.11304537,  1.6372677 ,  0.691283  , -0.6151082 ,  1.2644354 ,\n",
       "                           0.0713453 ,  0.32491207,  0.86293125,  0.11580417, -0.76925546,\n",
       "                           0.6530424 , -0.04762486,  0.10765752,  0.74849594, -1.2474341 ,\n",
       "                          -0.27763292,  0.5158151 , -1.748253  ,  0.12150935,  0.61595   ,\n",
       "                          -0.04648381, -0.28472355,  1.072071  ,  0.9875294 ,  0.04137998,\n",
       "                           0.05113286, -1.1153672 , -0.3456226 , -0.7809639 , -0.25692207,\n",
       "                          -0.00266473,  0.5937639 ,  0.2882741 , -0.20672229,  0.7954802 ,\n",
       "                          -0.31851703,  1.1397974 ,  0.65028936,  0.42229587,  0.99722105,\n",
       "                           0.8720909 ,  0.13328679,  1.2971789 , -0.6274644 ,  0.25929576,\n",
       "                           1.2486671 , -0.90952754,  0.37567228,  1.6891451 ,  0.3974692 ,\n",
       "                           0.50913686, -0.20651989, -0.41598365,  0.24003202,  0.8913418 ,\n",
       "                          -0.53221625, -0.0915405 , -0.21720369, -0.5991647 ,  0.763762  ,\n",
       "                          -0.62548774,  0.6544695 , -0.8931553 , -0.6896592 ,  0.59648687,\n",
       "                           0.25402758,  0.5959688 , -0.22450969,  0.19725852,  0.6022824 ,\n",
       "                           0.78794533,  1.9307164 ,  0.9275564 , -0.5662973 , -0.8771017 ,\n",
       "                          -0.61105824], dtype=float32)},\n",
       "             {'hoverinfo': 'text',\n",
       "              'marker': {'color': '#FECB52', 'size': 10},\n",
       "              'mode': 'markers',\n",
       "              'name': '9',\n",
       "              'text': [Label: 9, Pos: (1.43, -0.90), Label: 9, Pos: (1.20, -0.67),\n",
       "                       Label: 9, Pos: (1.73, 0.10), Label: 9, Pos: (-0.79, -1.73),\n",
       "                       Label: 9, Pos: (1.53, -0.58), Label: 9, Pos: (0.99, -0.64),\n",
       "                       Label: 9, Pos: (0.40, -0.53), Label: 9, Pos: (1.95, -1.41),\n",
       "                       Label: 9, Pos: (2.12, -1.22), Label: 9, Pos: (1.76, -0.94),\n",
       "                       Label: 9, Pos: (1.28, -0.90), Label: 9, Pos: (1.81, -0.54),\n",
       "                       Label: 9, Pos: (1.73, -0.71), Label: 9, Pos: (2.09, 0.43),\n",
       "                       Label: 9, Pos: (0.97, -1.92), Label: 9, Pos: (1.58, -1.77),\n",
       "                       Label: 9, Pos: (0.23, -0.74), Label: 9, Pos: (-0.34, 0.71),\n",
       "                       Label: 9, Pos: (0.40, -1.92), Label: 9, Pos: (1.75, -1.08),\n",
       "                       Label: 9, Pos: (-0.44, 0.51), Label: 9, Pos: (-0.03, 0.55),\n",
       "                       Label: 9, Pos: (1.67, 0.01), Label: 9, Pos: (-0.95, 0.83),\n",
       "                       Label: 9, Pos: (0.06, 0.46), Label: 9, Pos: (0.84, -0.52),\n",
       "                       Label: 9, Pos: (1.18, 0.25), Label: 9, Pos: (2.38, -1.16),\n",
       "                       Label: 9, Pos: (1.88, -0.49), Label: 9, Pos: (1.18, -0.38),\n",
       "                       Label: 9, Pos: (2.59, -0.00), Label: 9, Pos: (-0.31, 0.69),\n",
       "                       Label: 9, Pos: (0.69, 0.48), Label: 9, Pos: (-1.88, 1.13),\n",
       "                       Label: 9, Pos: (0.34, -1.38), Label: 9, Pos: (1.58, -0.68),\n",
       "                       Label: 9, Pos: (-0.30, -1.53), Label: 9, Pos: (-0.69, 1.59),\n",
       "                       Label: 9, Pos: (0.67, -0.69), Label: 9, Pos: (1.44, -0.87),\n",
       "                       Label: 9, Pos: (0.61, -1.17), Label: 9, Pos: (0.93, -1.63),\n",
       "                       Label: 9, Pos: (0.80, -1.48), Label: 9, Pos: (2.32, -0.51),\n",
       "                       Label: 9, Pos: (-0.37, -1.52), Label: 9, Pos: (0.89, -1.00),\n",
       "                       Label: 9, Pos: (0.87, -1.34), Label: 9, Pos: (0.84, 0.23),\n",
       "                       Label: 9, Pos: (1.27, -1.43), Label: 9, Pos: (-0.09, -0.52),\n",
       "                       Label: 9, Pos: (-0.81, 1.00), Label: 9, Pos: (0.87, 0.26),\n",
       "                       Label: 9, Pos: (0.90, -1.55), Label: 9, Pos: (0.38, 0.42),\n",
       "                       Label: 9, Pos: (1.57, -0.58), Label: 9, Pos: (1.03, -0.70),\n",
       "                       Label: 9, Pos: (1.68, -0.08), Label: 9, Pos: (1.77, -1.18),\n",
       "                       Label: 9, Pos: (1.08, -0.60), Label: 9, Pos: (1.43, 0.16),\n",
       "                       Label: 9, Pos: (0.49, 0.84), Label: 9, Pos: (1.75, -0.40),\n",
       "                       Label: 9, Pos: (0.78, -1.48), Label: 9, Pos: (-0.17, 0.11),\n",
       "                       Label: 9, Pos: (1.19, -1.15), Label: 9, Pos: (1.42, -0.90),\n",
       "                       Label: 9, Pos: (0.91, -0.23), Label: 9, Pos: (-0.21, 1.03),\n",
       "                       Label: 9, Pos: (-0.51, -0.52), Label: 9, Pos: (2.69, -0.80),\n",
       "                       Label: 9, Pos: (1.31, -0.01), Label: 9, Pos: (0.00, 0.32),\n",
       "                       Label: 9, Pos: (0.57, 0.13), Label: 9, Pos: (-0.66, -0.34),\n",
       "                       Label: 9, Pos: (0.26, 0.18), Label: 9, Pos: (0.93, -0.92),\n",
       "                       Label: 9, Pos: (-0.47, 0.25), Label: 9, Pos: (1.87, -0.62),\n",
       "                       Label: 9, Pos: (0.00, 0.20), Label: 9, Pos: (1.70, -0.80),\n",
       "                       Label: 9, Pos: (1.48, -0.85), Label: 9, Pos: (-0.64, 0.51),\n",
       "                       Label: 9, Pos: (1.65, -0.98), Label: 9, Pos: (1.31, -1.21),\n",
       "                       Label: 9, Pos: (1.66, -1.03), Label: 9, Pos: (2.42, -1.18),\n",
       "                       Label: 9, Pos: (0.93, -0.21), Label: 9, Pos: (0.82, 0.05),\n",
       "                       Label: 9, Pos: (-1.45, 0.29), Label: 9, Pos: (0.58, -0.90)],\n",
       "              'type': 'scatter',\n",
       "              'uid': '669df156-2ad3-4e05-bb89-f0a56d1c056f',\n",
       "              'x': array([ 1.4309205e+00,  1.1970348e+00,  1.7266935e+00, -7.9164380e-01,\n",
       "                           1.5259674e+00,  9.8933291e-01,  3.9955038e-01,  1.9499792e+00,\n",
       "                           2.1203151e+00,  1.7593013e+00,  1.2814072e+00,  1.8090696e+00,\n",
       "                           1.7318422e+00,  2.0865116e+00,  9.6715158e-01,  1.5820755e+00,\n",
       "                           2.3391847e-01, -3.4204057e-01,  4.0270019e-01,  1.7489034e+00,\n",
       "                          -4.3726301e-01, -2.5369670e-02,  1.6658279e+00, -9.4911718e-01,\n",
       "                           6.3840292e-02,  8.3574414e-01,  1.1811618e+00,  2.3814740e+00,\n",
       "                           1.8822720e+00,  1.1824043e+00,  2.5915172e+00, -3.0813146e-01,\n",
       "                           6.8998826e-01, -1.8826118e+00,  3.3845201e-01,  1.5845493e+00,\n",
       "                          -2.9602563e-01, -6.9065309e-01,  6.6525292e-01,  1.4395431e+00,\n",
       "                           6.1168832e-01,  9.2719400e-01,  8.0171531e-01,  2.3169713e+00,\n",
       "                          -3.7455350e-01,  8.9385164e-01,  8.7245643e-01,  8.4352082e-01,\n",
       "                           1.2652966e+00, -9.4626613e-02, -8.1089056e-01,  8.7293327e-01,\n",
       "                           8.9845598e-01,  3.8065311e-01,  1.5688424e+00,  1.0290401e+00,\n",
       "                           1.6798096e+00,  1.7740785e+00,  1.0796056e+00,  1.4318044e+00,\n",
       "                           4.8822331e-01,  1.7543285e+00,  7.8213120e-01, -1.7204253e-01,\n",
       "                           1.1870291e+00,  1.4215624e+00,  9.1457158e-01, -2.1170308e-01,\n",
       "                          -5.1280916e-01,  2.6853089e+00,  1.3060689e+00,  1.3208098e-03,\n",
       "                           5.6613827e-01, -6.5832496e-01,  2.5558805e-01,  9.3485314e-01,\n",
       "                          -4.7266757e-01,  1.8706615e+00,  1.7195132e-03,  1.7011334e+00,\n",
       "                           1.4833679e+00, -6.4340419e-01,  1.6502019e+00,  1.3149798e+00,\n",
       "                           1.6643670e+00,  2.4169438e+00,  9.3286222e-01,  8.2281917e-01,\n",
       "                          -1.4486053e+00,  5.7850015e-01], dtype=float32),\n",
       "              'y': array([-0.9031321 , -0.67236584,  0.10198281, -1.7297311 , -0.5757361 ,\n",
       "                          -0.63660085, -0.53192633, -1.4120625 , -1.2230937 , -0.9424387 ,\n",
       "                          -0.9032275 , -0.5382918 , -0.70639026,  0.43268037, -1.9190865 ,\n",
       "                          -1.7707505 , -0.7352425 ,  0.70631546, -1.9182785 , -1.0757887 ,\n",
       "                           0.50609493,  0.5475955 ,  0.00854631,  0.8285621 ,  0.4568467 ,\n",
       "                          -0.5157595 ,  0.25014758, -1.1550543 , -0.4864623 , -0.37792477,\n",
       "                          -0.00313163,  0.6921422 ,  0.48165652,  1.1280637 , -1.3750885 ,\n",
       "                          -0.6843027 , -1.5347068 ,  1.5873777 , -0.69146365, -0.8698652 ,\n",
       "                          -1.1723647 , -1.6324    , -1.4835572 , -0.5106845 , -1.5242534 ,\n",
       "                          -0.99953675, -1.3390554 ,  0.23398922, -1.4293807 , -0.5175019 ,\n",
       "                           0.996816  ,  0.26015568, -1.5513796 ,  0.41838568, -0.5838086 ,\n",
       "                          -0.7045443 , -0.0758091 , -1.1846217 , -0.60319483,  0.15755498,\n",
       "                           0.83912915, -0.40322083, -1.4806323 ,  0.10768896, -1.1473022 ,\n",
       "                          -0.89611113, -0.22946206,  1.033052  , -0.52141345, -0.8047784 ,\n",
       "                          -0.01068651,  0.31974193,  0.13401623, -0.33705696,  0.17550145,\n",
       "                          -0.9180574 ,  0.25452894, -0.61788565,  0.19874161, -0.8038944 ,\n",
       "                          -0.8454618 ,  0.5133746 , -0.9813857 , -1.2132434 , -1.0290821 ,\n",
       "                          -1.182842  , -0.20866568,  0.049742  ,  0.2871115 , -0.89768916],\n",
       "                         dtype=float32)}],\n",
       "    'layout': {'height': 600,\n",
       "               'legend': {'title': {'text': 'Digit Label'}},\n",
       "               'template': '...',\n",
       "               'title': {'text': 'Best Standard VAE Latent Space Visualization of MNIST Training Dataset'},\n",
       "               'width': 800,\n",
       "               'xaxis': {'title': {'text': 'Principal Component 1'}},\n",
       "               'yaxis': {'title': {'text': 'Principal Component 2'}}}\n",
       "})"
      ]
     },
     "metadata": {},
     "output_type": "display_data"
    }
   ],
   "source": [
    "plot_latent_space_interactive(best_Standard_VAE, trainloader, DEVICE, 'Best Standard VAE' ,'Training')\n",
    "# plot_latent_space_interactive(best_Standard_VAE, validiationloader, DEVICE, 'Best Standard VAE' ,'Validation')"
   ]
  },
  {
   "cell_type": "code",
   "execution_count": 133,
   "metadata": {
    "editable": true,
    "slideshow": {
     "slide_type": ""
    },
    "tags": []
   },
   "outputs": [
    {
     "data": {
      "application/vnd.jupyter.widget-view+json": {
       "model_id": "e77dcece350646da91439e841072a259",
       "version_major": 2,
       "version_minor": 0
      },
      "text/plain": [
       "FigureWidget({\n",
       "    'data': [{'hoverinfo': 'text',\n",
       "              'marker': {'color': '#636EFA', 'size': 10},\n",
       "              'mode': 'markers',\n",
       "              'name': '0',\n",
       "              'text': [Label: 0, Pos: (1.20, 1.40), Label: 0, Pos: (2.46, -0.31),\n",
       "                       Label: 0, Pos: (3.13, -0.43), Label: 0, Pos: (1.49, 0.10),\n",
       "                       Label: 0, Pos: (2.61, 0.70), Label: 0, Pos: (-0.55, 1.71),\n",
       "                       Label: 0, Pos: (2.96, 1.52), Label: 0, Pos: (2.12, 0.97),\n",
       "                       Label: 0, Pos: (1.58, 1.42), Label: 0, Pos: (3.39, -1.11),\n",
       "                       Label: 0, Pos: (0.52, -0.02), Label: 0, Pos: (1.20, 0.16),\n",
       "                       Label: 0, Pos: (0.20, 2.93), Label: 0, Pos: (1.97, 1.74),\n",
       "                       Label: 0, Pos: (2.61, -0.48), Label: 0, Pos: (1.47, 1.56),\n",
       "                       Label: 0, Pos: (1.85, 2.40), Label: 0, Pos: (2.86, -0.26),\n",
       "                       Label: 0, Pos: (2.27, -0.05), Label: 0, Pos: (1.04, 0.17),\n",
       "                       Label: 0, Pos: (2.65, -1.53), Label: 0, Pos: (1.48, -0.01),\n",
       "                       Label: 0, Pos: (0.79, 1.80), Label: 0, Pos: (1.73, -0.28),\n",
       "                       Label: 0, Pos: (2.48, -0.20), Label: 0, Pos: (1.43, 2.59),\n",
       "                       Label: 0, Pos: (3.84, 0.61), Label: 0, Pos: (2.79, 1.13),\n",
       "                       Label: 0, Pos: (2.09, -0.58), Label: 0, Pos: (1.34, 0.84),\n",
       "                       Label: 0, Pos: (2.18, 1.97), Label: 0, Pos: (1.55, 1.24),\n",
       "                       Label: 0, Pos: (3.23, -0.28), Label: 0, Pos: (0.96, 1.56),\n",
       "                       Label: 0, Pos: (1.15, -0.36), Label: 0, Pos: (2.91, -0.10),\n",
       "                       Label: 0, Pos: (3.41, 0.29), Label: 0, Pos: (1.33, 0.94),\n",
       "                       Label: 0, Pos: (2.13, 0.49), Label: 0, Pos: (2.10, 0.66),\n",
       "                       Label: 0, Pos: (1.66, 0.19), Label: 0, Pos: (0.94, 1.30),\n",
       "                       Label: 0, Pos: (2.36, -0.47), Label: 0, Pos: (1.40, 1.30),\n",
       "                       Label: 0, Pos: (0.78, -0.22), Label: 0, Pos: (1.22, 1.57),\n",
       "                       Label: 0, Pos: (3.11, 0.99), Label: 0, Pos: (2.46, 0.47),\n",
       "                       Label: 0, Pos: (1.13, 2.70), Label: 0, Pos: (2.17, 2.10),\n",
       "                       Label: 0, Pos: (1.23, 0.39), Label: 0, Pos: (0.95, 1.03),\n",
       "                       Label: 0, Pos: (0.92, 2.35), Label: 0, Pos: (2.55, 0.74),\n",
       "                       Label: 0, Pos: (3.31, 0.89), Label: 0, Pos: (1.45, -0.22),\n",
       "                       Label: 0, Pos: (1.00, 0.71), Label: 0, Pos: (2.50, 0.31),\n",
       "                       Label: 0, Pos: (0.52, 0.08), Label: 0, Pos: (2.29, 1.07),\n",
       "                       Label: 0, Pos: (2.82, 0.26), Label: 0, Pos: (2.65, 0.55),\n",
       "                       Label: 0, Pos: (1.96, 2.26), Label: 0, Pos: (1.00, 2.23),\n",
       "                       Label: 0, Pos: (3.10, 0.81), Label: 0, Pos: (2.13, 1.39),\n",
       "                       Label: 0, Pos: (2.00, 0.07), Label: 0, Pos: (1.96, -0.34),\n",
       "                       Label: 0, Pos: (1.53, 1.84), Label: 0, Pos: (2.28, -0.12),\n",
       "                       Label: 0, Pos: (1.96, 0.63), Label: 0, Pos: (2.28, 0.59),\n",
       "                       Label: 0, Pos: (1.45, -0.41), Label: 0, Pos: (1.77, 2.11),\n",
       "                       Label: 0, Pos: (0.93, 2.46), Label: 0, Pos: (0.19, 1.49),\n",
       "                       Label: 0, Pos: (1.44, 1.09), Label: 0, Pos: (-0.69, 0.94),\n",
       "                       Label: 0, Pos: (1.28, 1.59), Label: 0, Pos: (0.98, 0.61),\n",
       "                       Label: 0, Pos: (2.71, 1.07), Label: 0, Pos: (2.77, -0.29),\n",
       "                       Label: 0, Pos: (3.12, 1.03), Label: 0, Pos: (0.23, 1.75),\n",
       "                       Label: 0, Pos: (2.97, 0.39), Label: 0, Pos: (2.04, -0.75),\n",
       "                       Label: 0, Pos: (2.65, -0.44), Label: 0, Pos: (1.53, 0.62),\n",
       "                       Label: 0, Pos: (2.09, 0.25), Label: 0, Pos: (2.20, -0.95),\n",
       "                       Label: 0, Pos: (0.16, 3.38), Label: 0, Pos: (1.96, 0.82),\n",
       "                       Label: 0, Pos: (0.07, 0.94), Label: 0, Pos: (3.07, 0.10),\n",
       "                       Label: 0, Pos: (0.97, 0.63), Label: 0, Pos: (2.90, -0.06),\n",
       "                       Label: 0, Pos: (0.66, -1.05), Label: 0, Pos: (2.53, -0.19),\n",
       "                       Label: 0, Pos: (0.03, 1.18), Label: 0, Pos: (0.60, -0.66),\n",
       "                       Label: 0, Pos: (2.40, -0.06)],\n",
       "              'type': 'scatter',\n",
       "              'uid': '5b0710e3-99a3-43e0-8b4f-5d728660b608',\n",
       "              'x': array([ 1.2018996 ,  2.4649744 ,  3.1292574 ,  1.4870087 ,  2.6087232 ,\n",
       "                          -0.54886746,  2.962491  ,  2.1246624 ,  1.5824605 ,  3.387237  ,\n",
       "                           0.5227121 ,  1.1970168 ,  0.19853589,  1.9681917 ,  2.6066403 ,\n",
       "                           1.4676425 ,  1.8450704 ,  2.8637476 ,  2.2735283 ,  1.0428356 ,\n",
       "                           2.6471138 ,  1.4779564 ,  0.7895765 ,  1.7298639 ,  2.475398  ,\n",
       "                           1.4256941 ,  3.8417866 ,  2.792114  ,  2.0911534 ,  1.3419843 ,\n",
       "                           2.1789362 ,  1.5482029 ,  3.2306461 ,  0.9627204 ,  1.146954  ,\n",
       "                           2.908836  ,  3.4139583 ,  1.3320146 ,  2.1298318 ,  2.096909  ,\n",
       "                           1.6620166 ,  0.9420234 ,  2.3629563 ,  1.4044762 ,  0.7817622 ,\n",
       "                           1.2217157 ,  3.1059744 ,  2.4599285 ,  1.1269283 ,  2.1657753 ,\n",
       "                           1.2274084 ,  0.95299304,  0.9153058 ,  2.5453632 ,  3.308507  ,\n",
       "                           1.4462048 ,  0.9964589 ,  2.5022855 ,  0.5164901 ,  2.2851264 ,\n",
       "                           2.8229935 ,  2.653797  ,  1.9556996 ,  1.0045352 ,  3.1010103 ,\n",
       "                           2.1285002 ,  2.0022528 ,  1.9558384 ,  1.5255275 ,  2.2794125 ,\n",
       "                           1.9552721 ,  2.2754817 ,  1.4547497 ,  1.766169  ,  0.9253961 ,\n",
       "                           0.19422945,  1.4362477 , -0.6943697 ,  1.2751601 ,  0.98369133,\n",
       "                           2.7118263 ,  2.7724917 ,  3.1237893 ,  0.2264033 ,  2.973251  ,\n",
       "                           2.042803  ,  2.6504786 ,  1.532657  ,  2.093905  ,  2.2003536 ,\n",
       "                           0.1561377 ,  1.9646391 ,  0.06707001,  3.0723743 ,  0.97381103,\n",
       "                           2.8964124 ,  0.6554222 ,  2.5273578 ,  0.02763248,  0.596427  ,\n",
       "                           2.401745  ], dtype=float32),\n",
       "              'y': array([ 1.3969681 , -0.31047308, -0.4329654 ,  0.1022609 ,  0.69539225,\n",
       "                           1.7136837 ,  1.5220561 ,  0.9737525 ,  1.4161135 , -1.1068715 ,\n",
       "                          -0.02393003,  0.1628521 ,  2.9330745 ,  1.7366364 , -0.47563964,\n",
       "                           1.5551394 ,  2.3982646 , -0.26047745, -0.05414113,  0.1719183 ,\n",
       "                          -1.5301927 , -0.01364671,  1.8030081 , -0.27524856, -0.20211487,\n",
       "                           2.5944126 ,  0.60641605,  1.1272277 , -0.5787307 ,  0.8435114 ,\n",
       "                           1.968645  ,  1.2376666 , -0.2795663 ,  1.5608205 , -0.35561174,\n",
       "                          -0.10374175,  0.28521925,  0.93946433,  0.4925819 ,  0.6561409 ,\n",
       "                           0.19084333,  1.302199  , -0.46607307,  1.3010097 , -0.21902718,\n",
       "                           1.5746545 ,  0.9938992 ,  0.4727139 ,  2.7030027 ,  2.102055  ,\n",
       "                           0.38862032,  1.0303646 ,  2.3479953 ,  0.7434447 ,  0.8913427 ,\n",
       "                          -0.22484696,  0.7134769 ,  0.31474304,  0.08472589,  1.0694146 ,\n",
       "                           0.25722143,  0.5525951 ,  2.2568054 ,  2.225209  ,  0.8078241 ,\n",
       "                           1.3887401 ,  0.07058854, -0.34185869,  1.837449  , -0.11622422,\n",
       "                           0.63400567,  0.586178  , -0.41366214,  2.112145  ,  2.456058  ,\n",
       "                           1.4855826 ,  1.0941169 ,  0.94379246,  1.5911168 ,  0.6139997 ,\n",
       "                           1.0724604 , -0.29128358,  1.0277891 ,  1.7522802 ,  0.38870698,\n",
       "                          -0.7511927 , -0.44305086,  0.61777884,  0.24597016, -0.94974726,\n",
       "                           3.3777633 ,  0.82238936,  0.93543303,  0.10490996,  0.62642366,\n",
       "                          -0.05722677, -1.0519732 , -0.18782127,  1.1776843 , -0.6576844 ,\n",
       "                          -0.06310693], dtype=float32)},\n",
       "             {'hoverinfo': 'text',\n",
       "              'marker': {'color': '#EF553B', 'size': 10},\n",
       "              'mode': 'markers',\n",
       "              'name': '1',\n",
       "              'text': [Label: 1, Pos: (-1.21, -2.20), Label: 1, Pos: (-1.16,\n",
       "                       -2.27), Label: 1, Pos: (-2.44, -0.61), Label: 1, Pos:\n",
       "                       (-0.09, -1.27), Label: 1, Pos: (-1.45, -1.98), Label: 1,\n",
       "                       Pos: (-2.12, 1.41), Label: 1, Pos: (-1.38, -2.28), Label: 1,\n",
       "                       Pos: (-2.09, 0.11), Label: 1, Pos: (-1.59, 1.33), Label: 1,\n",
       "                       Pos: (-2.11, -1.78), Label: 1, Pos: (-2.32, 0.36), Label: 1,\n",
       "                       Pos: (-1.96, -0.84), Label: 1, Pos: (-1.99, -0.37), Label:\n",
       "                       1, Pos: (-1.94, -0.82), Label: 1, Pos: (-1.80, -1.90),\n",
       "                       Label: 1, Pos: (-0.56, -1.69), Label: 1, Pos: (-1.99,\n",
       "                       -1.62), Label: 1, Pos: (-1.75, 0.79), Label: 1, Pos: (-2.05,\n",
       "                       1.95), Label: 1, Pos: (-2.23, 1.29), Label: 1, Pos: (-1.92,\n",
       "                       -0.55), Label: 1, Pos: (-2.00, 0.68), Label: 1, Pos: (-1.60,\n",
       "                       -0.35), Label: 1, Pos: (-2.28, 1.47), Label: 1, Pos: (-2.39,\n",
       "                       0.24), Label: 1, Pos: (-1.76, -1.98), Label: 1, Pos: (-2.09,\n",
       "                       -1.09), Label: 1, Pos: (-2.22, 1.05), Label: 1, Pos: (-1.92,\n",
       "                       0.77), Label: 1, Pos: (-0.84, -2.20), Label: 1, Pos: (-2.48,\n",
       "                       -0.18), Label: 1, Pos: (-1.99, 0.48), Label: 1, Pos: (-2.39,\n",
       "                       0.07), Label: 1, Pos: (-2.10, -1.55), Label: 1, Pos: (-2.28,\n",
       "                       0.66), Label: 1, Pos: (-2.31, 0.44), Label: 1, Pos: (-1.85,\n",
       "                       0.56), Label: 1, Pos: (-1.88, 1.81), Label: 1, Pos: (-2.00,\n",
       "                       -0.63), Label: 1, Pos: (-1.04, -2.16), Label: 1, Pos:\n",
       "                       (-1.87, -1.34), Label: 1, Pos: (-0.76, -0.87), Label: 1,\n",
       "                       Pos: (-2.14, 0.39), Label: 1, Pos: (-1.75, -1.77), Label: 1,\n",
       "                       Pos: (-1.72, -1.30), Label: 1, Pos: (-1.81, -1.49), Label:\n",
       "                       1, Pos: (-1.08, -2.20), Label: 1, Pos: (-2.15, -0.55),\n",
       "                       Label: 1, Pos: (-1.27, -2.42), Label: 1, Pos: (-1.81, 0.79),\n",
       "                       Label: 1, Pos: (-1.99, -0.28), Label: 1, Pos: (-2.32,\n",
       "                       -0.08), Label: 1, Pos: (-1.79, -1.89), Label: 1, Pos:\n",
       "                       (-0.24, -0.62), Label: 1, Pos: (-2.30, 0.25), Label: 1, Pos:\n",
       "                       (-1.19, -0.75), Label: 1, Pos: (-1.62, -1.49), Label: 1,\n",
       "                       Pos: (-2.27, 0.76), Label: 1, Pos: (-2.00, 1.70), Label: 1,\n",
       "                       Pos: (-1.89, -1.78), Label: 1, Pos: (-1.68, 2.17), Label: 1,\n",
       "                       Pos: (-2.25, -0.04), Label: 1, Pos: (-2.15, 0.40), Label: 1,\n",
       "                       Pos: (-2.07, 0.39), Label: 1, Pos: (-1.62, -0.01), Label: 1,\n",
       "                       Pos: (-2.19, -1.41), Label: 1, Pos: (-1.23, -0.18), Label:\n",
       "                       1, Pos: (-1.80, -0.66), Label: 1, Pos: (-1.30, 1.53), Label:\n",
       "                       1, Pos: (-2.16, -1.48), Label: 1, Pos: (-2.13, -0.94),\n",
       "                       Label: 1, Pos: (-1.66, -1.24), Label: 1, Pos: (1.13, -1.32),\n",
       "                       Label: 1, Pos: (-2.54, -0.64), Label: 1, Pos: (-2.13,\n",
       "                       -1.34), Label: 1, Pos: (-1.14, -1.90), Label: 1, Pos:\n",
       "                       (-1.80, -1.54), Label: 1, Pos: (-1.60, 1.52), Label: 1, Pos:\n",
       "                       (-1.55, 1.84), Label: 1, Pos: (-1.84, 1.08), Label: 1, Pos:\n",
       "                       (-1.95, 0.35), Label: 1, Pos: (-2.04, 0.31), Label: 1, Pos:\n",
       "                       (-1.18, -2.16), Label: 1, Pos: (-1.69, -1.18), Label: 1,\n",
       "                       Pos: (-1.74, 1.62), Label: 1, Pos: (-2.20, 0.27), Label: 1,\n",
       "                       Pos: (-1.94, -1.24), Label: 1, Pos: (-2.07, 0.69), Label: 1,\n",
       "                       Pos: (-1.11, -1.10), Label: 1, Pos: (-2.24, -1.33), Label:\n",
       "                       1, Pos: (-2.12, -1.41), Label: 1, Pos: (-1.87, -1.63),\n",
       "                       Label: 1, Pos: (-2.23, -0.82), Label: 1, Pos: (-2.21,\n",
       "                       -1.46), Label: 1, Pos: (-1.97, 0.86), Label: 1, Pos: (-1.29,\n",
       "                       -1.46), Label: 1, Pos: (-0.25, -0.74), Label: 1, Pos:\n",
       "                       (-2.37, 0.68), Label: 1, Pos: (-1.51, -1.94), Label: 1, Pos:\n",
       "                       (-1.85, 0.92), Label: 1, Pos: (-1.87, -1.44), Label: 1, Pos:\n",
       "                       (-1.12, -2.02), Label: 1, Pos: (-1.46, 1.85), Label: 1, Pos:\n",
       "                       (-1.75, 0.37), Label: 1, Pos: (-1.98, 0.51), Label: 1, Pos:\n",
       "                       (-2.01, 0.20), Label: 1, Pos: (-2.30, -0.82), Label: 1, Pos:\n",
       "                       (-0.59, -1.15), Label: 1, Pos: (-2.16, -1.11), Label: 1,\n",
       "                       Pos: (-2.17, 0.51), Label: 1, Pos: (-1.99, 1.52), Label: 1,\n",
       "                       Pos: (-1.52, 1.20), Label: 1, Pos: (-1.79, 1.46), Label: 1,\n",
       "                       Pos: (-2.19, -1.24), Label: 1, Pos: (-1.49, -1.31), Label:\n",
       "                       1, Pos: (-0.99, 3.01), Label: 1, Pos: (-1.87, -0.79), Label:\n",
       "                       1, Pos: (-1.88, 0.13), Label: 1, Pos: (-2.31, -0.24), Label:\n",
       "                       1, Pos: (-2.21, -0.84), Label: 1, Pos: (-1.77, -1.97),\n",
       "                       Label: 1, Pos: (-1.36, -1.92)],\n",
       "              'type': 'scatter',\n",
       "              'uid': '35f3bc8d-3711-4f7c-b743-dc7097cae7e8',\n",
       "              'x': array([-1.212442  , -1.1590341 , -2.4437754 , -0.09164776, -1.4495099 ,\n",
       "                          -2.1217616 , -1.3766423 , -2.0888922 , -1.5937696 , -2.1110177 ,\n",
       "                          -2.3206956 , -1.9601583 , -1.9884709 , -1.9392451 , -1.7995677 ,\n",
       "                          -0.55799204, -1.9865904 , -1.7472917 , -2.0496395 , -2.2320616 ,\n",
       "                          -1.9164397 , -2.0020015 , -1.5988835 , -2.2754495 , -2.3919294 ,\n",
       "                          -1.7647767 , -2.0881367 , -2.2177584 , -1.9200624 , -0.83506227,\n",
       "                          -2.4753325 , -1.9860474 , -2.3945742 , -2.1042717 , -2.2807384 ,\n",
       "                          -2.3077843 , -1.8484601 , -1.880368  , -2.0012317 , -1.0367248 ,\n",
       "                          -1.8742462 , -0.75672585, -2.137359  , -1.7522209 , -1.7229007 ,\n",
       "                          -1.8140815 , -1.075356  , -2.1521056 , -1.2695248 , -1.8057255 ,\n",
       "                          -1.9937955 , -2.3246527 , -1.7873691 , -0.24150124, -2.2952092 ,\n",
       "                          -1.1862319 , -1.621113  , -2.2690623 , -1.9967616 , -1.8876029 ,\n",
       "                          -1.6765578 , -2.2506216 , -2.1502237 , -2.069576  , -1.6237161 ,\n",
       "                          -2.1908016 , -1.2307127 , -1.7981849 , -1.3011503 , -2.155707  ,\n",
       "                          -2.129127  , -1.6645349 ,  1.1290051 , -2.5420482 , -2.1341197 ,\n",
       "                          -1.143697  , -1.8031261 , -1.5982199 , -1.5489174 , -1.8413911 ,\n",
       "                          -1.9485911 , -2.0442905 , -1.1812745 , -1.6879909 , -1.7350125 ,\n",
       "                          -2.1952248 , -1.9444698 , -2.0739973 , -1.1129616 , -2.24451   ,\n",
       "                          -2.1186748 , -1.8747972 , -2.2282822 , -2.2131162 , -1.9660525 ,\n",
       "                          -1.2932107 , -0.24597143, -2.369532  , -1.5055628 , -1.8477917 ,\n",
       "                          -1.8749294 , -1.1164019 , -1.4628488 , -1.7538725 , -1.9824173 ,\n",
       "                          -2.013985  , -2.302537  , -0.5934463 , -2.1553066 , -2.1728392 ,\n",
       "                          -1.9875803 , -1.5188503 , -1.7870095 , -2.188547  , -1.494409  ,\n",
       "                          -0.9899032 , -1.8727412 , -1.877691  , -2.3138192 , -2.214369  ,\n",
       "                          -1.7650373 , -1.3580117 ], dtype=float32),\n",
       "              'y': array([-2.1951768 , -2.2685335 , -0.61432314, -1.2654475 , -1.9812677 ,\n",
       "                           1.4076854 , -2.2810938 ,  0.10825467,  1.3287212 , -1.7823044 ,\n",
       "                           0.36439785, -0.83626217, -0.36591768, -0.8154929 , -1.9045988 ,\n",
       "                          -1.6925693 , -1.619052  ,  0.7872237 ,  1.949047  ,  1.2877563 ,\n",
       "                          -0.55478317,  0.6848412 , -0.3482849 ,  1.4682617 ,  0.24445783,\n",
       "                          -1.9832765 , -1.0895092 ,  1.0509686 ,  0.768223  , -2.2017858 ,\n",
       "                          -0.1810746 ,  0.4780112 ,  0.06734603, -1.5506951 ,  0.656971  ,\n",
       "                           0.43867627,  0.5554804 ,  1.8051827 , -0.63204086, -2.158211  ,\n",
       "                          -1.3360529 , -0.87489134,  0.38691664, -1.7693051 , -1.3014197 ,\n",
       "                          -1.4904208 , -2.1984422 , -0.55021113, -2.4249485 ,  0.7908218 ,\n",
       "                          -0.2844935 , -0.07997892, -1.8905938 , -0.6230214 ,  0.24843831,\n",
       "                          -0.7532668 , -1.4905503 ,  0.75735146,  1.6956668 , -1.7814305 ,\n",
       "                           2.167106  , -0.03647992,  0.40283924,  0.38787365, -0.00984137,\n",
       "                          -1.4103111 , -0.17631967, -0.6582583 ,  1.5345651 , -1.4797841 ,\n",
       "                          -0.93507665, -1.2350422 , -1.3153867 , -0.6390629 , -1.3359829 ,\n",
       "                          -1.9007195 , -1.5398955 ,  1.5162534 ,  1.8356459 ,  1.075735  ,\n",
       "                           0.3534431 ,  0.30960023, -2.163836  , -1.1816591 ,  1.6164534 ,\n",
       "                           0.26847902, -1.238207  ,  0.6913776 , -1.100099  , -1.32563   ,\n",
       "                          -1.4086499 , -1.6266589 , -0.81876063, -1.4572675 ,  0.8579546 ,\n",
       "                          -1.455093  , -0.74025035,  0.67826885, -1.9410292 ,  0.9229433 ,\n",
       "                          -1.4429138 , -2.0245574 ,  1.8453616 ,  0.37485725,  0.51202464,\n",
       "                           0.20311818, -0.82414675, -1.1453937 , -1.1111097 ,  0.5121116 ,\n",
       "                           1.5158864 ,  1.197589  ,  1.459662  , -1.2362454 , -1.3086171 ,\n",
       "                           3.0116642 , -0.7881998 ,  0.13386948, -0.23989186, -0.8396462 ,\n",
       "                          -1.9676217 , -1.9169718 ], dtype=float32)},\n",
       "             {'hoverinfo': 'text',\n",
       "              'marker': {'color': '#00CC96', 'size': 10},\n",
       "              'mode': 'markers',\n",
       "              'name': '2',\n",
       "              'text': [Label: 2, Pos: (0.32, 1.64), Label: 2, Pos: (-0.06, 0.32),\n",
       "                       Label: 2, Pos: (0.28, 2.20), Label: 2, Pos: (0.21, -0.83),\n",
       "                       Label: 2, Pos: (-0.07, -1.06), Label: 2, Pos: (-0.72,\n",
       "                       -1.52), Label: 2, Pos: (0.55, -0.47), Label: 2, Pos: (0.47,\n",
       "                       1.39), Label: 2, Pos: (0.95, 1.37), Label: 2, Pos: (0.41,\n",
       "                       -0.20), Label: 2, Pos: (0.75, -0.18), Label: 2, Pos: (0.71,\n",
       "                       0.14), Label: 2, Pos: (0.15, 0.02), Label: 2, Pos: (1.36,\n",
       "                       1.10), Label: 2, Pos: (1.19, 1.81), Label: 2, Pos: (0.11,\n",
       "                       0.29), Label: 2, Pos: (0.62, -0.38), Label: 2, Pos: (0.11,\n",
       "                       -0.15), Label: 2, Pos: (1.58, 1.78), Label: 2, Pos: (1.00,\n",
       "                       0.40), Label: 2, Pos: (-0.01, 0.42), Label: 2, Pos: (0.24,\n",
       "                       -0.63), Label: 2, Pos: (1.10, 2.19), Label: 2, Pos: (0.30,\n",
       "                       0.81), Label: 2, Pos: (0.33, 1.01), Label: 2, Pos: (-0.21,\n",
       "                       0.83), Label: 2, Pos: (0.51, 2.00), Label: 2, Pos: (1.55,\n",
       "                       1.41), Label: 2, Pos: (0.26, -0.04), Label: 2, Pos: (0.04,\n",
       "                       -0.64), Label: 2, Pos: (0.30, 0.41), Label: 2, Pos: (0.93,\n",
       "                       1.50), Label: 2, Pos: (-0.15, -0.80), Label: 2, Pos: (1.18,\n",
       "                       1.97), Label: 2, Pos: (-0.61, -1.22), Label: 2, Pos: (0.53,\n",
       "                       -1.03), Label: 2, Pos: (1.41, 1.45), Label: 2, Pos: (0.66,\n",
       "                       0.14), Label: 2, Pos: (0.18, 0.32), Label: 2, Pos: (1.08,\n",
       "                       0.68), Label: 2, Pos: (0.36, 1.61), Label: 2, Pos: (1.02,\n",
       "                       -0.26), Label: 2, Pos: (0.21, 1.06), Label: 2, Pos: (1.01,\n",
       "                       0.30), Label: 2, Pos: (0.15, 0.07), Label: 2, Pos: (-0.39,\n",
       "                       -0.80), Label: 2, Pos: (-0.08, -0.17), Label: 2, Pos: (0.34,\n",
       "                       0.53), Label: 2, Pos: (-0.14, -0.01), Label: 2, Pos: (0.74,\n",
       "                       0.98), Label: 2, Pos: (1.28, 1.18), Label: 2, Pos: (-0.32,\n",
       "                       -0.39), Label: 2, Pos: (0.71, 0.78), Label: 2, Pos: (-1.12,\n",
       "                       -0.10), Label: 2, Pos: (1.55, -1.40), Label: 2, Pos: (-0.17,\n",
       "                       2.47), Label: 2, Pos: (0.39, -0.65), Label: 2, Pos: (-0.24,\n",
       "                       2.63), Label: 2, Pos: (-0.18, -0.49), Label: 2, Pos: (0.15,\n",
       "                       0.57), Label: 2, Pos: (1.34, -0.10), Label: 2, Pos: (-0.06,\n",
       "                       1.87), Label: 2, Pos: (-0.29, -0.24), Label: 2, Pos: (0.02,\n",
       "                       -0.64), Label: 2, Pos: (0.65, 0.21), Label: 2, Pos: (-0.98,\n",
       "                       2.33), Label: 2, Pos: (0.11, 0.59), Label: 2, Pos: (-0.27,\n",
       "                       1.33), Label: 2, Pos: (1.35, 0.30), Label: 2, Pos: (0.51,\n",
       "                       1.25), Label: 2, Pos: (0.38, 0.62), Label: 2, Pos: (0.03,\n",
       "                       0.08), Label: 2, Pos: (0.18, 0.61), Label: 2, Pos: (0.03,\n",
       "                       0.01), Label: 2, Pos: (-0.48, -0.26), Label: 2, Pos: (-0.32,\n",
       "                       -1.26), Label: 2, Pos: (1.35, 2.29), Label: 2, Pos: (-0.18,\n",
       "                       0.79), Label: 2, Pos: (0.45, -0.10), Label: 2, Pos: (0.39,\n",
       "                       1.47), Label: 2, Pos: (0.21, 2.40), Label: 2, Pos: (1.02,\n",
       "                       2.09), Label: 2, Pos: (0.43, 1.06), Label: 2, Pos: (0.42,\n",
       "                       -0.19), Label: 2, Pos: (0.08, 1.84), Label: 2, Pos: (0.60,\n",
       "                       -0.23), Label: 2, Pos: (-0.25, -1.18), Label: 2, Pos: (0.36,\n",
       "                       2.29), Label: 2, Pos: (0.36, 1.21), Label: 2, Pos: (1.04,\n",
       "                       -0.63)],\n",
       "              'type': 'scatter',\n",
       "              'uid': 'ffc5acf6-eb4e-4f64-9f95-d5160417f8ff',\n",
       "              'x': array([ 0.31642264, -0.06453792,  0.27908006,  0.20512201, -0.06759692,\n",
       "                          -0.7213447 ,  0.54781365,  0.47382608,  0.94585454,  0.407299  ,\n",
       "                           0.75277954,  0.7077177 ,  0.15176278,  1.3649554 ,  1.186763  ,\n",
       "                           0.11083303,  0.62096936,  0.11494942,  1.5822959 ,  0.99842906,\n",
       "                          -0.01267439,  0.2440281 ,  1.1048403 ,  0.30416235,  0.32661372,\n",
       "                          -0.21102494,  0.5077897 ,  1.5472856 ,  0.25646496,  0.03854796,\n",
       "                           0.3001696 ,  0.9282535 , -0.15089518,  1.1813116 , -0.6139547 ,\n",
       "                           0.529115  ,  1.4082336 ,  0.6633908 ,  0.18195872,  1.0837381 ,\n",
       "                           0.35838458,  1.0216775 ,  0.20676021,  1.0063258 ,  0.1520199 ,\n",
       "                          -0.3911015 , -0.07501623,  0.33846948, -0.14244454,  0.74168545,\n",
       "                           1.2815021 , -0.3180928 ,  0.7138866 , -1.121722  ,  1.5485168 ,\n",
       "                          -0.1650425 ,  0.38502926, -0.24147946, -0.17690258,  0.14996244,\n",
       "                           1.3418647 , -0.05949536, -0.28836775,  0.01624642,  0.6514849 ,\n",
       "                          -0.9782062 ,  0.10913634, -0.26984015,  1.3534273 ,  0.51455337,\n",
       "                           0.37773925,  0.02901104,  0.17878662,  0.025418  , -0.476064  ,\n",
       "                          -0.32185742,  1.3469403 , -0.17690213,  0.44550645,  0.3934308 ,\n",
       "                           0.21055087,  1.018526  ,  0.43019062,  0.4220373 ,  0.0761137 ,\n",
       "                           0.5959196 , -0.25303128,  0.36009878,  0.35646975,  1.0374097 ],\n",
       "                         dtype=float32),\n",
       "              'y': array([ 1.6379231 ,  0.31709793,  2.2011204 , -0.83296585, -1.0637997 ,\n",
       "                          -1.5166016 , -0.47091255,  1.3870736 ,  1.3746765 , -0.19778295,\n",
       "                          -0.17672858,  0.1401863 ,  0.01995908,  1.0998636 ,  1.8061112 ,\n",
       "                           0.28770843, -0.3841814 , -0.14641099,  1.7836887 ,  0.3970895 ,\n",
       "                           0.4223161 , -0.6274179 ,  2.1947837 ,  0.80891925,  1.0116267 ,\n",
       "                           0.82775366,  2.002249  ,  1.4107374 , -0.04497574, -0.6428396 ,\n",
       "                           0.4063876 ,  1.5038415 , -0.7951845 ,  1.9708289 , -1.2212046 ,\n",
       "                          -1.0277472 ,  1.4500244 ,  0.14135046,  0.32028505,  0.6790762 ,\n",
       "                           1.6076293 , -0.2563587 ,  1.0605837 ,  0.2950312 ,  0.0656077 ,\n",
       "                          -0.79679805, -0.17355585,  0.53126174, -0.00884293,  0.9757673 ,\n",
       "                           1.1810938 , -0.38585404,  0.77899796, -0.10444167, -1.3981898 ,\n",
       "                           2.4727008 , -0.6453879 ,  2.6265018 , -0.49197254,  0.5736115 ,\n",
       "                          -0.10040337,  1.8717788 , -0.24225122, -0.6377135 ,  0.20896944,\n",
       "                           2.3303046 ,  0.5854929 ,  1.3331653 ,  0.29838952,  1.2457476 ,\n",
       "                           0.62234867,  0.08116211,  0.6088018 ,  0.00770586, -0.26383233,\n",
       "                          -1.2588385 ,  2.2880948 ,  0.78774285, -0.10005051,  1.4724813 ,\n",
       "                           2.4032528 ,  2.0864153 ,  1.0642098 , -0.18998043,  1.8374614 ,\n",
       "                          -0.22618535, -1.1815398 ,  2.286629  ,  1.2118111 , -0.6278916 ],\n",
       "                         dtype=float32)},\n",
       "             {'hoverinfo': 'text',\n",
       "              'marker': {'color': '#AB63FA', 'size': 10},\n",
       "              'mode': 'markers',\n",
       "              'name': '3',\n",
       "              'text': [Label: 3, Pos: (0.86, -0.21), Label: 3, Pos: (1.21, -0.06),\n",
       "                       Label: 3, Pos: (0.08, -0.40), Label: 3, Pos: (-0.49, 0.55),\n",
       "                       Label: 3, Pos: (1.40, -1.08), Label: 3, Pos: (-0.12, -1.36),\n",
       "                       Label: 3, Pos: (-0.46, 2.76), Label: 3, Pos: (0.09, -0.27),\n",
       "                       Label: 3, Pos: (0.31, 0.66), Label: 3, Pos: (-0.12, -0.55),\n",
       "                       Label: 3, Pos: (0.81, 0.57), Label: 3, Pos: (1.33, -1.10),\n",
       "                       Label: 3, Pos: (0.77, -0.14), Label: 3, Pos: (0.55, 1.22),\n",
       "                       Label: 3, Pos: (1.14, -0.08), Label: 3, Pos: (0.68, -0.83),\n",
       "                       Label: 3, Pos: (0.55, 2.02), Label: 3, Pos: (0.73, 0.04),\n",
       "                       Label: 3, Pos: (0.57, 0.43), Label: 3, Pos: (0.52, -0.63),\n",
       "                       Label: 3, Pos: (-0.24, -0.44), Label: 3, Pos: (1.01, 1.48),\n",
       "                       Label: 3, Pos: (0.88, 1.63), Label: 3, Pos: (1.12, -0.91),\n",
       "                       Label: 3, Pos: (2.09, -1.39), Label: 3, Pos: (1.86, 0.40),\n",
       "                       Label: 3, Pos: (1.28, -0.83), Label: 3, Pos: (0.94, -1.71),\n",
       "                       Label: 3, Pos: (1.07, 0.20), Label: 3, Pos: (-0.11, 1.08),\n",
       "                       Label: 3, Pos: (1.52, 0.59), Label: 3, Pos: (0.53, 1.05),\n",
       "                       Label: 3, Pos: (-0.66, -1.43), Label: 3, Pos: (1.16, 1.47),\n",
       "                       Label: 3, Pos: (1.49, -0.68), Label: 3, Pos: (0.65, 0.66),\n",
       "                       Label: 3, Pos: (0.79, -0.68), Label: 3, Pos: (0.42, -1.55),\n",
       "                       Label: 3, Pos: (1.00, -0.37), Label: 3, Pos: (-0.32, -1.04),\n",
       "                       Label: 3, Pos: (0.62, -0.29), Label: 3, Pos: (0.69, 0.25),\n",
       "                       Label: 3, Pos: (1.32, -0.09), Label: 3, Pos: (-0.44, -0.68),\n",
       "                       Label: 3, Pos: (1.70, -0.82), Label: 3, Pos: (1.50, -0.49),\n",
       "                       Label: 3, Pos: (0.90, 0.48), Label: 3, Pos: (1.18, -1.02),\n",
       "                       Label: 3, Pos: (0.16, -0.92), Label: 3, Pos: (0.96, -2.28),\n",
       "                       Label: 3, Pos: (0.59, -1.46), Label: 3, Pos: (0.92, -0.25),\n",
       "                       Label: 3, Pos: (0.46, -0.96), Label: 3, Pos: (1.25, -1.61),\n",
       "                       Label: 3, Pos: (1.46, -1.26), Label: 3, Pos: (-0.21, 0.94),\n",
       "                       Label: 3, Pos: (0.77, -1.32), Label: 3, Pos: (1.24, 1.34),\n",
       "                       Label: 3, Pos: (-0.35, 0.14), Label: 3, Pos: (1.01, 0.17),\n",
       "                       Label: 3, Pos: (0.18, -0.50), Label: 3, Pos: (0.81, -0.88),\n",
       "                       Label: 3, Pos: (0.70, 1.67), Label: 3, Pos: (-1.27, -1.52),\n",
       "                       Label: 3, Pos: (0.91, -0.36), Label: 3, Pos: (1.41, 1.46),\n",
       "                       Label: 3, Pos: (0.48, -0.58), Label: 3, Pos: (0.24, -0.03),\n",
       "                       Label: 3, Pos: (-0.44, -0.12), Label: 3, Pos: (0.72, -0.71),\n",
       "                       Label: 3, Pos: (0.96, 0.54), Label: 3, Pos: (0.77, -2.02),\n",
       "                       Label: 3, Pos: (0.40, 0.33), Label: 3, Pos: (0.95, -0.84),\n",
       "                       Label: 3, Pos: (0.60, 1.06), Label: 3, Pos: (0.87, -0.28),\n",
       "                       Label: 3, Pos: (1.06, 0.17), Label: 3, Pos: (1.11, 0.43),\n",
       "                       Label: 3, Pos: (0.92, -0.30), Label: 3, Pos: (0.54, -1.13),\n",
       "                       Label: 3, Pos: (0.66, 1.63), Label: 3, Pos: (-0.20, -1.06),\n",
       "                       Label: 3, Pos: (1.02, 0.26), Label: 3, Pos: (1.36, -2.19),\n",
       "                       Label: 3, Pos: (0.91, 2.32), Label: 3, Pos: (1.14, 0.69),\n",
       "                       Label: 3, Pos: (0.11, 1.03), Label: 3, Pos: (-1.01, -0.77),\n",
       "                       Label: 3, Pos: (1.03, 0.41), Label: 3, Pos: (0.72, -0.74),\n",
       "                       Label: 3, Pos: (0.59, -0.87), Label: 3, Pos: (-0.13, 0.20),\n",
       "                       Label: 3, Pos: (1.48, 1.85), Label: 3, Pos: (0.54, 1.26),\n",
       "                       Label: 3, Pos: (1.40, -0.95), Label: 3, Pos: (1.45, 0.88),\n",
       "                       Label: 3, Pos: (1.25, 0.02), Label: 3, Pos: (0.60, 0.41),\n",
       "                       Label: 3, Pos: (-0.73, 0.05), Label: 3, Pos: (-0.82, 0.63),\n",
       "                       Label: 3, Pos: (1.77, -0.21), Label: 3, Pos: (0.92, 0.07),\n",
       "                       Label: 3, Pos: (1.00, 0.52), Label: 3, Pos: (0.10, 1.10)],\n",
       "              'type': 'scatter',\n",
       "              'uid': '9d6bffdf-0289-4e88-a49c-6992942a40e3',\n",
       "              'x': array([ 0.8636589 ,  1.2112807 ,  0.07736553, -0.49482092,  1.3991529 ,\n",
       "                          -0.11701297, -0.45526156,  0.08877092,  0.3072396 , -0.12317532,\n",
       "                           0.8101198 ,  1.3271122 ,  0.7683569 ,  0.5497119 ,  1.1400061 ,\n",
       "                           0.6848994 ,  0.5506251 ,  0.7313753 ,  0.5653224 ,  0.52151155,\n",
       "                          -0.23916198,  1.0107316 ,  0.8818194 ,  1.1212939 ,  2.0923328 ,\n",
       "                           1.859196  ,  1.2809895 ,  0.94259775,  1.0665675 , -0.11488965,\n",
       "                           1.5187365 ,  0.5276124 , -0.66297203,  1.156998  ,  1.4879584 ,\n",
       "                           0.64968437,  0.78857017,  0.41891873,  1.0002307 , -0.31759718,\n",
       "                           0.6162358 ,  0.693874  ,  1.3198779 , -0.43876788,  1.6969423 ,\n",
       "                           1.5044643 ,  0.8992458 ,  1.179174  ,  0.16226694,  0.95534223,\n",
       "                           0.5922722 ,  0.9204795 ,  0.46018597,  1.2485976 ,  1.4612311 ,\n",
       "                          -0.206454  ,  0.7677503 ,  1.2356404 , -0.34766272,  1.0067636 ,\n",
       "                           0.17776737,  0.8093659 ,  0.6998748 , -1.2660205 ,  0.906244  ,\n",
       "                           1.4061987 ,  0.4775191 ,  0.23621441, -0.44392744,  0.7199156 ,\n",
       "                           0.9559344 ,  0.769411  ,  0.40380794,  0.94834125,  0.5971518 ,\n",
       "                           0.8662194 ,  1.0643452 ,  1.1110579 ,  0.9222017 ,  0.54193753,\n",
       "                           0.6601452 , -0.19806704,  1.0230808 ,  1.3576199 ,  0.91307724,\n",
       "                           1.1392719 ,  0.10817061, -1.0122529 ,  1.027342  ,  0.72388977,\n",
       "                           0.59260315, -0.1253003 ,  1.4818217 ,  0.5438369 ,  1.403291  ,\n",
       "                           1.4522357 ,  1.2537223 ,  0.5985875 , -0.72643906, -0.82264024,\n",
       "                           1.7691519 ,  0.9177205 ,  1.0005442 ,  0.09820043], dtype=float32),\n",
       "              'y': array([-0.2051771 , -0.0626827 , -0.39766118,  0.547682  , -1.0839453 ,\n",
       "                          -1.3551946 ,  2.7638805 , -0.27033666,  0.66427004, -0.5453984 ,\n",
       "                           0.56634617, -1.102307  , -0.13838552,  1.2177179 , -0.07742815,\n",
       "                          -0.8337136 ,  2.01946   ,  0.04072255,  0.4269509 , -0.63458085,\n",
       "                          -0.43995434,  1.4809083 ,  1.6268711 , -0.91149944, -1.3881869 ,\n",
       "                           0.39637697, -0.834157  , -1.7111831 ,  0.20016958,  1.0816635 ,\n",
       "                           0.59111756,  1.0472825 , -1.4302746 ,  1.4660034 , -0.68469846,\n",
       "                           0.6612258 , -0.6790274 , -1.5541896 , -0.36550787, -1.0370508 ,\n",
       "                          -0.29184404,  0.250293  , -0.08549385, -0.68284214, -0.81557435,\n",
       "                          -0.4884101 ,  0.48459467, -1.0247638 , -0.9200073 , -2.27815   ,\n",
       "                          -1.4642385 , -0.25285026, -0.9575403 , -1.6141295 , -1.2619624 ,\n",
       "                           0.93851477, -1.3193698 ,  1.3351469 ,  0.13930134,  0.17369173,\n",
       "                          -0.5043463 , -0.87917405,  1.6703457 , -1.5166322 , -0.3579436 ,\n",
       "                           1.4639817 , -0.5760822 , -0.02965786, -0.12463402, -0.7145534 ,\n",
       "                           0.5448071 , -2.0173936 ,  0.330771  , -0.8402544 ,  1.0642437 ,\n",
       "                          -0.27820724,  0.17168726,  0.43429336, -0.29862747, -1.1326632 ,\n",
       "                           1.6302133 , -1.0598161 ,  0.25548863, -2.1869438 ,  2.3171334 ,\n",
       "                           0.6879581 ,  1.0307285 , -0.7740439 ,  0.40808192, -0.7384655 ,\n",
       "                          -0.8744706 ,  0.19780992,  1.8516272 ,  1.2641623 , -0.94701487,\n",
       "                           0.88098663,  0.01534643,  0.4061434 ,  0.05072775,  0.6295034 ,\n",
       "                          -0.20793952,  0.07016956,  0.51569486,  1.0962473 ], dtype=float32)},\n",
       "             {'hoverinfo': 'text',\n",
       "              'marker': {'color': '#FFA15A', 'size': 10},\n",
       "              'mode': 'markers',\n",
       "              'name': '4',\n",
       "              'text': [Label: 4, Pos: (0.19, -1.07), Label: 4, Pos: (-0.07,\n",
       "                       -0.46), Label: 4, Pos: (-0.34, -1.46), Label: 4, Pos:\n",
       "                       (-1.25, -1.71), Label: 4, Pos: (-0.65, -2.04), Label: 4,\n",
       "                       Pos: (0.25, -0.34), Label: 4, Pos: (-0.60, -0.06), Label: 4,\n",
       "                       Pos: (1.29, 0.22), Label: 4, Pos: (-1.20, 0.73), Label: 4,\n",
       "                       Pos: (-0.21, 0.42), Label: 4, Pos: (-0.79, -0.47), Label: 4,\n",
       "                       Pos: (0.89, -0.91), Label: 4, Pos: (0.26, -1.01), Label: 4,\n",
       "                       Pos: (-0.04, -1.83), Label: 4, Pos: (-0.59, 0.09), Label: 4,\n",
       "                       Pos: (0.51, -0.47), Label: 4, Pos: (0.32, -1.52), Label: 4,\n",
       "                       Pos: (-0.20, -2.23), Label: 4, Pos: (0.14, 0.41), Label: 4,\n",
       "                       Pos: (-0.15, -1.66), Label: 4, Pos: (-0.20, 0.51), Label: 4,\n",
       "                       Pos: (-0.41, -2.03), Label: 4, Pos: (-0.61, -0.98), Label:\n",
       "                       4, Pos: (-0.28, -0.91), Label: 4, Pos: (-0.97, -0.67),\n",
       "                       Label: 4, Pos: (-0.40, 0.55), Label: 4, Pos: (-1.37, 0.47),\n",
       "                       Label: 4, Pos: (-1.55, -0.21), Label: 4, Pos: (-1.14,\n",
       "                       -0.13), Label: 4, Pos: (-0.34, -0.31), Label: 4, Pos:\n",
       "                       (-0.16, 1.53), Label: 4, Pos: (0.14, -1.04), Label: 4, Pos:\n",
       "                       (0.45, -1.64), Label: 4, Pos: (-0.61, -0.98), Label: 4, Pos:\n",
       "                       (-1.30, -2.13), Label: 4, Pos: (-0.12, -1.27), Label: 4,\n",
       "                       Pos: (-0.17, -0.91), Label: 4, Pos: (0.31, -0.21), Label: 4,\n",
       "                       Pos: (-1.22, -0.41), Label: 4, Pos: (-0.96, 1.12), Label: 4,\n",
       "                       Pos: (-0.94, -0.60), Label: 4, Pos: (-0.22, -1.20), Label:\n",
       "                       4, Pos: (0.28, -1.83), Label: 4, Pos: (-0.64, 0.10), Label:\n",
       "                       4, Pos: (-0.89, 0.54), Label: 4, Pos: (-0.56, 0.59), Label:\n",
       "                       4, Pos: (-0.40, -1.16), Label: 4, Pos: (-1.26, 1.32), Label:\n",
       "                       4, Pos: (0.55, -2.42), Label: 4, Pos: (-0.97, -0.70), Label:\n",
       "                       4, Pos: (-1.09, 0.40), Label: 4, Pos: (-0.70, -1.16), Label:\n",
       "                       4, Pos: (-0.71, 1.66), Label: 4, Pos: (-0.19, -1.69), Label:\n",
       "                       4, Pos: (-0.02, -1.55), Label: 4, Pos: (-0.83, -1.52),\n",
       "                       Label: 4, Pos: (0.22, -0.82), Label: 4, Pos: (-1.37, 0.18),\n",
       "                       Label: 4, Pos: (-0.05, 0.56), Label: 4, Pos: (0.05, 0.66),\n",
       "                       Label: 4, Pos: (-0.68, -0.31), Label: 4, Pos: (0.11, -0.82),\n",
       "                       Label: 4, Pos: (-0.22, -0.43), Label: 4, Pos: (0.10, 0.95),\n",
       "                       Label: 4, Pos: (-0.96, -0.19), Label: 4, Pos: (0.78, -1.91),\n",
       "                       Label: 4, Pos: (-0.81, 0.58), Label: 4, Pos: (-0.73, 1.75),\n",
       "                       Label: 4, Pos: (-0.81, -0.05), Label: 4, Pos: (-0.98, 1.34),\n",
       "                       Label: 4, Pos: (0.33, -1.33), Label: 4, Pos: (0.54, -1.82),\n",
       "                       Label: 4, Pos: (-0.19, -0.49), Label: 4, Pos: (-0.73, 1.37),\n",
       "                       Label: 4, Pos: (0.24, 0.62), Label: 4, Pos: (-0.72, 0.50),\n",
       "                       Label: 4, Pos: (-0.96, -0.35), Label: 4, Pos: (-0.49, 0.09),\n",
       "                       Label: 4, Pos: (-0.68, -1.58), Label: 4, Pos: (0.35, 1.27),\n",
       "                       Label: 4, Pos: (-0.73, 0.77), Label: 4, Pos: (-0.38, -1.02),\n",
       "                       Label: 4, Pos: (0.63, -0.37), Label: 4, Pos: (0.18, -0.56),\n",
       "                       Label: 4, Pos: (-0.10, -2.32), Label: 4, Pos: (-0.78, 1.60),\n",
       "                       Label: 4, Pos: (-0.32, -2.18), Label: 4, Pos: (-0.04,\n",
       "                       -2.15), Label: 4, Pos: (-0.88, -0.29), Label: 4, Pos: (0.04,\n",
       "                       -0.46), Label: 4, Pos: (-1.08, -2.02), Label: 4, Pos:\n",
       "                       (-0.43, -2.23), Label: 4, Pos: (-0.21, -1.39), Label: 4,\n",
       "                       Pos: (-0.64, -1.43), Label: 4, Pos: (-0.31, -1.97), Label:\n",
       "                       4, Pos: (-0.65, -0.31), Label: 4, Pos: (0.16, -1.04), Label:\n",
       "                       4, Pos: (-1.08, 0.51)],\n",
       "              'type': 'scatter',\n",
       "              'uid': '9751df8f-a820-4edd-a67c-fa981b76bceb',\n",
       "              'x': array([ 0.1858147 , -0.07194065, -0.33777562, -1.2535627 , -0.6546848 ,\n",
       "                           0.24811418, -0.599596  ,  1.2920579 , -1.1956936 , -0.2113417 ,\n",
       "                          -0.7925272 ,  0.8889788 ,  0.26286787, -0.04275031, -0.59081453,\n",
       "                           0.5122464 ,  0.31816038, -0.19666024,  0.1374695 , -0.14869583,\n",
       "                          -0.20474853, -0.40924656, -0.61209303, -0.28285322, -0.96638477,\n",
       "                          -0.40471318, -1.371547  , -1.5460902 , -1.1431724 , -0.3416109 ,\n",
       "                          -0.1615456 ,  0.13642474,  0.4456519 , -0.60856575, -1.2957814 ,\n",
       "                          -0.11510118, -0.16631588,  0.30759063, -1.2183596 , -0.9556048 ,\n",
       "                          -0.93599474, -0.22017673,  0.28296345, -0.643633  , -0.88923454,\n",
       "                          -0.56080073, -0.40249634, -1.2577991 ,  0.5513743 , -0.9726261 ,\n",
       "                          -1.0854038 , -0.7027475 , -0.7147816 , -0.18637179, -0.02228621,\n",
       "                          -0.8345051 ,  0.22028007, -1.3687437 , -0.0489884 ,  0.04635082,\n",
       "                          -0.68441564,  0.11456396, -0.22077104,  0.10444979, -0.96053684,\n",
       "                           0.7849404 , -0.80904794, -0.7277069 , -0.806618  , -0.9789727 ,\n",
       "                           0.32936206,  0.544773  , -0.1889413 , -0.73443925,  0.24000676,\n",
       "                          -0.72088295, -0.96200156, -0.4907729 , -0.68064606,  0.34585488,\n",
       "                          -0.7316852 , -0.37985012,  0.6325034 ,  0.17623019, -0.09834104,\n",
       "                          -0.7771955 , -0.3215241 , -0.04210852, -0.87569195,  0.03597743,\n",
       "                          -1.0752535 , -0.4316275 , -0.2122644 , -0.6422983 , -0.30726308,\n",
       "                          -0.6478583 ,  0.158522  , -1.0845699 ], dtype=float32),\n",
       "              'y': array([-1.0715344 , -0.46104136, -1.4603058 , -1.7095339 , -2.039016  ,\n",
       "                          -0.3366202 , -0.06463971,  0.21652052,  0.7256826 ,  0.42091945,\n",
       "                          -0.46745887, -0.90820897, -1.0072249 , -1.8266125 ,  0.08947835,\n",
       "                          -0.46708468, -1.5238595 , -2.2336016 ,  0.4140897 , -1.6595831 ,\n",
       "                           0.50792485, -2.029855  , -0.9787938 , -0.90657103, -0.6738488 ,\n",
       "                           0.55151075,  0.4741434 , -0.21180072, -0.12997346, -0.31023425,\n",
       "                           1.5298136 , -1.038255  , -1.638431  , -0.97643334, -2.128816  ,\n",
       "                          -1.2728255 , -0.9065918 , -0.21240315, -0.4050138 ,  1.1197877 ,\n",
       "                          -0.59868807, -1.1961453 , -1.8306422 ,  0.09972648,  0.5443409 ,\n",
       "                           0.59355634, -1.1636449 ,  1.3183504 , -2.420202  , -0.703876  ,\n",
       "                           0.40079746, -1.1642374 ,  1.6567742 , -1.6922362 , -1.5459605 ,\n",
       "                          -1.5243618 , -0.8182828 ,  0.18088815,  0.55993783,  0.65798646,\n",
       "                          -0.3067766 , -0.82178783, -0.43494803,  0.94740546, -0.19090296,\n",
       "                          -1.9114867 ,  0.5797334 ,  1.7502223 , -0.04961579,  1.3401692 ,\n",
       "                          -1.3311676 , -1.8175385 , -0.48598915,  1.3678776 ,  0.61829644,\n",
       "                           0.50407076, -0.3463469 ,  0.08901197, -1.5845811 ,  1.2704035 ,\n",
       "                           0.77106357, -1.0182817 , -0.36872575, -0.55944824, -2.3231196 ,\n",
       "                           1.5976772 , -2.1795437 , -2.1472983 , -0.28581882, -0.46388814,\n",
       "                          -2.0227423 , -2.2279356 , -1.3903309 , -1.4266354 , -1.9720705 ,\n",
       "                          -0.3080499 , -1.0384823 ,  0.50838155], dtype=float32)},\n",
       "             {'hoverinfo': 'text',\n",
       "              'marker': {'color': '#19D3F3', 'size': 10},\n",
       "              'mode': 'markers',\n",
       "              'name': '5',\n",
       "              'text': [Label: 5, Pos: (-1.40, 2.47), Label: 5, Pos: (0.73, 0.60),\n",
       "                       Label: 5, Pos: (1.38, -1.72), Label: 5, Pos: (-1.15, 1.98),\n",
       "                       Label: 5, Pos: (-0.37, 2.44), Label: 5, Pos: (-0.39, 1.92),\n",
       "                       Label: 5, Pos: (0.27, 1.38), Label: 5, Pos: (1.36, -0.86),\n",
       "                       Label: 5, Pos: (-1.01, 1.65), Label: 5, Pos: (0.11, -0.20),\n",
       "                       Label: 5, Pos: (-0.30, 0.81), Label: 5, Pos: (2.17, -0.42),\n",
       "                       Label: 5, Pos: (0.30, -0.07), Label: 5, Pos: (-0.33, 0.02),\n",
       "                       Label: 5, Pos: (-0.60, 2.10), Label: 5, Pos: (-0.36, 2.79),\n",
       "                       Label: 5, Pos: (1.50, -0.35), Label: 5, Pos: (0.25, -1.43),\n",
       "                       Label: 5, Pos: (-0.55, 1.49), Label: 5, Pos: (0.64, 0.48),\n",
       "                       Label: 5, Pos: (-0.45, -0.05), Label: 5, Pos: (1.78, -0.01),\n",
       "                       Label: 5, Pos: (1.14, 0.75), Label: 5, Pos: (0.45, 0.37),\n",
       "                       Label: 5, Pos: (-0.95, 1.45), Label: 5, Pos: (-1.51, 2.32),\n",
       "                       Label: 5, Pos: (0.31, -0.07), Label: 5, Pos: (0.49, -1.79),\n",
       "                       Label: 5, Pos: (1.68, -0.44), Label: 5, Pos: (-1.09, 1.54),\n",
       "                       Label: 5, Pos: (-1.25, 1.16), Label: 5, Pos: (-0.94, 1.06),\n",
       "                       Label: 5, Pos: (-0.68, -0.01), Label: 5, Pos: (-0.33, 1.96),\n",
       "                       Label: 5, Pos: (3.16, 0.36), Label: 5, Pos: (1.59, -1.34),\n",
       "                       Label: 5, Pos: (-0.75, 1.77), Label: 5, Pos: (-0.84, 1.24),\n",
       "                       Label: 5, Pos: (0.44, 1.16), Label: 5, Pos: (0.16, 1.21),\n",
       "                       Label: 5, Pos: (1.66, -1.29), Label: 5, Pos: (1.98, -0.63),\n",
       "                       Label: 5, Pos: (0.83, -0.32), Label: 5, Pos: (-0.15, 0.78),\n",
       "                       Label: 5, Pos: (-1.52, 1.72), Label: 5, Pos: (-0.36, 1.61),\n",
       "                       Label: 5, Pos: (2.04, -0.79), Label: 5, Pos: (-0.52, -0.72),\n",
       "                       Label: 5, Pos: (1.89, 0.95), Label: 5, Pos: (-1.27, 1.56),\n",
       "                       Label: 5, Pos: (-1.26, 0.94), Label: 5, Pos: (1.17, -0.34),\n",
       "                       Label: 5, Pos: (0.84, 0.33), Label: 5, Pos: (-0.33, 0.48),\n",
       "                       Label: 5, Pos: (-0.15, 1.33), Label: 5, Pos: (0.41, -1.65),\n",
       "                       Label: 5, Pos: (0.73, 0.11), Label: 5, Pos: (1.67, -0.43),\n",
       "                       Label: 5, Pos: (-0.30, 1.26), Label: 5, Pos: (1.53, -0.93),\n",
       "                       Label: 5, Pos: (0.34, -0.59), Label: 5, Pos: (-0.27, 0.69),\n",
       "                       Label: 5, Pos: (0.98, 0.73), Label: 5, Pos: (-1.10, 1.54),\n",
       "                       Label: 5, Pos: (0.14, -1.12), Label: 5, Pos: (-0.11, 0.88),\n",
       "                       Label: 5, Pos: (-0.82, 1.55), Label: 5, Pos: (0.99, -0.26),\n",
       "                       Label: 5, Pos: (1.08, -1.01), Label: 5, Pos: (1.59, -1.38),\n",
       "                       Label: 5, Pos: (1.95, -1.33), Label: 5, Pos: (1.17, -0.85),\n",
       "                       Label: 5, Pos: (1.02, 0.44), Label: 5, Pos: (1.14, -0.62),\n",
       "                       Label: 5, Pos: (0.53, 1.56), Label: 5, Pos: (1.78, -0.32),\n",
       "                       Label: 5, Pos: (-0.52, 1.34), Label: 5, Pos: (-1.23, 1.47),\n",
       "                       Label: 5, Pos: (0.81, 0.40), Label: 5, Pos: (-0.69, 1.84),\n",
       "                       Label: 5, Pos: (1.76, -0.64), Label: 5, Pos: (-0.75, 1.33),\n",
       "                       Label: 5, Pos: (0.60, -0.55), Label: 5, Pos: (-0.92, 0.76),\n",
       "                       Label: 5, Pos: (-0.71, 0.54), Label: 5, Pos: (0.74, -1.35),\n",
       "                       Label: 5, Pos: (-0.49, 0.95), Label: 5, Pos: (1.32, 0.43),\n",
       "                       Label: 5, Pos: (1.12, -0.49), Label: 5, Pos: (-1.34, 0.87),\n",
       "                       Label: 5, Pos: (-1.78, 2.36), Label: 5, Pos: (-0.58, 1.40),\n",
       "                       Label: 5, Pos: (0.71, 0.57), Label: 5, Pos: (-0.78, -0.89)],\n",
       "              'type': 'scatter',\n",
       "              'uid': '7ebce381-4969-4917-85a2-c48c5c4a0992',\n",
       "              'x': array([-1.4043047 ,  0.72948426,  1.3829372 , -1.1501775 , -0.36799702,\n",
       "                          -0.38537905,  0.27401477,  1.359927  , -1.0080726 ,  0.10501768,\n",
       "                          -0.3025542 ,  2.1650255 ,  0.29744402, -0.32751456, -0.6002214 ,\n",
       "                          -0.3601183 ,  1.5028617 ,  0.24723709, -0.55043757,  0.6398752 ,\n",
       "                          -0.44812486,  1.7810633 ,  1.1430327 ,  0.446533  , -0.9504842 ,\n",
       "                          -1.51123   ,  0.30691838,  0.48769572,  1.6776612 , -1.0874549 ,\n",
       "                          -1.2541188 , -0.9390845 , -0.68441737, -0.32956916,  3.1576447 ,\n",
       "                           1.5944422 , -0.74923986, -0.8445013 ,  0.4358328 ,  0.1562038 ,\n",
       "                           1.6642758 ,  1.9775838 ,  0.8318854 , -0.15455015, -1.5236104 ,\n",
       "                          -0.36088708,  2.0389225 , -0.52335745,  1.8945824 , -1.2683904 ,\n",
       "                          -1.263475  ,  1.1720386 ,  0.8385868 , -0.32854113, -0.1482288 ,\n",
       "                           0.40535897,  0.72607285,  1.6665387 , -0.30385017,  1.5276586 ,\n",
       "                           0.34008694, -0.27225783,  0.98129416, -1.1039003 ,  0.13831034,\n",
       "                          -0.11400633, -0.8206352 ,  0.98625344,  1.0817292 ,  1.5904149 ,\n",
       "                           1.9493568 ,  1.1670228 ,  1.023361  ,  1.1364502 ,  0.534904  ,\n",
       "                           1.7841151 , -0.5229124 , -1.2271843 ,  0.80794364, -0.68695   ,\n",
       "                           1.7600292 , -0.74799085,  0.60212815, -0.9181319 , -0.7058091 ,\n",
       "                           0.73897105, -0.49213147,  1.3155609 ,  1.1151896 , -1.3445789 ,\n",
       "                          -1.7775707 , -0.5772139 ,  0.70779634, -0.77785796], dtype=float32),\n",
       "              'y': array([ 2.4677422 ,  0.59705657, -1.721183  ,  1.9800044 ,  2.444464  ,\n",
       "                           1.9185799 ,  1.3843049 , -0.8620531 ,  1.6547352 , -0.20378427,\n",
       "                           0.808087  , -0.41674966, -0.07222056,  0.01928224,  2.0993419 ,\n",
       "                           2.7850022 , -0.34780234, -1.4348679 ,  1.4906795 ,  0.4791601 ,\n",
       "                          -0.05150742, -0.00738344,  0.74561846,  0.37115082,  1.4480083 ,\n",
       "                           2.3217745 , -0.06611814, -1.7855915 , -0.43741134,  1.5351698 ,\n",
       "                           1.1578622 ,  1.060165  , -0.01253259,  1.955779  ,  0.36056367,\n",
       "                          -1.3385949 ,  1.7707316 ,  1.2434942 ,  1.1551136 ,  1.2050747 ,\n",
       "                          -1.2922595 , -0.62718976, -0.31996235,  0.7828278 ,  1.7237757 ,\n",
       "                           1.612609  , -0.78949225, -0.71767324,  0.95474976,  1.5610632 ,\n",
       "                           0.9400593 , -0.3413738 ,  0.3340056 ,  0.48057845,  1.3279847 ,\n",
       "                          -1.6464958 ,  0.10936997, -0.43175805,  1.2619401 , -0.92894155,\n",
       "                          -0.5880087 ,  0.6895287 ,  0.73032814,  1.5421051 , -1.1217471 ,\n",
       "                           0.8809381 ,  1.5533708 , -0.2637888 , -1.007965  , -1.3764219 ,\n",
       "                          -1.3253268 , -0.8484884 ,  0.4445645 , -0.6207657 ,  1.5565897 ,\n",
       "                          -0.32162616,  1.3362713 ,  1.474218  ,  0.39622462,  1.8391063 ,\n",
       "                          -0.63537955,  1.3250091 , -0.5495581 ,  0.7617083 ,  0.5355976 ,\n",
       "                          -1.3514063 ,  0.94687265,  0.4264029 , -0.48955336,  0.8665907 ,\n",
       "                           2.3633275 ,  1.398338  ,  0.56570643, -0.8850698 ], dtype=float32)},\n",
       "             {'hoverinfo': 'text',\n",
       "              'marker': {'color': '#FF6692', 'size': 10},\n",
       "              'mode': 'markers',\n",
       "              'name': '6',\n",
       "              'text': [Label: 6, Pos: (1.24, -0.65), Label: 6, Pos: (0.35, -0.21),\n",
       "                       Label: 6, Pos: (1.95, -1.79), Label: 6, Pos: (1.88, -0.12),\n",
       "                       Label: 6, Pos: (1.81, -0.82), Label: 6, Pos: (0.14, -1.51),\n",
       "                       Label: 6, Pos: (-0.42, -0.17), Label: 6, Pos: (0.66, -0.82),\n",
       "                       Label: 6, Pos: (1.62, -0.04), Label: 6, Pos: (0.42, -1.63),\n",
       "                       Label: 6, Pos: (-1.45, 0.63), Label: 6, Pos: (0.66, -0.58),\n",
       "                       Label: 6, Pos: (0.59, 0.46), Label: 6, Pos: (0.84, -0.65),\n",
       "                       Label: 6, Pos: (0.92, -0.91), Label: 6, Pos: (1.33, -1.17),\n",
       "                       Label: 6, Pos: (1.67, -1.22), Label: 6, Pos: (-0.29, 0.61),\n",
       "                       Label: 6, Pos: (-0.14, -1.75), Label: 6, Pos: (1.65, -1.67),\n",
       "                       Label: 6, Pos: (-0.35, -0.34), Label: 6, Pos: (0.29, -0.39),\n",
       "                       Label: 6, Pos: (0.40, -1.65), Label: 6, Pos: (1.07, 0.71),\n",
       "                       Label: 6, Pos: (0.42, -0.20), Label: 6, Pos: (0.29, -1.51),\n",
       "                       Label: 6, Pos: (-0.40, -1.14), Label: 6, Pos: (0.32, -0.94),\n",
       "                       Label: 6, Pos: (1.54, -1.39), Label: 6, Pos: (0.58, -1.58),\n",
       "                       Label: 6, Pos: (-0.02, -1.46), Label: 6, Pos: (-0.24, 0.33),\n",
       "                       Label: 6, Pos: (0.71, -0.70), Label: 6, Pos: (-0.67, 1.70),\n",
       "                       Label: 6, Pos: (-0.65, 0.72), Label: 6, Pos: (1.38, -2.18),\n",
       "                       Label: 6, Pos: (1.58, -0.52), Label: 6, Pos: (1.28, -0.02),\n",
       "                       Label: 6, Pos: (0.80, -1.34), Label: 6, Pos: (1.32, -0.50),\n",
       "                       Label: 6, Pos: (0.19, -0.13), Label: 6, Pos: (0.45, -1.35),\n",
       "                       Label: 6, Pos: (0.93, -0.38), Label: 6, Pos: (-0.44, 0.36),\n",
       "                       Label: 6, Pos: (2.03, -1.11), Label: 6, Pos: (1.41, -1.48),\n",
       "                       Label: 6, Pos: (0.57, -0.40), Label: 6, Pos: (-0.93, 1.45),\n",
       "                       Label: 6, Pos: (1.70, -1.26), Label: 6, Pos: (-0.14, -1.13),\n",
       "                       Label: 6, Pos: (0.70, -0.51), Label: 6, Pos: (0.13, -0.47),\n",
       "                       Label: 6, Pos: (-0.13, -0.24), Label: 6, Pos: (0.41, 0.52),\n",
       "                       Label: 6, Pos: (2.72, -0.01), Label: 6, Pos: (-0.63, -0.68),\n",
       "                       Label: 6, Pos: (1.09, -0.88), Label: 6, Pos: (0.65, -0.19),\n",
       "                       Label: 6, Pos: (-0.74, 0.72), Label: 6, Pos: (1.81, 0.05),\n",
       "                       Label: 6, Pos: (1.31, -1.03), Label: 6, Pos: (0.81, -0.89),\n",
       "                       Label: 6, Pos: (0.47, -0.85), Label: 6, Pos: (-0.24, -1.17),\n",
       "                       Label: 6, Pos: (1.36, -0.65), Label: 6, Pos: (1.80, -0.90),\n",
       "                       Label: 6, Pos: (1.38, -1.06), Label: 6, Pos: (1.24, -1.13),\n",
       "                       Label: 6, Pos: (1.96, 1.02), Label: 6, Pos: (1.44, -0.49),\n",
       "                       Label: 6, Pos: (0.22, -1.54), Label: 6, Pos: (0.99, -0.17),\n",
       "                       Label: 6, Pos: (0.99, -0.66), Label: 6, Pos: (1.11, -0.98),\n",
       "                       Label: 6, Pos: (1.40, -0.94), Label: 6, Pos: (1.08, -0.92),\n",
       "                       Label: 6, Pos: (0.27, -0.16), Label: 6, Pos: (0.53, -0.75),\n",
       "                       Label: 6, Pos: (-0.57, -0.94), Label: 6, Pos: (0.04, -0.71),\n",
       "                       Label: 6, Pos: (1.18, -1.28), Label: 6, Pos: (0.02, -0.18),\n",
       "                       Label: 6, Pos: (-0.75, 0.81), Label: 6, Pos: (-0.38, 0.91),\n",
       "                       Label: 6, Pos: (0.93, -1.03), Label: 6, Pos: (2.18, -1.24),\n",
       "                       Label: 6, Pos: (1.91, 0.15)],\n",
       "              'type': 'scatter',\n",
       "              'uid': '274de87b-71c2-4839-b348-b71ca132c424',\n",
       "              'x': array([ 1.235101  ,  0.34780806,  1.9482602 ,  1.8811554 ,  1.8094385 ,\n",
       "                           0.13918845, -0.42233485,  0.6573651 ,  1.6152298 ,  0.42182732,\n",
       "                          -1.4472315 ,  0.6577132 ,  0.5892893 ,  0.8393639 ,  0.91891026,\n",
       "                           1.3347446 ,  1.6742296 , -0.2917909 , -0.13704254,  1.6505964 ,\n",
       "                          -0.34989542,  0.29308212,  0.4038081 ,  1.0741264 ,  0.42043173,\n",
       "                           0.2917516 , -0.39538485,  0.31525004,  1.5376055 ,  0.5808966 ,\n",
       "                          -0.0150348 , -0.24078941,  0.71058977, -0.6687834 , -0.6494675 ,\n",
       "                           1.3787545 ,  1.5791444 ,  1.28122   ,  0.80165964,  1.3189064 ,\n",
       "                           0.19442141,  0.45317367,  0.9346599 , -0.4374367 ,  2.029868  ,\n",
       "                           1.4128567 ,  0.5668866 , -0.92767704,  1.7009455 , -0.14383473,\n",
       "                           0.69944316,  0.13230486, -0.13193837,  0.41234922,  2.7211199 ,\n",
       "                          -0.6274928 ,  1.0856212 ,  0.65412486, -0.7413165 ,  1.8117843 ,\n",
       "                           1.3108797 ,  0.8134661 ,  0.46875748, -0.23675475,  1.3620174 ,\n",
       "                           1.7981251 ,  1.3813835 ,  1.2393749 ,  1.9613785 ,  1.4388548 ,\n",
       "                           0.21530353,  0.9870134 ,  0.98652506,  1.1093689 ,  1.3988028 ,\n",
       "                           1.0782231 ,  0.26969877,  0.5280283 , -0.5662616 ,  0.04310697,\n",
       "                           1.1758367 ,  0.02185599, -0.7472046 , -0.37597576,  0.9326792 ,\n",
       "                           2.1775184 ,  1.9137411 ], dtype=float32),\n",
       "              'y': array([-0.6452067 , -0.21278605, -1.7901059 , -0.12441587, -0.82443374,\n",
       "                          -1.5149338 , -0.17459083, -0.82020193, -0.04301525, -1.6259177 ,\n",
       "                           0.6268071 , -0.58328617,  0.4607513 , -0.6490904 , -0.91468763,\n",
       "                          -1.1685632 , -1.2223384 ,  0.6105968 , -1.7484896 , -1.6685977 ,\n",
       "                          -0.33602253, -0.38594586, -1.6482728 ,  0.70664865, -0.19655934,\n",
       "                          -1.5077909 , -1.1414093 , -0.9384992 , -1.3928039 , -1.5767882 ,\n",
       "                          -1.4604555 ,  0.32858172, -0.6974089 ,  1.7017981 ,  0.7223518 ,\n",
       "                          -2.1768622 , -0.52463794, -0.02011776, -1.3421208 , -0.49556693,\n",
       "                          -0.12852313, -1.3458971 , -0.37995255,  0.35652313, -1.1108005 ,\n",
       "                          -1.4770751 , -0.39673036,  1.4452869 , -1.2615066 , -1.1255034 ,\n",
       "                          -0.5053756 , -0.4662869 , -0.24222718,  0.5176848 , -0.00865602,\n",
       "                          -0.68111336, -0.88048375, -0.18513948,  0.7244159 ,  0.04771328,\n",
       "                          -1.0331715 , -0.8880783 , -0.8480115 , -1.1653718 , -0.6528611 ,\n",
       "                          -0.8974918 , -1.0606292 , -1.134456  ,  1.0195783 , -0.49407527,\n",
       "                          -1.5426909 , -0.16725084, -0.66013527, -0.976848  , -0.9382995 ,\n",
       "                          -0.92350364, -0.16241427, -0.7490024 , -0.93551236, -0.70995665,\n",
       "                          -1.2784837 , -0.17663325,  0.807534  ,  0.9057025 , -1.0266769 ,\n",
       "                          -1.2382988 ,  0.14763121], dtype=float32)},\n",
       "             {'hoverinfo': 'text',\n",
       "              'marker': {'color': '#B6E880', 'size': 10},\n",
       "              'mode': 'markers',\n",
       "              'name': '7',\n",
       "              'text': [Label: 7, Pos: (-1.29, -0.99), Label: 7, Pos: (0.87,\n",
       "                       -1.47), Label: 7, Pos: (0.97, -1.18), Label: 7, Pos: (-1.84,\n",
       "                       0.57), Label: 7, Pos: (-0.57, -0.02), Label: 7, Pos: (-1.58,\n",
       "                       -0.06), Label: 7, Pos: (-0.74, 1.55), Label: 7, Pos: (-0.86,\n",
       "                       -1.06), Label: 7, Pos: (-1.25, -0.66), Label: 7, Pos:\n",
       "                       (-0.37, 0.30), Label: 7, Pos: (-1.00, -0.63), Label: 7, Pos:\n",
       "                       (-1.35, 0.49), Label: 7, Pos: (-0.51, -0.35), Label: 7, Pos:\n",
       "                       (-0.09, -0.93), Label: 7, Pos: (-1.16, 0.09), Label: 7, Pos:\n",
       "                       (-0.79, -1.02), Label: 7, Pos: (-0.10, 0.93), Label: 7, Pos:\n",
       "                       (-0.96, 1.25), Label: 7, Pos: (0.40, -0.15), Label: 7, Pos:\n",
       "                       (-0.80, -1.65), Label: 7, Pos: (-2.18, 0.87), Label: 7, Pos:\n",
       "                       (0.63, -0.50), Label: 7, Pos: (-0.10, -2.10), Label: 7, Pos:\n",
       "                       (0.12, 0.74), Label: 7, Pos: (-1.16, -0.97), Label: 7, Pos:\n",
       "                       (-1.24, -0.02), Label: 7, Pos: (-0.77, -1.30), Label: 7,\n",
       "                       Pos: (0.86, -0.61), Label: 7, Pos: (-1.37, -0.13), Label: 7,\n",
       "                       Pos: (-0.13, -0.71), Label: 7, Pos: (0.05, 1.48), Label: 7,\n",
       "                       Pos: (-1.30, -1.01), Label: 7, Pos: (-0.75, 0.67), Label: 7,\n",
       "                       Pos: (-1.07, 0.50), Label: 7, Pos: (-0.79, 1.55), Label: 7,\n",
       "                       Pos: (0.02, -1.33), Label: 7, Pos: (-0.73, -0.39), Label: 7,\n",
       "                       Pos: (-0.51, 1.44), Label: 7, Pos: (0.59, 0.07), Label: 7,\n",
       "                       Pos: (-0.29, 1.13), Label: 7, Pos: (0.00, -0.70), Label: 7,\n",
       "                       Pos: (0.36, -0.01), Label: 7, Pos: (0.55, 0.29), Label: 7,\n",
       "                       Pos: (-0.70, -0.88), Label: 7, Pos: (-0.13, 0.86), Label: 7,\n",
       "                       Pos: (-0.12, 0.92), Label: 7, Pos: (-0.62, -0.33), Label: 7,\n",
       "                       Pos: (-0.98, 1.16), Label: 7, Pos: (-0.09, 0.14), Label: 7,\n",
       "                       Pos: (-0.49, -1.46), Label: 7, Pos: (-0.55, 0.99), Label: 7,\n",
       "                       Pos: (-1.43, 0.78), Label: 7, Pos: (-0.90, 1.35), Label: 7,\n",
       "                       Pos: (-1.54, -0.76), Label: 7, Pos: (0.08, -1.55), Label: 7,\n",
       "                       Pos: (-1.04, 1.16), Label: 7, Pos: (0.48, -0.24), Label: 7,\n",
       "                       Pos: (-0.92, 2.78), Label: 7, Pos: (-0.39, -0.11), Label: 7,\n",
       "                       Pos: (-1.23, -0.07), Label: 7, Pos: (0.11, -0.04), Label: 7,\n",
       "                       Pos: (-0.91, -1.55), Label: 7, Pos: (-0.62, -0.78), Label:\n",
       "                       7, Pos: (-1.17, 1.07), Label: 7, Pos: (-0.56, -1.69), Label:\n",
       "                       7, Pos: (0.15, 1.60), Label: 7, Pos: (-0.48, -0.38), Label:\n",
       "                       7, Pos: (-0.84, 0.21), Label: 7, Pos: (0.08, -0.37), Label:\n",
       "                       7, Pos: (0.41, 0.21), Label: 7, Pos: (-1.56, 1.02), Label:\n",
       "                       7, Pos: (-0.17, 0.15), Label: 7, Pos: (-1.25, 0.61), Label:\n",
       "                       7, Pos: (0.08, -1.35), Label: 7, Pos: (-0.78, -1.28), Label:\n",
       "                       7, Pos: (-0.62, -0.34), Label: 7, Pos: (-1.68, -0.57),\n",
       "                       Label: 7, Pos: (0.15, 1.18), Label: 7, Pos: (-1.76, -0.75),\n",
       "                       Label: 7, Pos: (0.51, -1.18), Label: 7, Pos: (-0.35, -1.43),\n",
       "                       Label: 7, Pos: (-0.29, -0.70), Label: 7, Pos: (-0.26,\n",
       "                       -1.19), Label: 7, Pos: (0.68, 1.16), Label: 7, Pos: (-1.53,\n",
       "                       1.44), Label: 7, Pos: (-0.81, 1.56), Label: 7, Pos: (-0.86,\n",
       "                       0.26), Label: 7, Pos: (-0.61, -0.21), Label: 7, Pos: (-0.75,\n",
       "                       -1.52), Label: 7, Pos: (-1.46, -0.87), Label: 7, Pos:\n",
       "                       (-1.52, -0.99), Label: 7, Pos: (0.87, -0.11), Label: 7, Pos:\n",
       "                       (-0.11, -0.63), Label: 7, Pos: (-0.41, -1.22), Label: 7,\n",
       "                       Pos: (-1.21, 0.43), Label: 7, Pos: (-0.63, -0.40), Label: 7,\n",
       "                       Pos: (-0.31, -1.49), Label: 7, Pos: (-1.34, -1.28), Label:\n",
       "                       7, Pos: (0.06, 1.82), Label: 7, Pos: (-0.44, 0.34), Label:\n",
       "                       7, Pos: (-1.01, 0.28), Label: 7, Pos: (0.66, -0.35), Label:\n",
       "                       7, Pos: (-1.26, -0.22), Label: 7, Pos: (0.88, -0.58), Label:\n",
       "                       7, Pos: (-0.73, 1.09), Label: 7, Pos: (-1.45, -0.08)],\n",
       "              'type': 'scatter',\n",
       "              'uid': 'b8c7cdf2-b631-4e3f-9293-b64fb1040d28',\n",
       "              'x': array([-1.2947079 ,  0.8679684 ,  0.96729094, -1.8364656 , -0.57172835,\n",
       "                          -1.5764301 , -0.7449363 , -0.85941947, -1.2540582 , -0.36537296,\n",
       "                          -1.0007906 , -1.3480253 , -0.51059884, -0.08538012, -1.1643095 ,\n",
       "                          -0.78699005, -0.09824165, -0.95642304,  0.40334448, -0.79970545,\n",
       "                          -2.1799815 ,  0.6325591 , -0.10032906,  0.11580531, -1.1581554 ,\n",
       "                          -1.2371854 , -0.76512307,  0.8614252 , -1.3706644 , -0.13035321,\n",
       "                           0.05442628, -1.2984035 , -0.7525434 , -1.0658685 , -0.7928026 ,\n",
       "                           0.02370427, -0.7338506 , -0.50594   ,  0.5885345 , -0.28572094,\n",
       "                           0.00276684,  0.35645953,  0.54737544, -0.6983878 , -0.12802102,\n",
       "                          -0.11887403, -0.6187223 , -0.9758565 , -0.09194602, -0.4903446 ,\n",
       "                          -0.5490718 , -1.4269434 , -0.90058845, -1.5432664 ,  0.07842141,\n",
       "                          -1.0417819 ,  0.47724745, -0.9221357 , -0.38556352, -1.2260169 ,\n",
       "                           0.11410355, -0.91458607, -0.62002766, -1.166342  , -0.5584039 ,\n",
       "                           0.15100901, -0.481541  , -0.8375762 ,  0.07987121,  0.40508407,\n",
       "                          -1.556183  , -0.1726044 , -1.2515888 ,  0.0812032 , -0.7843495 ,\n",
       "                          -0.62251586, -1.6840631 ,  0.14834255, -1.7636306 ,  0.50821   ,\n",
       "                          -0.35138103, -0.28867337, -0.26387686,  0.6825336 , -1.5315161 ,\n",
       "                          -0.8131578 , -0.864335  , -0.61030954, -0.7500756 , -1.4591812 ,\n",
       "                          -1.518022  ,  0.8731951 , -0.10660523, -0.4096945 , -1.2144662 ,\n",
       "                          -0.630137  , -0.31121865, -1.3411299 ,  0.06489019, -0.43620893,\n",
       "                          -1.0141954 ,  0.65892315, -1.2558777 ,  0.8781277 , -0.72939956,\n",
       "                          -1.4453701 ], dtype=float32),\n",
       "              'y': array([-0.9939757 , -1.4650922 , -1.1805515 ,  0.5728337 , -0.02492629,\n",
       "                          -0.05943839,  1.5481131 , -1.0634712 , -0.65869755,  0.29699293,\n",
       "                          -0.62885314,  0.4875584 , -0.35430318, -0.9303484 ,  0.08761097,\n",
       "                          -1.0199114 ,  0.9252227 ,  1.2489867 , -0.1506723 , -1.648207  ,\n",
       "                           0.8697417 , -0.50084114, -2.0967116 ,  0.74303627, -0.9678081 ,\n",
       "                          -0.01893787, -1.298138  , -0.61416256, -0.13084266, -0.7123429 ,\n",
       "                           1.4822288 , -1.006985  ,  0.6727121 ,  0.49573487,  1.5462112 ,\n",
       "                          -1.3280497 , -0.38883984,  1.444077  ,  0.06704181,  1.1250021 ,\n",
       "                          -0.69921243, -0.00671716,  0.29306114, -0.87975156,  0.8576977 ,\n",
       "                           0.9213521 , -0.32932866,  1.156897  ,  0.13767938, -1.4598465 ,\n",
       "                           0.9908159 ,  0.78104466,  1.3464718 , -0.7615095 , -1.5505875 ,\n",
       "                           1.1587071 , -0.24417068,  2.7844243 , -0.11015119, -0.07001357,\n",
       "                          -0.04041688, -1.548544  , -0.7824088 ,  1.0723937 , -1.6945335 ,\n",
       "                           1.6014835 , -0.37662143,  0.2135375 , -0.37107778,  0.21066947,\n",
       "                           1.015014  ,  0.15423577,  0.61416566, -1.3472147 , -1.2842534 ,\n",
       "                          -0.34096083, -0.57307476,  1.1800828 , -0.745765  , -1.180842  ,\n",
       "                          -1.4314412 , -0.69869065, -1.1933302 ,  1.1593767 ,  1.4385271 ,\n",
       "                           1.5595347 ,  0.260277  , -0.20966946, -1.5204811 , -0.8728453 ,\n",
       "                          -0.9888159 , -0.10626638, -0.63149875, -1.2217544 ,  0.42622125,\n",
       "                          -0.40150025, -1.4862746 , -1.2844087 ,  1.8176502 ,  0.33534133,\n",
       "                           0.27705666, -0.34511748, -0.21713772, -0.5813848 ,  1.0883822 ,\n",
       "                          -0.08080371], dtype=float32)},\n",
       "             {'hoverinfo': 'text',\n",
       "              'marker': {'color': '#FF97FF', 'size': 10},\n",
       "              'mode': 'markers',\n",
       "              'name': '8',\n",
       "              'text': [Label: 8, Pos: (0.45, 1.61), Label: 8, Pos: (-0.48, 2.73),\n",
       "                       Label: 8, Pos: (1.69, 1.00), Label: 8, Pos: (-0.59, 0.13),\n",
       "                       Label: 8, Pos: (-0.79, 0.82), Label: 8, Pos: (1.55, -0.55),\n",
       "                       Label: 8, Pos: (0.34, -0.75), Label: 8, Pos: (-0.82, -0.23),\n",
       "                       Label: 8, Pos: (0.36, -0.01), Label: 8, Pos: (0.12, 1.08),\n",
       "                       Label: 8, Pos: (0.88, 0.61), Label: 8, Pos: (0.38, 1.50),\n",
       "                       Label: 8, Pos: (-0.98, 0.87), Label: 8, Pos: (-0.70, 1.61),\n",
       "                       Label: 8, Pos: (0.49, 0.50), Label: 8, Pos: (1.09, -0.58),\n",
       "                       Label: 8, Pos: (-0.26, 2.13), Label: 8, Pos: (0.61, -0.93),\n",
       "                       Label: 8, Pos: (-1.08, 0.47), Label: 8, Pos: (1.15, -0.71),\n",
       "                       Label: 8, Pos: (1.16, 0.17), Label: 8, Pos: (-1.57, 0.83),\n",
       "                       Label: 8, Pos: (0.35, -0.32), Label: 8, Pos: (-0.02, 0.31),\n",
       "                       Label: 8, Pos: (-1.04, 2.55), Label: 8, Pos: (-0.78, 2.24),\n",
       "                       Label: 8, Pos: (-0.68, 1.31), Label: 8, Pos: (-0.35, 1.05),\n",
       "                       Label: 8, Pos: (-0.97, 1.91), Label: 8, Pos: (-0.70, -0.64),\n",
       "                       Label: 8, Pos: (-1.18, 1.69), Label: 8, Pos: (-1.30, 0.26),\n",
       "                       Label: 8, Pos: (-0.53, 0.70), Label: 8, Pos: (-0.15, -0.13),\n",
       "                       Label: 8, Pos: (-1.25, 2.22), Label: 8, Pos: (-1.22, 0.87),\n",
       "                       Label: 8, Pos: (-1.51, 1.78), Label: 8, Pos: (-0.59, 0.39),\n",
       "                       Label: 8, Pos: (-0.94, 2.73), Label: 8, Pos: (-0.38, 0.16),\n",
       "                       Label: 8, Pos: (0.80, 0.24), Label: 8, Pos: (-0.11, -0.52),\n",
       "                       Label: 8, Pos: (0.26, 0.20), Label: 8, Pos: (0.30, 0.53),\n",
       "                       Label: 8, Pos: (-0.38, 2.18), Label: 8, Pos: (-0.56, -0.73),\n",
       "                       Label: 8, Pos: (-0.35, 1.72), Label: 8, Pos: (-0.76, -0.52),\n",
       "                       Label: 8, Pos: (-0.43, -0.33), Label: 8, Pos: (1.13, -0.44),\n",
       "                       Label: 8, Pos: (-1.06, 1.86), Label: 8, Pos: (-0.54, 0.96),\n",
       "                       Label: 8, Pos: (-1.62, 1.74), Label: 8, Pos: (0.63, 1.09),\n",
       "                       Label: 8, Pos: (0.37, 0.36), Label: 8, Pos: (-0.35, 0.84),\n",
       "                       Label: 8, Pos: (-0.30, 0.65), Label: 8, Pos: (0.04, -0.86),\n",
       "                       Label: 8, Pos: (-0.02, 1.28), Label: 8, Pos: (-0.10, 2.24),\n",
       "                       Label: 8, Pos: (-0.15, -1.50), Label: 8, Pos: (1.32, -0.48),\n",
       "                       Label: 8, Pos: (-0.68, 3.02), Label: 8, Pos: (1.59, 0.94),\n",
       "                       Label: 8, Pos: (1.07, -1.69), Label: 8, Pos: (-0.17, -0.21),\n",
       "                       Label: 8, Pos: (-0.00, -0.85), Label: 8, Pos: (0.23, 1.47),\n",
       "                       Label: 8, Pos: (0.99, -0.68), Label: 8, Pos: (-0.34, -0.62),\n",
       "                       Label: 8, Pos: (-0.76, 0.57), Label: 8, Pos: (0.19, 0.44),\n",
       "                       Label: 8, Pos: (-1.32, 2.10), Label: 8, Pos: (1.72, -1.82),\n",
       "                       Label: 8, Pos: (-0.48, 2.74), Label: 8, Pos: (0.69, -0.69),\n",
       "                       Label: 8, Pos: (-0.89, 2.20), Label: 8, Pos: (0.17, 0.78),\n",
       "                       Label: 8, Pos: (-0.46, 0.62), Label: 8, Pos: (0.55, -0.93),\n",
       "                       Label: 8, Pos: (-1.10, 1.21), Label: 8, Pos: (-1.02, 0.88),\n",
       "                       Label: 8, Pos: (2.03, -0.27), Label: 8, Pos: (0.37, -0.03),\n",
       "                       Label: 8, Pos: (-0.74, 2.42), Label: 8, Pos: (-0.07, 0.64),\n",
       "                       Label: 8, Pos: (-0.20, 0.76), Label: 8, Pos: (-0.51, 1.07),\n",
       "                       Label: 8, Pos: (-1.16, 1.53), Label: 8, Pos: (-1.11, 0.33),\n",
       "                       Label: 8, Pos: (1.25, -0.93), Label: 8, Pos: (-1.76, 0.80),\n",
       "                       Label: 8, Pos: (-0.88, -0.00), Label: 8, Pos: (-0.82, 1.76),\n",
       "                       Label: 8, Pos: (-0.88, 0.36), Label: 8, Pos: (-0.35, -0.01),\n",
       "                       Label: 8, Pos: (0.58, -1.21), Label: 8, Pos: (-0.93, -0.38),\n",
       "                       Label: 8, Pos: (-0.98, 0.93), Label: 8, Pos: (-0.58, 0.45),\n",
       "                       Label: 8, Pos: (-1.33, -0.05), Label: 8, Pos: (-0.02,\n",
       "                       -0.09), Label: 8, Pos: (-1.08, 1.15), Label: 8, Pos: (-0.66,\n",
       "                       -1.32), Label: 8, Pos: (-0.96, 1.63)],\n",
       "              'type': 'scatter',\n",
       "              'uid': 'fcdef6db-8c98-432a-9346-1bd9de0a8f9c',\n",
       "              'x': array([ 0.44983885, -0.48403326,  1.6896393 , -0.5924199 , -0.78983325,\n",
       "                           1.5457512 ,  0.33932135, -0.8217804 ,  0.3601086 ,  0.11856981,\n",
       "                           0.88222486,  0.3845083 , -0.9767906 , -0.69509697,  0.4869931 ,\n",
       "                           1.0939871 , -0.26254827,  0.6086283 , -1.0797455 ,  1.149027  ,\n",
       "                           1.1602376 , -1.5692041 ,  0.34659627, -0.01793991, -1.0435414 ,\n",
       "                          -0.783085  , -0.6778091 , -0.3487907 , -0.96886903, -0.70478547,\n",
       "                          -1.1768496 , -1.3027835 , -0.5291845 , -0.14674002, -1.2510252 ,\n",
       "                          -1.216169  , -1.5132916 , -0.58518887, -0.9369649 , -0.3788316 ,\n",
       "                           0.7970818 , -0.10887811,  0.2561375 ,  0.29582056, -0.3768397 ,\n",
       "                          -0.5569834 , -0.34515354, -0.75869495, -0.4337502 ,  1.1293621 ,\n",
       "                          -1.0562574 , -0.53858554, -1.6239703 ,  0.62787014,  0.3692682 ,\n",
       "                          -0.35172692, -0.30248338,  0.03934271, -0.01956488, -0.09590852,\n",
       "                          -0.15014671,  1.3180792 , -0.6849915 ,  1.589232  ,  1.074726  ,\n",
       "                          -0.16808648, -0.0049004 ,  0.22889616,  0.9874454 , -0.34289947,\n",
       "                          -0.7564537 ,  0.19319685, -1.316435  ,  1.7225578 , -0.48009935,\n",
       "                           0.6900836 , -0.88897425,  0.16716038, -0.45777303,  0.5516143 ,\n",
       "                          -1.0983056 , -1.0162853 ,  2.0259242 ,  0.36648014, -0.742908  ,\n",
       "                          -0.06992944, -0.19675899, -0.505715  , -1.1583492 , -1.1095294 ,\n",
       "                           1.2531217 , -1.7565761 , -0.8771046 , -0.82278216, -0.8776548 ,\n",
       "                          -0.3525448 ,  0.5832828 , -0.9270697 , -0.9787761 , -0.5785837 ,\n",
       "                          -1.3340539 , -0.01538832, -1.0768996 , -0.65589637, -0.95525855],\n",
       "                         dtype=float32),\n",
       "              'y': array([ 1.61086202e+00,  2.73229861e+00,  9.99838352e-01,  1.29541159e-01,\n",
       "                           8.16086292e-01, -5.48105419e-01, -7.51621187e-01, -2.30091915e-01,\n",
       "                          -1.08370865e-02,  1.08279443e+00,  6.05870187e-01,  1.49535811e+00,\n",
       "                           8.72166455e-01,  1.60528266e+00,  5.00000596e-01, -5.83529055e-01,\n",
       "                           2.12726665e+00, -9.33147073e-01,  4.73152041e-01, -7.12589622e-01,\n",
       "                           1.73534974e-01,  8.29224229e-01, -3.24110985e-01,  3.09173346e-01,\n",
       "                           2.54992723e+00,  2.24033737e+00,  1.30601013e+00,  1.04784918e+00,\n",
       "                           1.90844202e+00, -6.42830729e-01,  1.69171309e+00,  2.55132914e-01,\n",
       "                           6.98635638e-01, -1.25522047e-01,  2.21653342e+00,  8.68100703e-01,\n",
       "                           1.78323472e+00,  3.92464221e-01,  2.73201489e+00,  1.57249510e-01,\n",
       "                           2.39132404e-01, -5.16281128e-01,  1.95460260e-01,  5.25471449e-01,\n",
       "                           2.18301320e+00, -7.32162952e-01,  1.71985054e+00, -5.19904077e-01,\n",
       "                          -3.27182412e-01, -4.35153484e-01,  1.86103928e+00,  9.59119022e-01,\n",
       "                           1.73794842e+00,  1.08521509e+00,  3.62297922e-01,  8.36695254e-01,\n",
       "                           6.49013937e-01, -8.61411750e-01,  1.28373790e+00,  2.24428201e+00,\n",
       "                          -1.49742723e+00, -4.75777179e-01,  3.02189755e+00,  9.42776144e-01,\n",
       "                          -1.68586838e+00, -2.09301561e-01, -8.53929639e-01,  1.47460949e+00,\n",
       "                          -6.78173065e-01, -6.19323492e-01,  5.69227099e-01,  4.44384217e-01,\n",
       "                           2.09853125e+00, -1.81504321e+00,  2.73528004e+00, -6.86844707e-01,\n",
       "                           2.19670844e+00,  7.80753672e-01,  6.18741274e-01, -9.27971959e-01,\n",
       "                           1.21252358e+00,  8.79326165e-01, -2.74391323e-01, -3.10533028e-02,\n",
       "                           2.41888094e+00,  6.42206967e-01,  7.58944631e-01,  1.06563568e+00,\n",
       "                           1.52531326e+00,  3.33050013e-01, -9.25274074e-01,  7.96027362e-01,\n",
       "                          -2.32570455e-03,  1.76028419e+00,  3.56586576e-01, -7.02464115e-03,\n",
       "                          -1.20548618e+00, -3.76624644e-01,  9.26951528e-01,  4.47802454e-01,\n",
       "                          -5.15398271e-02, -8.63132104e-02,  1.14878285e+00, -1.32024229e+00,\n",
       "                           1.62601984e+00], dtype=float32)},\n",
       "             {'hoverinfo': 'text',\n",
       "              'marker': {'color': '#FECB52', 'size': 10},\n",
       "              'mode': 'markers',\n",
       "              'name': '9',\n",
       "              'text': [Label: 9, Pos: (-1.41, 0.02), Label: 9, Pos: (-0.69,\n",
       "                       -0.71), Label: 9, Pos: (-1.61, 0.15), Label: 9, Pos: (0.08,\n",
       "                       0.94), Label: 9, Pos: (-1.30, -0.81), Label: 9, Pos: (-0.59,\n",
       "                       -0.90), Label: 9, Pos: (-0.80, -0.07), Label: 9, Pos:\n",
       "                       (-1.12, -1.37), Label: 9, Pos: (0.40, -1.05), Label: 9, Pos:\n",
       "                       (-1.82, -1.19), Label: 9, Pos: (-1.60, -0.74), Label: 9,\n",
       "                       Pos: (0.68, 0.31), Label: 9, Pos: (0.51, -1.32), Label: 9,\n",
       "                       Pos: (0.36, -1.45), Label: 9, Pos: (0.07, -1.66), Label: 9,\n",
       "                       Pos: (-0.69, 2.00), Label: 9, Pos: (-0.06, 0.48), Label: 9,\n",
       "                       Pos: (-1.35, 1.41), Label: 9, Pos: (-0.80, 0.61), Label: 9,\n",
       "                       Pos: (0.17, -0.88), Label: 9, Pos: (-0.76, -0.94), Label: 9,\n",
       "                       Pos: (-1.71, -1.30), Label: 9, Pos: (-0.87, 0.20), Label: 9,\n",
       "                       Pos: (0.15, 0.20), Label: 9, Pos: (-1.02, -0.96), Label: 9,\n",
       "                       Pos: (-0.59, -0.20), Label: 9, Pos: (-0.90, -0.33), Label:\n",
       "                       9, Pos: (-1.87, 0.09), Label: 9, Pos: (0.25, -1.30), Label:\n",
       "                       9, Pos: (-1.36, 0.77), Label: 9, Pos: (-0.19, -2.16), Label:\n",
       "                       9, Pos: (0.10, -0.20), Label: 9, Pos: (0.63, -0.34), Label:\n",
       "                       9, Pos: (-1.26, 0.47), Label: 9, Pos: (-0.10, -1.92), Label:\n",
       "                       9, Pos: (-1.18, -0.19), Label: 9, Pos: (0.52, 0.09), Label:\n",
       "                       9, Pos: (-1.24, -0.38), Label: 9, Pos: (-0.57, -0.54),\n",
       "                       Label: 9, Pos: (-1.00, 0.74), Label: 9, Pos: (-1.08, -0.78),\n",
       "                       Label: 9, Pos: (-0.63, 0.63), Label: 9, Pos: (0.81, -0.37),\n",
       "                       Label: 9, Pos: (-0.87, -1.34), Label: 9, Pos: (0.21, -1.07),\n",
       "                       Label: 9, Pos: (0.16, 1.16), Label: 9, Pos: (0.38, 0.68),\n",
       "                       Label: 9, Pos: (0.43, -2.31), Label: 9, Pos: (0.12, -0.83),\n",
       "                       Label: 9, Pos: (-1.43, -0.10), Label: 9, Pos: (0.20, -2.56),\n",
       "                       Label: 9, Pos: (-1.61, 0.15), Label: 9, Pos: (-0.90, -0.59),\n",
       "                       Label: 9, Pos: (-1.54, 0.16), Label: 9, Pos: (-0.48, -1.42),\n",
       "                       Label: 9, Pos: (0.37, -2.34), Label: 9, Pos: (-0.75, -1.64),\n",
       "                       Label: 9, Pos: (-0.00, -1.24), Label: 9, Pos: (-1.60,\n",
       "                       -0.80), Label: 9, Pos: (-0.36, -0.38), Label: 9, Pos: (0.99,\n",
       "                       -2.17), Label: 9, Pos: (-1.48, 0.32), Label: 9, Pos: (0.05,\n",
       "                       0.53), Label: 9, Pos: (0.68, -1.30), Label: 9, Pos: (0.07,\n",
       "                       -1.05), Label: 9, Pos: (-0.22, -2.48), Label: 9, Pos:\n",
       "                       (-0.18, -1.99), Label: 9, Pos: (0.34, -1.88), Label: 9, Pos:\n",
       "                       (-0.33, -2.05), Label: 9, Pos: (0.13, 0.05), Label: 9, Pos:\n",
       "                       (-0.06, 0.22), Label: 9, Pos: (-0.65, 0.26), Label: 9, Pos:\n",
       "                       (-1.23, -0.13), Label: 9, Pos: (0.76, -0.64), Label: 9, Pos:\n",
       "                       (-0.32, -1.40), Label: 9, Pos: (-0.12, -1.77), Label: 9,\n",
       "                       Pos: (-0.73, 1.26), Label: 9, Pos: (-0.50, -0.41), Label: 9,\n",
       "                       Pos: (-0.87, -0.34), Label: 9, Pos: (-1.08, -0.19), Label:\n",
       "                       9, Pos: (1.47, -1.98), Label: 9, Pos: (2.43, -0.76), Label:\n",
       "                       9, Pos: (1.25, -0.40), Label: 9, Pos: (-0.61, -1.88), Label:\n",
       "                       9, Pos: (-0.25, -0.58), Label: 9, Pos: (-0.19, 2.64), Label:\n",
       "                       9, Pos: (0.27, -1.53), Label: 9, Pos: (-0.78, 0.36), Label:\n",
       "                       9, Pos: (2.05, -1.16), Label: 9, Pos: (-1.40, -1.04), Label:\n",
       "                       9, Pos: (0.15, -0.19), Label: 9, Pos: (-0.21, -0.88), Label:\n",
       "                       9, Pos: (0.12, 1.66)],\n",
       "              'type': 'scatter',\n",
       "              'uid': 'cd7e96d7-110f-4ccc-bea1-c570770f3caa',\n",
       "              'x': array([-1.40739202e+00, -6.90451503e-01, -1.60762572e+00,  8.11582506e-02,\n",
       "                          -1.30261362e+00, -5.86946011e-01, -8.01014721e-01, -1.11679983e+00,\n",
       "                           3.99195582e-01, -1.81785917e+00, -1.59564590e+00,  6.83608472e-01,\n",
       "                           5.11733294e-01,  3.62170666e-01,  7.14901760e-02, -6.93525732e-01,\n",
       "                          -5.89970462e-02, -1.35129392e+00, -8.01234961e-01,  1.72411591e-01,\n",
       "                          -7.55994916e-01, -1.71257663e+00, -8.65578771e-01,  1.45627782e-01,\n",
       "                          -1.01506662e+00, -5.94825327e-01, -9.02155101e-01, -1.87405455e+00,\n",
       "                           2.51092613e-01, -1.35750949e+00, -1.94568396e-01,  1.02324225e-01,\n",
       "                           6.26809120e-01, -1.25589919e+00, -9.63001400e-02, -1.17802393e+00,\n",
       "                           5.16319036e-01, -1.23616159e+00, -5.66064775e-01, -9.99928772e-01,\n",
       "                          -1.08449733e+00, -6.32232428e-01,  8.05285335e-01, -8.74663055e-01,\n",
       "                           2.07664922e-01,  1.64606690e-01,  3.75979930e-01,  4.27203417e-01,\n",
       "                           1.19910710e-01, -1.43096828e+00,  2.03060091e-01, -1.61384177e+00,\n",
       "                          -9.00413752e-01, -1.54120195e+00, -4.84798700e-01,  3.68570179e-01,\n",
       "                          -7.53179371e-01, -1.50348374e-03, -1.59634244e+00, -3.63364637e-01,\n",
       "                           9.92892444e-01, -1.47619128e+00,  4.97512147e-02,  6.78740740e-01,\n",
       "                           6.62303939e-02, -2.22874820e-01, -1.80013523e-01,  3.44918847e-01,\n",
       "                          -3.25840652e-01,  1.32519394e-01, -5.85662425e-02, -6.47157788e-01,\n",
       "                          -1.22809517e+00,  7.55198896e-01, -3.16330642e-01, -1.22998357e-01,\n",
       "                          -7.34950960e-01, -5.03364861e-01, -8.67300630e-01, -1.08361208e+00,\n",
       "                           1.47002017e+00,  2.42936683e+00,  1.24642050e+00, -6.14006758e-01,\n",
       "                          -2.47222096e-01, -1.91790119e-01,  2.73567051e-01, -7.80738175e-01,\n",
       "                           2.05395532e+00, -1.39842057e+00,  1.45351514e-01, -2.13476419e-01,\n",
       "                           1.24678783e-01], dtype=float32),\n",
       "              'y': array([ 0.0184861 , -0.7133353 ,  0.14884621,  0.9447297 , -0.81009394,\n",
       "                          -0.89513314, -0.07447394, -1.3665009 , -1.052069  , -1.1940434 ,\n",
       "                          -0.7353406 ,  0.30903274, -1.3170564 , -1.4480199 , -1.6611571 ,\n",
       "                           2.004831  ,  0.4826548 ,  1.4054253 ,  0.6143213 , -0.8832423 ,\n",
       "                          -0.93970865, -1.2976528 ,  0.20419487,  0.20493478, -0.96468025,\n",
       "                          -0.19690783, -0.32741112,  0.0873321 , -1.3040488 ,  0.7664501 ,\n",
       "                          -2.160208  , -0.19521874, -0.34162244,  0.46994784, -1.915081  ,\n",
       "                          -0.18514356,  0.09430847, -0.37766013, -0.535591  ,  0.74064124,\n",
       "                          -0.77513593,  0.6296819 , -0.3689686 , -1.3429446 , -1.0730039 ,\n",
       "                           1.1615285 ,  0.6806387 , -2.3058424 , -0.8255263 , -0.10219844,\n",
       "                          -2.5628278 ,  0.15093698, -0.5895435 ,  0.15700419, -1.4209735 ,\n",
       "                          -2.337762  , -1.6382705 , -1.2427207 , -0.79592544, -0.38292795,\n",
       "                          -2.170335  ,  0.31552398,  0.53028953, -1.2951999 , -1.0454928 ,\n",
       "                          -2.4780717 , -1.9945937 , -1.8842604 , -2.0525787 ,  0.05292018,\n",
       "                           0.21612917,  0.2553875 , -0.12834366, -0.6371281 , -1.3980829 ,\n",
       "                          -1.7742947 ,  1.257887  , -0.4090697 , -0.34443164, -0.18669601,\n",
       "                          -1.9767962 , -0.7595868 , -0.3986208 , -1.8833829 , -0.5810416 ,\n",
       "                           2.6375613 , -1.5314443 ,  0.36143976, -1.1623453 , -1.0376588 ,\n",
       "                          -0.19043666, -0.88361585,  1.6617708 ], dtype=float32)}],\n",
       "    'layout': {'height': 600,\n",
       "               'legend': {'title': {'text': 'Digit Label'}},\n",
       "               'template': '...',\n",
       "               'title': {'text': 'Best layer-constrained VAE Latent Space Visualization of MNIST Training Dataset'},\n",
       "               'width': 800,\n",
       "               'xaxis': {'title': {'text': 'Principal Component 1'}},\n",
       "               'yaxis': {'title': {'text': 'Principal Component 2'}}}\n",
       "})"
      ]
     },
     "metadata": {},
     "output_type": "display_data"
    }
   ],
   "source": [
    "plot_latent_space_interactive(best_Lake_VAE, trainloader, DEVICE, 'Best layer-constrained VAE', 'Training')\n",
    "# plot_latent_space_interactive(best_Lake_VAE, validationloader, DEVICE, 'Best layer-constrained VAE', 'Validiation')"
   ]
  }
 ],
 "metadata": {
  "kernelspec": {
   "display_name": "Python 3 (ipykernel)",
   "language": "python",
   "name": "python3"
  },
  "language_info": {
   "codemirror_mode": {
    "name": "ipython",
    "version": 3
   },
   "file_extension": ".py",
   "mimetype": "text/x-python",
   "name": "python",
   "nbconvert_exporter": "python",
   "pygments_lexer": "ipython3",
   "version": "3.9.16"
  }
 },
 "nbformat": 4,
 "nbformat_minor": 4
}

{
 "cells": [
  {
   "cell_type": "code",
   "execution_count": 1,
   "id": "9c37c59c-3f64-4831-b941-2ee2df1eb020",
   "metadata": {},
   "outputs": [],
   "source": [
    "from IPython.display import display, clear_output\n",
    "import plotly.graph_objs as go\n",
    "import matplotlib.pyplot as plt\n",
    "\n",
    "import numpy as np\n",
    "import pandas as pd \n",
    "import time\n",
    "import os\n",
    "\n",
    "import torch\n",
    "import torch.nn as nn\n",
    "import torch.nn.functional as F\n",
    "from torch.utils.data import DataLoader, random_split\n",
    "from torchvision import datasets, transforms\n",
    "\n",
    "from sklearn.decomposition import PCA"
   ]
  },
  {
   "cell_type": "code",
   "execution_count": 2,
   "id": "38836224-bc17-4636-a579-16ce0944b3d6",
   "metadata": {},
   "outputs": [],
   "source": [
    "def load_model(model, path, device):\n",
    "    model.load_state_dict(torch.load(path, map_location=device))"
   ]
  },
  {
   "cell_type": "code",
   "execution_count": 3,
   "id": "a07e93ad-4a50-44d1-9fd0-b2ce8555b551",
   "metadata": {},
   "outputs": [],
   "source": [
    "transform = transforms.Compose([transforms.ToTensor()])\n",
    "\n",
    "# Download the MNIST dataset\n",
    "mnist_trainset = datasets.MNIST(root='~/.pytorch/MNIST_data/', train=True, download=True, transform=transform)\n",
    "\n",
    "# Splitting the dataset into train and validation sets\n",
    "train_size = int(0.8 * len(mnist_trainset))\n",
    "validation_size = len(mnist_trainset) - train_size\n",
    "train_dataset, validation_dataset = random_split(mnist_trainset, [train_size, validation_size])\n",
    "\n",
    "# Download and load the test data\n",
    "test_dataset = datasets.MNIST(root='~/.pytorch/MNIST_data/', train=False, download=True, transform=transform)"
   ]
  },
  {
   "cell_type": "code",
   "execution_count": 4,
   "id": "e3f51fb7-4595-4607-8f82-f834c1a2b7e9",
   "metadata": {},
   "outputs": [
    {
     "ename": "NameError",
     "evalue": "name 'StandardVAE' is not defined",
     "output_type": "error",
     "traceback": [
      "\u001b[0;31m---------------------------------------------------------------------------\u001b[0m",
      "\u001b[0;31mNameError\u001b[0m                                 Traceback (most recent call last)",
      "Cell \u001b[0;32mIn[4], line 10\u001b[0m\n\u001b[1;32m      7\u001b[0m validationloader \u001b[38;5;241m=\u001b[39m DataLoader(validation_dataset, batch_size\u001b[38;5;241m=\u001b[39mbatch_size, shuffle\u001b[38;5;241m=\u001b[39m\u001b[38;5;28;01mTrue\u001b[39;00m, drop_last\u001b[38;5;241m=\u001b[39m\u001b[38;5;28;01mFalse\u001b[39;00m)\n\u001b[1;32m      8\u001b[0m testloader \u001b[38;5;241m=\u001b[39m DataLoader(test_dataset, batch_size\u001b[38;5;241m=\u001b[39mbatch_size, shuffle\u001b[38;5;241m=\u001b[39m\u001b[38;5;28;01mTrue\u001b[39;00m, drop_last\u001b[38;5;241m=\u001b[39m\u001b[38;5;28;01mFalse\u001b[39;00m)\n\u001b[0;32m---> 10\u001b[0m Standard_VAE \u001b[38;5;241m=\u001b[39m \u001b[43mStandardVAE\u001b[49m()\u001b[38;5;241m.\u001b[39mto(DEVICE)\n\u001b[1;32m     11\u001b[0m Lake_VAE \u001b[38;5;241m=\u001b[39m LakeVAE()\u001b[38;5;241m.\u001b[39mto(DEVICE)\n",
      "\u001b[0;31mNameError\u001b[0m: name 'StandardVAE' is not defined"
     ]
    }
   ],
   "source": [
    "# Training parameters\n",
    "batch_size = 64\n",
    "learning_rate = 1e-3\n",
    "epochs = 2 \n",
    "\n",
    "trainloader = DataLoader(train_dataset, batch_size=batch_size, shuffle=True, drop_last=False)\n",
    "validationloader = DataLoader(validation_dataset, batch_size=batch_size, shuffle=True, drop_last=False)\n",
    "testloader = DataLoader(test_dataset, batch_size=batch_size, shuffle=True, drop_last=False)\n",
    "\n",
    "Standard_VAE = StandardVAE().to(DEVICE)\n",
    "Lake_VAE = LakeVAE().to(DEVICE)"
   ]
  },
  {
   "cell_type": "code",
   "execution_count": null,
   "id": "b2182c92-d070-48d4-b0f5-90425e4733e9",
   "metadata": {},
   "outputs": [],
   "source": [
    "# Replace 'X' and 'Y' with the actual epoch numbers for the best Standard_VAE and Lake_VAE models, respectively\n",
    "best_standard_vae_path = 'best_Standard_VAE_epoch_4.pth'\n",
    "best_lake_vae_path = 'best_Lake_VAE_epoch_4.pth'\n",
    "\n",
    "# Load the best models\n",
    "best_Standard_VAE = StandardVAE().to(DEVICE)\n",
    "load_model(best_Standard_VAE, best_standard_vae_path, DEVICE)\n",
    "\n",
    "best_Lake_VAE = LakeVAE().to(DEVICE)\n",
    "load_model(best_Lake_VAE, best_lake_vae_path, DEVICE)"
   ]
  }
 ],
 "metadata": {
  "kernelspec": {
   "display_name": "Python 3 (ipykernel)",
   "language": "python",
   "name": "python3"
  },
  "language_info": {
   "codemirror_mode": {
    "name": "ipython",
    "version": 3
   },
   "file_extension": ".py",
   "mimetype": "text/x-python",
   "name": "python",
   "nbconvert_exporter": "python",
   "pygments_lexer": "ipython3",
   "version": "3.9.16"
  }
 },
 "nbformat": 4,
 "nbformat_minor": 5
}
